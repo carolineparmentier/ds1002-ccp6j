{
  "nbformat": 4,
  "nbformat_minor": 0,
  "metadata": {
    "colab": {
      "provenance": [],
      "include_colab_link": true
    },
    "kernelspec": {
      "name": "ir",
      "display_name": "R"
    },
    "language_info": {
      "name": "R"
    }
  },
  "cells": [
    {
      "cell_type": "markdown",
      "metadata": {
        "id": "view-in-github",
        "colab_type": "text"
      },
      "source": [
        "<a href=\"https://colab.research.google.com/github/carolineparmentier/ds1002-ccp6j/blob/main/Parmentier_week_15.ipynb\" target=\"_parent\"><img src=\"https://colab.research.google.com/assets/colab-badge.svg\" alt=\"Open In Colab\"/></a>"
      ]
    },
    {
      "cell_type": "markdown",
      "source": [
        "# Homework - Week 15\n",
        "\n",
        "Complete the following blocks as specified in the directions. Run each cell to return the desired output. Save your notebook back to your GitHub repository and submit the GitHub URL to your notebook for review."
      ],
      "metadata": {
        "id": "sZruw3XQogej"
      }
    },
    {
      "cell_type": "markdown",
      "source": [
        "## 1. Create Functions (4 pts)\n",
        "\n",
        "Create two functions in the cells below, according to the prompts given."
      ],
      "metadata": {
        "id": "lkaofBQypx1X"
      }
    },
    {
      "cell_type": "code",
      "source": [
        "# create a function in R that:\n",
        "#   1. takes a single integer as an input parameter\n",
        "#   2. determines whether the integer is even or odd\n",
        "#   3. returns a character statement \"The integer <x> is even\" or \"The integer <x> is odd\" (replace <x> with the actual input provided)\n",
        "#\n",
        "# then execute the function twice using two different input values, displaying even and odd results.\n",
        "\n",
        "is_odd <- function(x){ if (x %% 2 == 1) {\n",
        "    sprintf(\"The integer %i is odd\", x)\n",
        "  } else {\n",
        "    sprintf(\"The integer %i is even\", x)\n",
        "  }\n",
        "}"
      ],
      "metadata": {
        "id": "1fjq5bkEp6Zv"
      },
      "execution_count": null,
      "outputs": []
    },
    {
      "cell_type": "code",
      "source": [
        "is_odd(5)"
      ],
      "metadata": {
        "colab": {
          "base_uri": "https://localhost:8080/",
          "height": 34
        },
        "id": "Dv10dVAI4l_x",
        "outputId": "691f3768-e18b-4380-8965-7a19169c471c"
      },
      "execution_count": null,
      "outputs": [
        {
          "output_type": "display_data",
          "data": {
            "text/html": [
              "'The integer 5 is odd'"
            ],
            "text/markdown": "'The integer 5 is odd'",
            "text/latex": "'The integer 5 is odd'",
            "text/plain": [
              "[1] \"The integer 5 is odd\""
            ]
          },
          "metadata": {}
        }
      ]
    },
    {
      "cell_type": "code",
      "source": [
        "is_odd(6)"
      ],
      "metadata": {
        "colab": {
          "base_uri": "https://localhost:8080/",
          "height": 34
        },
        "id": "zaS-7sLp41zE",
        "outputId": "e699d061-419d-4ed7-f4a3-a9b0605b3521"
      },
      "execution_count": null,
      "outputs": [
        {
          "output_type": "display_data",
          "data": {
            "text/html": [
              "'The integer 6 is even'"
            ],
            "text/markdown": "'The integer 6 is even'",
            "text/latex": "'The integer 6 is even'",
            "text/plain": [
              "[1] \"The integer 6 is even\""
            ]
          },
          "metadata": {}
        }
      ]
    },
    {
      "cell_type": "code",
      "source": [
        "# create a function in R that:\n",
        "#   1. takes 4 integer input parameters\n",
        "#   2. returns the mean value of the inputs\n",
        "#   3. has default values for the 4 input parameters, in case they are not provided when the function is called.\n",
        "#\n",
        "# then execute the function twice: once where you provide the input values, and once where you do not.\n",
        "\n",
        "compute_mean <- function(var1 = 1, var2 = 2, var3 = 3, var4 = 4) {\n",
        "  mean <- (var1 + var2 + var3 + var4)/4\n",
        "  mean\n",
        "}"
      ],
      "metadata": {
        "id": "f3IFD-T6p6Rd"
      },
      "execution_count": null,
      "outputs": []
    },
    {
      "cell_type": "code",
      "source": [
        "compute_mean(2,4,6,8)"
      ],
      "metadata": {
        "colab": {
          "base_uri": "https://localhost:8080/",
          "height": 34
        },
        "id": "GiyP6kHF6Br2",
        "outputId": "78f29c36-6421-489d-f554-72d502bf0be2"
      },
      "execution_count": null,
      "outputs": [
        {
          "output_type": "display_data",
          "data": {
            "text/html": [
              "5"
            ],
            "text/markdown": "5",
            "text/latex": "5",
            "text/plain": [
              "[1] 5"
            ]
          },
          "metadata": {}
        }
      ]
    },
    {
      "cell_type": "code",
      "source": [
        "compute_mean()"
      ],
      "metadata": {
        "colab": {
          "base_uri": "https://localhost:8080/",
          "height": 34
        },
        "id": "-VTdGc-R6RPC",
        "outputId": "db65e5e6-fb15-42a0-a3cd-560ac7a64287"
      },
      "execution_count": null,
      "outputs": [
        {
          "output_type": "display_data",
          "data": {
            "text/html": [
              "2.5"
            ],
            "text/markdown": "2.5",
            "text/latex": "2.5",
            "text/plain": [
              "[1] 2.5"
            ]
          },
          "metadata": {}
        }
      ]
    },
    {
      "cell_type": "markdown",
      "source": [
        "## 2. Plot Data (4 pts)"
      ],
      "metadata": {
        "id": "F6Rx0GIGrpOB"
      }
    },
    {
      "cell_type": "markdown",
      "source": [
        "In the cell below, write the code required to plot from the `msleep` sample data set.\n",
        "\n",
        "1. Display only animals with body weights of 30 or greater.\n",
        "2. Group the animals by `order`.\n",
        "3. Display the mean `sleep_total` for each group in a bar plot."
      ],
      "metadata": {
        "id": "IDLyOjOJsFCX"
      }
    },
    {
      "cell_type": "code",
      "source": [
        "#\n",
        "library(ggplot2)\n",
        "library(dplyr)\n",
        "msleep"
      ],
      "metadata": {
        "id": "0D5Ia-BPsoPZ",
        "colab": {
          "base_uri": "https://localhost:8080/",
          "height": 1000
        },
        "outputId": "90cc3f9a-f4d8-495c-bed0-301a2e9f774a"
      },
      "execution_count": 1,
      "outputs": [
        {
          "output_type": "stream",
          "name": "stderr",
          "text": [
            "\n",
            "Attaching package: ‘dplyr’\n",
            "\n",
            "\n",
            "The following objects are masked from ‘package:stats’:\n",
            "\n",
            "    filter, lag\n",
            "\n",
            "\n",
            "The following objects are masked from ‘package:base’:\n",
            "\n",
            "    intersect, setdiff, setequal, union\n",
            "\n",
            "\n"
          ]
        },
        {
          "output_type": "display_data",
          "data": {
            "text/html": [
              "<table class=\"dataframe\">\n",
              "<caption>A tibble: 83 × 11</caption>\n",
              "<thead>\n",
              "\t<tr><th scope=col>name</th><th scope=col>genus</th><th scope=col>vore</th><th scope=col>order</th><th scope=col>conservation</th><th scope=col>sleep_total</th><th scope=col>sleep_rem</th><th scope=col>sleep_cycle</th><th scope=col>awake</th><th scope=col>brainwt</th><th scope=col>bodywt</th></tr>\n",
              "\t<tr><th scope=col>&lt;chr&gt;</th><th scope=col>&lt;chr&gt;</th><th scope=col>&lt;chr&gt;</th><th scope=col>&lt;chr&gt;</th><th scope=col>&lt;chr&gt;</th><th scope=col>&lt;dbl&gt;</th><th scope=col>&lt;dbl&gt;</th><th scope=col>&lt;dbl&gt;</th><th scope=col>&lt;dbl&gt;</th><th scope=col>&lt;dbl&gt;</th><th scope=col>&lt;dbl&gt;</th></tr>\n",
              "</thead>\n",
              "<tbody>\n",
              "\t<tr><td>Cheetah                   </td><td>Acinonyx     </td><td>carni  </td><td>Carnivora      </td><td>lc          </td><td>12.1</td><td> NA</td><td>       NA</td><td>11.9</td><td>     NA</td><td>  50.000</td></tr>\n",
              "\t<tr><td>Owl monkey                </td><td>Aotus        </td><td>omni   </td><td>Primates       </td><td>NA          </td><td>17.0</td><td>1.8</td><td>       NA</td><td> 7.0</td><td>0.01550</td><td>   0.480</td></tr>\n",
              "\t<tr><td>Mountain beaver           </td><td>Aplodontia   </td><td>herbi  </td><td>Rodentia       </td><td>nt          </td><td>14.4</td><td>2.4</td><td>       NA</td><td> 9.6</td><td>     NA</td><td>   1.350</td></tr>\n",
              "\t<tr><td>Greater short-tailed shrew</td><td>Blarina      </td><td>omni   </td><td>Soricomorpha   </td><td>lc          </td><td>14.9</td><td>2.3</td><td>0.1333333</td><td> 9.1</td><td>0.00029</td><td>   0.019</td></tr>\n",
              "\t<tr><td>Cow                       </td><td>Bos          </td><td>herbi  </td><td>Artiodactyla   </td><td>domesticated</td><td> 4.0</td><td>0.7</td><td>0.6666667</td><td>20.0</td><td>0.42300</td><td> 600.000</td></tr>\n",
              "\t<tr><td>Three-toed sloth          </td><td>Bradypus     </td><td>herbi  </td><td>Pilosa         </td><td>NA          </td><td>14.4</td><td>2.2</td><td>0.7666667</td><td> 9.6</td><td>     NA</td><td>   3.850</td></tr>\n",
              "\t<tr><td>Northern fur seal         </td><td>Callorhinus  </td><td>carni  </td><td>Carnivora      </td><td>vu          </td><td> 8.7</td><td>1.4</td><td>0.3833333</td><td>15.3</td><td>     NA</td><td>  20.490</td></tr>\n",
              "\t<tr><td>Vesper mouse              </td><td>Calomys      </td><td>NA     </td><td>Rodentia       </td><td>NA          </td><td> 7.0</td><td> NA</td><td>       NA</td><td>17.0</td><td>     NA</td><td>   0.045</td></tr>\n",
              "\t<tr><td>Dog                       </td><td>Canis        </td><td>carni  </td><td>Carnivora      </td><td>domesticated</td><td>10.1</td><td>2.9</td><td>0.3333333</td><td>13.9</td><td>0.07000</td><td>  14.000</td></tr>\n",
              "\t<tr><td>Roe deer                  </td><td>Capreolus    </td><td>herbi  </td><td>Artiodactyla   </td><td>lc          </td><td> 3.0</td><td> NA</td><td>       NA</td><td>21.0</td><td>0.09820</td><td>  14.800</td></tr>\n",
              "\t<tr><td>Goat                      </td><td>Capri        </td><td>herbi  </td><td>Artiodactyla   </td><td>lc          </td><td> 5.3</td><td>0.6</td><td>       NA</td><td>18.7</td><td>0.11500</td><td>  33.500</td></tr>\n",
              "\t<tr><td>Guinea pig                </td><td>Cavis        </td><td>herbi  </td><td>Rodentia       </td><td>domesticated</td><td> 9.4</td><td>0.8</td><td>0.2166667</td><td>14.6</td><td>0.00550</td><td>   0.728</td></tr>\n",
              "\t<tr><td>Grivet                    </td><td>Cercopithecus</td><td>omni   </td><td>Primates       </td><td>lc          </td><td>10.0</td><td>0.7</td><td>       NA</td><td>14.0</td><td>     NA</td><td>   4.750</td></tr>\n",
              "\t<tr><td>Chinchilla                </td><td>Chinchilla   </td><td>herbi  </td><td>Rodentia       </td><td>domesticated</td><td>12.5</td><td>1.5</td><td>0.1166667</td><td>11.5</td><td>0.00640</td><td>   0.420</td></tr>\n",
              "\t<tr><td>Star-nosed mole           </td><td>Condylura    </td><td>omni   </td><td>Soricomorpha   </td><td>lc          </td><td>10.3</td><td>2.2</td><td>       NA</td><td>13.7</td><td>0.00100</td><td>   0.060</td></tr>\n",
              "\t<tr><td>African giant pouched rat </td><td>Cricetomys   </td><td>omni   </td><td>Rodentia       </td><td>NA          </td><td> 8.3</td><td>2.0</td><td>       NA</td><td>15.7</td><td>0.00660</td><td>   1.000</td></tr>\n",
              "\t<tr><td>Lesser short-tailed shrew </td><td>Cryptotis    </td><td>omni   </td><td>Soricomorpha   </td><td>lc          </td><td> 9.1</td><td>1.4</td><td>0.1500000</td><td>14.9</td><td>0.00014</td><td>   0.005</td></tr>\n",
              "\t<tr><td>Long-nosed armadillo      </td><td>Dasypus      </td><td>carni  </td><td>Cingulata      </td><td>lc          </td><td>17.4</td><td>3.1</td><td>0.3833333</td><td> 6.6</td><td>0.01080</td><td>   3.500</td></tr>\n",
              "\t<tr><td>Tree hyrax                </td><td>Dendrohyrax  </td><td>herbi  </td><td>Hyracoidea     </td><td>lc          </td><td> 5.3</td><td>0.5</td><td>       NA</td><td>18.7</td><td>0.01230</td><td>   2.950</td></tr>\n",
              "\t<tr><td>North American Opossum    </td><td>Didelphis    </td><td>omni   </td><td>Didelphimorphia</td><td>lc          </td><td>18.0</td><td>4.9</td><td>0.3333333</td><td> 6.0</td><td>0.00630</td><td>   1.700</td></tr>\n",
              "\t<tr><td>Asian elephant            </td><td>Elephas      </td><td>herbi  </td><td>Proboscidea    </td><td>en          </td><td> 3.9</td><td> NA</td><td>       NA</td><td>20.1</td><td>4.60300</td><td>2547.000</td></tr>\n",
              "\t<tr><td>Big brown bat             </td><td>Eptesicus    </td><td>insecti</td><td>Chiroptera     </td><td>lc          </td><td>19.7</td><td>3.9</td><td>0.1166667</td><td> 4.3</td><td>0.00030</td><td>   0.023</td></tr>\n",
              "\t<tr><td>Horse                     </td><td>Equus        </td><td>herbi  </td><td>Perissodactyla </td><td>domesticated</td><td> 2.9</td><td>0.6</td><td>1.0000000</td><td>21.1</td><td>0.65500</td><td> 521.000</td></tr>\n",
              "\t<tr><td>Donkey                    </td><td>Equus        </td><td>herbi  </td><td>Perissodactyla </td><td>domesticated</td><td> 3.1</td><td>0.4</td><td>       NA</td><td>20.9</td><td>0.41900</td><td> 187.000</td></tr>\n",
              "\t<tr><td>European hedgehog         </td><td>Erinaceus    </td><td>omni   </td><td>Erinaceomorpha </td><td>lc          </td><td>10.1</td><td>3.5</td><td>0.2833333</td><td>13.9</td><td>0.00350</td><td>   0.770</td></tr>\n",
              "\t<tr><td>Patas monkey              </td><td>Erythrocebus </td><td>omni   </td><td>Primates       </td><td>lc          </td><td>10.9</td><td>1.1</td><td>       NA</td><td>13.1</td><td>0.11500</td><td>  10.000</td></tr>\n",
              "\t<tr><td>Western american chipmunk </td><td>Eutamias     </td><td>herbi  </td><td>Rodentia       </td><td>NA          </td><td>14.9</td><td> NA</td><td>       NA</td><td> 9.1</td><td>     NA</td><td>   0.071</td></tr>\n",
              "\t<tr><td>Domestic cat              </td><td>Felis        </td><td>carni  </td><td>Carnivora      </td><td>domesticated</td><td>12.5</td><td>3.2</td><td>0.4166667</td><td>11.5</td><td>0.02560</td><td>   3.300</td></tr>\n",
              "\t<tr><td>Galago                    </td><td>Galago       </td><td>omni   </td><td>Primates       </td><td>NA          </td><td> 9.8</td><td>1.1</td><td>0.5500000</td><td>14.2</td><td>0.00500</td><td>   0.200</td></tr>\n",
              "\t<tr><td>Giraffe                   </td><td>Giraffa      </td><td>herbi  </td><td>Artiodactyla   </td><td>cd          </td><td> 1.9</td><td>0.4</td><td>       NA</td><td>22.1</td><td>     NA</td><td> 899.995</td></tr>\n",
              "\t<tr><td>⋮</td><td>⋮</td><td>⋮</td><td>⋮</td><td>⋮</td><td>⋮</td><td>⋮</td><td>⋮</td><td>⋮</td><td>⋮</td><td>⋮</td></tr>\n",
              "\t<tr><td>Baboon                        </td><td>Papio       </td><td>omni   </td><td>Primates      </td><td>NA          </td><td> 9.4</td><td>1.0</td><td>0.6666667</td><td>14.60</td><td>0.18000</td><td> 25.235</td></tr>\n",
              "\t<tr><td>Desert hedgehog               </td><td>Paraechinus </td><td>NA     </td><td>Erinaceomorpha</td><td>lc          </td><td>10.3</td><td>2.7</td><td>       NA</td><td>13.70</td><td>0.00240</td><td>  0.550</td></tr>\n",
              "\t<tr><td>Potto                         </td><td>Perodicticus</td><td>omni   </td><td>Primates      </td><td>lc          </td><td>11.0</td><td> NA</td><td>       NA</td><td>13.00</td><td>     NA</td><td>  1.100</td></tr>\n",
              "\t<tr><td>Deer mouse                    </td><td>Peromyscus  </td><td>NA     </td><td>Rodentia      </td><td>NA          </td><td>11.5</td><td> NA</td><td>       NA</td><td>12.50</td><td>     NA</td><td>  0.021</td></tr>\n",
              "\t<tr><td>Phalanger                     </td><td>Phalanger   </td><td>NA     </td><td>Diprotodontia </td><td>NA          </td><td>13.7</td><td>1.8</td><td>       NA</td><td>10.30</td><td>0.01140</td><td>  1.620</td></tr>\n",
              "\t<tr><td>Caspian seal                  </td><td>Phoca       </td><td>carni  </td><td>Carnivora     </td><td>vu          </td><td> 3.5</td><td>0.4</td><td>       NA</td><td>20.50</td><td>     NA</td><td> 86.000</td></tr>\n",
              "\t<tr><td>Common porpoise               </td><td>Phocoena    </td><td>carni  </td><td>Cetacea       </td><td>vu          </td><td> 5.6</td><td> NA</td><td>       NA</td><td>18.45</td><td>     NA</td><td> 53.180</td></tr>\n",
              "\t<tr><td>Potoroo                       </td><td>Potorous    </td><td>herbi  </td><td>Diprotodontia </td><td>NA          </td><td>11.1</td><td>1.5</td><td>       NA</td><td>12.90</td><td>     NA</td><td>  1.100</td></tr>\n",
              "\t<tr><td>Giant armadillo               </td><td>Priodontes  </td><td>insecti</td><td>Cingulata     </td><td>en          </td><td>18.1</td><td>6.1</td><td>       NA</td><td> 5.90</td><td>0.08100</td><td> 60.000</td></tr>\n",
              "\t<tr><td>Rock hyrax                    </td><td>Procavia    </td><td>NA     </td><td>Hyracoidea    </td><td>lc          </td><td> 5.4</td><td>0.5</td><td>       NA</td><td>18.60</td><td>0.02100</td><td>  3.600</td></tr>\n",
              "\t<tr><td>Laboratory rat                </td><td>Rattus      </td><td>herbi  </td><td>Rodentia      </td><td>lc          </td><td>13.0</td><td>2.4</td><td>0.1833333</td><td>11.00</td><td>0.00190</td><td>  0.320</td></tr>\n",
              "\t<tr><td>African striped mouse         </td><td>Rhabdomys   </td><td>omni   </td><td>Rodentia      </td><td>NA          </td><td> 8.7</td><td> NA</td><td>       NA</td><td>15.30</td><td>     NA</td><td>  0.044</td></tr>\n",
              "\t<tr><td>Squirrel monkey               </td><td>Saimiri     </td><td>omni   </td><td>Primates      </td><td>NA          </td><td> 9.6</td><td>1.4</td><td>       NA</td><td>14.40</td><td>0.02000</td><td>  0.743</td></tr>\n",
              "\t<tr><td>Eastern american mole         </td><td>Scalopus    </td><td>insecti</td><td>Soricomorpha  </td><td>lc          </td><td> 8.4</td><td>2.1</td><td>0.1666667</td><td>15.60</td><td>0.00120</td><td>  0.075</td></tr>\n",
              "\t<tr><td>Cotton rat                    </td><td>Sigmodon    </td><td>herbi  </td><td>Rodentia      </td><td>NA          </td><td>11.3</td><td>1.1</td><td>0.1500000</td><td>12.70</td><td>0.00118</td><td>  0.148</td></tr>\n",
              "\t<tr><td>Mole rat                      </td><td>Spalax      </td><td>NA     </td><td>Rodentia      </td><td>NA          </td><td>10.6</td><td>2.4</td><td>       NA</td><td>13.40</td><td>0.00300</td><td>  0.122</td></tr>\n",
              "\t<tr><td>Arctic ground squirrel        </td><td>Spermophilus</td><td>herbi  </td><td>Rodentia      </td><td>lc          </td><td>16.6</td><td> NA</td><td>       NA</td><td> 7.40</td><td>0.00570</td><td>  0.920</td></tr>\n",
              "\t<tr><td>Thirteen-lined ground squirrel</td><td>Spermophilus</td><td>herbi  </td><td>Rodentia      </td><td>lc          </td><td>13.8</td><td>3.4</td><td>0.2166667</td><td>10.20</td><td>0.00400</td><td>  0.101</td></tr>\n",
              "\t<tr><td>Golden-mantled ground squirrel</td><td>Spermophilus</td><td>herbi  </td><td>Rodentia      </td><td>lc          </td><td>15.9</td><td>3.0</td><td>       NA</td><td> 8.10</td><td>     NA</td><td>  0.205</td></tr>\n",
              "\t<tr><td>Musk shrew                    </td><td>Suncus      </td><td>NA     </td><td>Soricomorpha  </td><td>NA          </td><td>12.8</td><td>2.0</td><td>0.1833333</td><td>11.20</td><td>0.00033</td><td>  0.048</td></tr>\n",
              "\t<tr><td>Pig                           </td><td>Sus         </td><td>omni   </td><td>Artiodactyla  </td><td>domesticated</td><td> 9.1</td><td>2.4</td><td>0.5000000</td><td>14.90</td><td>0.18000</td><td> 86.250</td></tr>\n",
              "\t<tr><td>Short-nosed echidna           </td><td>Tachyglossus</td><td>insecti</td><td>Monotremata   </td><td>NA          </td><td> 8.6</td><td> NA</td><td>       NA</td><td>15.40</td><td>0.02500</td><td>  4.500</td></tr>\n",
              "\t<tr><td>Eastern american chipmunk     </td><td>Tamias      </td><td>herbi  </td><td>Rodentia      </td><td>NA          </td><td>15.8</td><td> NA</td><td>       NA</td><td> 8.20</td><td>     NA</td><td>  0.112</td></tr>\n",
              "\t<tr><td>Brazilian tapir               </td><td>Tapirus     </td><td>herbi  </td><td>Perissodactyla</td><td>vu          </td><td> 4.4</td><td>1.0</td><td>0.9000000</td><td>19.60</td><td>0.16900</td><td>207.501</td></tr>\n",
              "\t<tr><td>Tenrec                        </td><td>Tenrec      </td><td>omni   </td><td>Afrosoricida  </td><td>NA          </td><td>15.6</td><td>2.3</td><td>       NA</td><td> 8.40</td><td>0.00260</td><td>  0.900</td></tr>\n",
              "\t<tr><td>Tree shrew                    </td><td>Tupaia      </td><td>omni   </td><td>Scandentia    </td><td>NA          </td><td> 8.9</td><td>2.6</td><td>0.2333333</td><td>15.10</td><td>0.00250</td><td>  0.104</td></tr>\n",
              "\t<tr><td>Bottle-nosed dolphin          </td><td>Tursiops    </td><td>carni  </td><td>Cetacea       </td><td>NA          </td><td> 5.2</td><td> NA</td><td>       NA</td><td>18.80</td><td>     NA</td><td>173.330</td></tr>\n",
              "\t<tr><td>Genet                         </td><td>Genetta     </td><td>carni  </td><td>Carnivora     </td><td>NA          </td><td> 6.3</td><td>1.3</td><td>       NA</td><td>17.70</td><td>0.01750</td><td>  2.000</td></tr>\n",
              "\t<tr><td>Arctic fox                    </td><td>Vulpes      </td><td>carni  </td><td>Carnivora     </td><td>NA          </td><td>12.5</td><td> NA</td><td>       NA</td><td>11.50</td><td>0.04450</td><td>  3.380</td></tr>\n",
              "\t<tr><td>Red fox                       </td><td>Vulpes      </td><td>carni  </td><td>Carnivora     </td><td>NA          </td><td> 9.8</td><td>2.4</td><td>0.3500000</td><td>14.20</td><td>0.05040</td><td>  4.230</td></tr>\n",
              "</tbody>\n",
              "</table>\n"
            ],
            "text/markdown": "\nA tibble: 83 × 11\n\n| name &lt;chr&gt; | genus &lt;chr&gt; | vore &lt;chr&gt; | order &lt;chr&gt; | conservation &lt;chr&gt; | sleep_total &lt;dbl&gt; | sleep_rem &lt;dbl&gt; | sleep_cycle &lt;dbl&gt; | awake &lt;dbl&gt; | brainwt &lt;dbl&gt; | bodywt &lt;dbl&gt; |\n|---|---|---|---|---|---|---|---|---|---|---|\n| Cheetah                    | Acinonyx      | carni   | Carnivora       | lc           | 12.1 |  NA |        NA | 11.9 |      NA |   50.000 |\n| Owl monkey                 | Aotus         | omni    | Primates        | NA           | 17.0 | 1.8 |        NA |  7.0 | 0.01550 |    0.480 |\n| Mountain beaver            | Aplodontia    | herbi   | Rodentia        | nt           | 14.4 | 2.4 |        NA |  9.6 |      NA |    1.350 |\n| Greater short-tailed shrew | Blarina       | omni    | Soricomorpha    | lc           | 14.9 | 2.3 | 0.1333333 |  9.1 | 0.00029 |    0.019 |\n| Cow                        | Bos           | herbi   | Artiodactyla    | domesticated |  4.0 | 0.7 | 0.6666667 | 20.0 | 0.42300 |  600.000 |\n| Three-toed sloth           | Bradypus      | herbi   | Pilosa          | NA           | 14.4 | 2.2 | 0.7666667 |  9.6 |      NA |    3.850 |\n| Northern fur seal          | Callorhinus   | carni   | Carnivora       | vu           |  8.7 | 1.4 | 0.3833333 | 15.3 |      NA |   20.490 |\n| Vesper mouse               | Calomys       | NA      | Rodentia        | NA           |  7.0 |  NA |        NA | 17.0 |      NA |    0.045 |\n| Dog                        | Canis         | carni   | Carnivora       | domesticated | 10.1 | 2.9 | 0.3333333 | 13.9 | 0.07000 |   14.000 |\n| Roe deer                   | Capreolus     | herbi   | Artiodactyla    | lc           |  3.0 |  NA |        NA | 21.0 | 0.09820 |   14.800 |\n| Goat                       | Capri         | herbi   | Artiodactyla    | lc           |  5.3 | 0.6 |        NA | 18.7 | 0.11500 |   33.500 |\n| Guinea pig                 | Cavis         | herbi   | Rodentia        | domesticated |  9.4 | 0.8 | 0.2166667 | 14.6 | 0.00550 |    0.728 |\n| Grivet                     | Cercopithecus | omni    | Primates        | lc           | 10.0 | 0.7 |        NA | 14.0 |      NA |    4.750 |\n| Chinchilla                 | Chinchilla    | herbi   | Rodentia        | domesticated | 12.5 | 1.5 | 0.1166667 | 11.5 | 0.00640 |    0.420 |\n| Star-nosed mole            | Condylura     | omni    | Soricomorpha    | lc           | 10.3 | 2.2 |        NA | 13.7 | 0.00100 |    0.060 |\n| African giant pouched rat  | Cricetomys    | omni    | Rodentia        | NA           |  8.3 | 2.0 |        NA | 15.7 | 0.00660 |    1.000 |\n| Lesser short-tailed shrew  | Cryptotis     | omni    | Soricomorpha    | lc           |  9.1 | 1.4 | 0.1500000 | 14.9 | 0.00014 |    0.005 |\n| Long-nosed armadillo       | Dasypus       | carni   | Cingulata       | lc           | 17.4 | 3.1 | 0.3833333 |  6.6 | 0.01080 |    3.500 |\n| Tree hyrax                 | Dendrohyrax   | herbi   | Hyracoidea      | lc           |  5.3 | 0.5 |        NA | 18.7 | 0.01230 |    2.950 |\n| North American Opossum     | Didelphis     | omni    | Didelphimorphia | lc           | 18.0 | 4.9 | 0.3333333 |  6.0 | 0.00630 |    1.700 |\n| Asian elephant             | Elephas       | herbi   | Proboscidea     | en           |  3.9 |  NA |        NA | 20.1 | 4.60300 | 2547.000 |\n| Big brown bat              | Eptesicus     | insecti | Chiroptera      | lc           | 19.7 | 3.9 | 0.1166667 |  4.3 | 0.00030 |    0.023 |\n| Horse                      | Equus         | herbi   | Perissodactyla  | domesticated |  2.9 | 0.6 | 1.0000000 | 21.1 | 0.65500 |  521.000 |\n| Donkey                     | Equus         | herbi   | Perissodactyla  | domesticated |  3.1 | 0.4 |        NA | 20.9 | 0.41900 |  187.000 |\n| European hedgehog          | Erinaceus     | omni    | Erinaceomorpha  | lc           | 10.1 | 3.5 | 0.2833333 | 13.9 | 0.00350 |    0.770 |\n| Patas monkey               | Erythrocebus  | omni    | Primates        | lc           | 10.9 | 1.1 |        NA | 13.1 | 0.11500 |   10.000 |\n| Western american chipmunk  | Eutamias      | herbi   | Rodentia        | NA           | 14.9 |  NA |        NA |  9.1 |      NA |    0.071 |\n| Domestic cat               | Felis         | carni   | Carnivora       | domesticated | 12.5 | 3.2 | 0.4166667 | 11.5 | 0.02560 |    3.300 |\n| Galago                     | Galago        | omni    | Primates        | NA           |  9.8 | 1.1 | 0.5500000 | 14.2 | 0.00500 |    0.200 |\n| Giraffe                    | Giraffa       | herbi   | Artiodactyla    | cd           |  1.9 | 0.4 |        NA | 22.1 |      NA |  899.995 |\n| ⋮ | ⋮ | ⋮ | ⋮ | ⋮ | ⋮ | ⋮ | ⋮ | ⋮ | ⋮ | ⋮ |\n| Baboon                         | Papio        | omni    | Primates       | NA           |  9.4 | 1.0 | 0.6666667 | 14.60 | 0.18000 |  25.235 |\n| Desert hedgehog                | Paraechinus  | NA      | Erinaceomorpha | lc           | 10.3 | 2.7 |        NA | 13.70 | 0.00240 |   0.550 |\n| Potto                          | Perodicticus | omni    | Primates       | lc           | 11.0 |  NA |        NA | 13.00 |      NA |   1.100 |\n| Deer mouse                     | Peromyscus   | NA      | Rodentia       | NA           | 11.5 |  NA |        NA | 12.50 |      NA |   0.021 |\n| Phalanger                      | Phalanger    | NA      | Diprotodontia  | NA           | 13.7 | 1.8 |        NA | 10.30 | 0.01140 |   1.620 |\n| Caspian seal                   | Phoca        | carni   | Carnivora      | vu           |  3.5 | 0.4 |        NA | 20.50 |      NA |  86.000 |\n| Common porpoise                | Phocoena     | carni   | Cetacea        | vu           |  5.6 |  NA |        NA | 18.45 |      NA |  53.180 |\n| Potoroo                        | Potorous     | herbi   | Diprotodontia  | NA           | 11.1 | 1.5 |        NA | 12.90 |      NA |   1.100 |\n| Giant armadillo                | Priodontes   | insecti | Cingulata      | en           | 18.1 | 6.1 |        NA |  5.90 | 0.08100 |  60.000 |\n| Rock hyrax                     | Procavia     | NA      | Hyracoidea     | lc           |  5.4 | 0.5 |        NA | 18.60 | 0.02100 |   3.600 |\n| Laboratory rat                 | Rattus       | herbi   | Rodentia       | lc           | 13.0 | 2.4 | 0.1833333 | 11.00 | 0.00190 |   0.320 |\n| African striped mouse          | Rhabdomys    | omni    | Rodentia       | NA           |  8.7 |  NA |        NA | 15.30 |      NA |   0.044 |\n| Squirrel monkey                | Saimiri      | omni    | Primates       | NA           |  9.6 | 1.4 |        NA | 14.40 | 0.02000 |   0.743 |\n| Eastern american mole          | Scalopus     | insecti | Soricomorpha   | lc           |  8.4 | 2.1 | 0.1666667 | 15.60 | 0.00120 |   0.075 |\n| Cotton rat                     | Sigmodon     | herbi   | Rodentia       | NA           | 11.3 | 1.1 | 0.1500000 | 12.70 | 0.00118 |   0.148 |\n| Mole rat                       | Spalax       | NA      | Rodentia       | NA           | 10.6 | 2.4 |        NA | 13.40 | 0.00300 |   0.122 |\n| Arctic ground squirrel         | Spermophilus | herbi   | Rodentia       | lc           | 16.6 |  NA |        NA |  7.40 | 0.00570 |   0.920 |\n| Thirteen-lined ground squirrel | Spermophilus | herbi   | Rodentia       | lc           | 13.8 | 3.4 | 0.2166667 | 10.20 | 0.00400 |   0.101 |\n| Golden-mantled ground squirrel | Spermophilus | herbi   | Rodentia       | lc           | 15.9 | 3.0 |        NA |  8.10 |      NA |   0.205 |\n| Musk shrew                     | Suncus       | NA      | Soricomorpha   | NA           | 12.8 | 2.0 | 0.1833333 | 11.20 | 0.00033 |   0.048 |\n| Pig                            | Sus          | omni    | Artiodactyla   | domesticated |  9.1 | 2.4 | 0.5000000 | 14.90 | 0.18000 |  86.250 |\n| Short-nosed echidna            | Tachyglossus | insecti | Monotremata    | NA           |  8.6 |  NA |        NA | 15.40 | 0.02500 |   4.500 |\n| Eastern american chipmunk      | Tamias       | herbi   | Rodentia       | NA           | 15.8 |  NA |        NA |  8.20 |      NA |   0.112 |\n| Brazilian tapir                | Tapirus      | herbi   | Perissodactyla | vu           |  4.4 | 1.0 | 0.9000000 | 19.60 | 0.16900 | 207.501 |\n| Tenrec                         | Tenrec       | omni    | Afrosoricida   | NA           | 15.6 | 2.3 |        NA |  8.40 | 0.00260 |   0.900 |\n| Tree shrew                     | Tupaia       | omni    | Scandentia     | NA           |  8.9 | 2.6 | 0.2333333 | 15.10 | 0.00250 |   0.104 |\n| Bottle-nosed dolphin           | Tursiops     | carni   | Cetacea        | NA           |  5.2 |  NA |        NA | 18.80 |      NA | 173.330 |\n| Genet                          | Genetta      | carni   | Carnivora      | NA           |  6.3 | 1.3 |        NA | 17.70 | 0.01750 |   2.000 |\n| Arctic fox                     | Vulpes       | carni   | Carnivora      | NA           | 12.5 |  NA |        NA | 11.50 | 0.04450 |   3.380 |\n| Red fox                        | Vulpes       | carni   | Carnivora      | NA           |  9.8 | 2.4 | 0.3500000 | 14.20 | 0.05040 |   4.230 |\n\n",
            "text/latex": "A tibble: 83 × 11\n\\begin{tabular}{lllllllllll}\n name & genus & vore & order & conservation & sleep\\_total & sleep\\_rem & sleep\\_cycle & awake & brainwt & bodywt\\\\\n <chr> & <chr> & <chr> & <chr> & <chr> & <dbl> & <dbl> & <dbl> & <dbl> & <dbl> & <dbl>\\\\\n\\hline\n\t Cheetah                    & Acinonyx      & carni   & Carnivora       & lc           & 12.1 &  NA &        NA & 11.9 &      NA &   50.000\\\\\n\t Owl monkey                 & Aotus         & omni    & Primates        & NA           & 17.0 & 1.8 &        NA &  7.0 & 0.01550 &    0.480\\\\\n\t Mountain beaver            & Aplodontia    & herbi   & Rodentia        & nt           & 14.4 & 2.4 &        NA &  9.6 &      NA &    1.350\\\\\n\t Greater short-tailed shrew & Blarina       & omni    & Soricomorpha    & lc           & 14.9 & 2.3 & 0.1333333 &  9.1 & 0.00029 &    0.019\\\\\n\t Cow                        & Bos           & herbi   & Artiodactyla    & domesticated &  4.0 & 0.7 & 0.6666667 & 20.0 & 0.42300 &  600.000\\\\\n\t Three-toed sloth           & Bradypus      & herbi   & Pilosa          & NA           & 14.4 & 2.2 & 0.7666667 &  9.6 &      NA &    3.850\\\\\n\t Northern fur seal          & Callorhinus   & carni   & Carnivora       & vu           &  8.7 & 1.4 & 0.3833333 & 15.3 &      NA &   20.490\\\\\n\t Vesper mouse               & Calomys       & NA      & Rodentia        & NA           &  7.0 &  NA &        NA & 17.0 &      NA &    0.045\\\\\n\t Dog                        & Canis         & carni   & Carnivora       & domesticated & 10.1 & 2.9 & 0.3333333 & 13.9 & 0.07000 &   14.000\\\\\n\t Roe deer                   & Capreolus     & herbi   & Artiodactyla    & lc           &  3.0 &  NA &        NA & 21.0 & 0.09820 &   14.800\\\\\n\t Goat                       & Capri         & herbi   & Artiodactyla    & lc           &  5.3 & 0.6 &        NA & 18.7 & 0.11500 &   33.500\\\\\n\t Guinea pig                 & Cavis         & herbi   & Rodentia        & domesticated &  9.4 & 0.8 & 0.2166667 & 14.6 & 0.00550 &    0.728\\\\\n\t Grivet                     & Cercopithecus & omni    & Primates        & lc           & 10.0 & 0.7 &        NA & 14.0 &      NA &    4.750\\\\\n\t Chinchilla                 & Chinchilla    & herbi   & Rodentia        & domesticated & 12.5 & 1.5 & 0.1166667 & 11.5 & 0.00640 &    0.420\\\\\n\t Star-nosed mole            & Condylura     & omni    & Soricomorpha    & lc           & 10.3 & 2.2 &        NA & 13.7 & 0.00100 &    0.060\\\\\n\t African giant pouched rat  & Cricetomys    & omni    & Rodentia        & NA           &  8.3 & 2.0 &        NA & 15.7 & 0.00660 &    1.000\\\\\n\t Lesser short-tailed shrew  & Cryptotis     & omni    & Soricomorpha    & lc           &  9.1 & 1.4 & 0.1500000 & 14.9 & 0.00014 &    0.005\\\\\n\t Long-nosed armadillo       & Dasypus       & carni   & Cingulata       & lc           & 17.4 & 3.1 & 0.3833333 &  6.6 & 0.01080 &    3.500\\\\\n\t Tree hyrax                 & Dendrohyrax   & herbi   & Hyracoidea      & lc           &  5.3 & 0.5 &        NA & 18.7 & 0.01230 &    2.950\\\\\n\t North American Opossum     & Didelphis     & omni    & Didelphimorphia & lc           & 18.0 & 4.9 & 0.3333333 &  6.0 & 0.00630 &    1.700\\\\\n\t Asian elephant             & Elephas       & herbi   & Proboscidea     & en           &  3.9 &  NA &        NA & 20.1 & 4.60300 & 2547.000\\\\\n\t Big brown bat              & Eptesicus     & insecti & Chiroptera      & lc           & 19.7 & 3.9 & 0.1166667 &  4.3 & 0.00030 &    0.023\\\\\n\t Horse                      & Equus         & herbi   & Perissodactyla  & domesticated &  2.9 & 0.6 & 1.0000000 & 21.1 & 0.65500 &  521.000\\\\\n\t Donkey                     & Equus         & herbi   & Perissodactyla  & domesticated &  3.1 & 0.4 &        NA & 20.9 & 0.41900 &  187.000\\\\\n\t European hedgehog          & Erinaceus     & omni    & Erinaceomorpha  & lc           & 10.1 & 3.5 & 0.2833333 & 13.9 & 0.00350 &    0.770\\\\\n\t Patas monkey               & Erythrocebus  & omni    & Primates        & lc           & 10.9 & 1.1 &        NA & 13.1 & 0.11500 &   10.000\\\\\n\t Western american chipmunk  & Eutamias      & herbi   & Rodentia        & NA           & 14.9 &  NA &        NA &  9.1 &      NA &    0.071\\\\\n\t Domestic cat               & Felis         & carni   & Carnivora       & domesticated & 12.5 & 3.2 & 0.4166667 & 11.5 & 0.02560 &    3.300\\\\\n\t Galago                     & Galago        & omni    & Primates        & NA           &  9.8 & 1.1 & 0.5500000 & 14.2 & 0.00500 &    0.200\\\\\n\t Giraffe                    & Giraffa       & herbi   & Artiodactyla    & cd           &  1.9 & 0.4 &        NA & 22.1 &      NA &  899.995\\\\\n\t ⋮ & ⋮ & ⋮ & ⋮ & ⋮ & ⋮ & ⋮ & ⋮ & ⋮ & ⋮ & ⋮\\\\\n\t Baboon                         & Papio        & omni    & Primates       & NA           &  9.4 & 1.0 & 0.6666667 & 14.60 & 0.18000 &  25.235\\\\\n\t Desert hedgehog                & Paraechinus  & NA      & Erinaceomorpha & lc           & 10.3 & 2.7 &        NA & 13.70 & 0.00240 &   0.550\\\\\n\t Potto                          & Perodicticus & omni    & Primates       & lc           & 11.0 &  NA &        NA & 13.00 &      NA &   1.100\\\\\n\t Deer mouse                     & Peromyscus   & NA      & Rodentia       & NA           & 11.5 &  NA &        NA & 12.50 &      NA &   0.021\\\\\n\t Phalanger                      & Phalanger    & NA      & Diprotodontia  & NA           & 13.7 & 1.8 &        NA & 10.30 & 0.01140 &   1.620\\\\\n\t Caspian seal                   & Phoca        & carni   & Carnivora      & vu           &  3.5 & 0.4 &        NA & 20.50 &      NA &  86.000\\\\\n\t Common porpoise                & Phocoena     & carni   & Cetacea        & vu           &  5.6 &  NA &        NA & 18.45 &      NA &  53.180\\\\\n\t Potoroo                        & Potorous     & herbi   & Diprotodontia  & NA           & 11.1 & 1.5 &        NA & 12.90 &      NA &   1.100\\\\\n\t Giant armadillo                & Priodontes   & insecti & Cingulata      & en           & 18.1 & 6.1 &        NA &  5.90 & 0.08100 &  60.000\\\\\n\t Rock hyrax                     & Procavia     & NA      & Hyracoidea     & lc           &  5.4 & 0.5 &        NA & 18.60 & 0.02100 &   3.600\\\\\n\t Laboratory rat                 & Rattus       & herbi   & Rodentia       & lc           & 13.0 & 2.4 & 0.1833333 & 11.00 & 0.00190 &   0.320\\\\\n\t African striped mouse          & Rhabdomys    & omni    & Rodentia       & NA           &  8.7 &  NA &        NA & 15.30 &      NA &   0.044\\\\\n\t Squirrel monkey                & Saimiri      & omni    & Primates       & NA           &  9.6 & 1.4 &        NA & 14.40 & 0.02000 &   0.743\\\\\n\t Eastern american mole          & Scalopus     & insecti & Soricomorpha   & lc           &  8.4 & 2.1 & 0.1666667 & 15.60 & 0.00120 &   0.075\\\\\n\t Cotton rat                     & Sigmodon     & herbi   & Rodentia       & NA           & 11.3 & 1.1 & 0.1500000 & 12.70 & 0.00118 &   0.148\\\\\n\t Mole rat                       & Spalax       & NA      & Rodentia       & NA           & 10.6 & 2.4 &        NA & 13.40 & 0.00300 &   0.122\\\\\n\t Arctic ground squirrel         & Spermophilus & herbi   & Rodentia       & lc           & 16.6 &  NA &        NA &  7.40 & 0.00570 &   0.920\\\\\n\t Thirteen-lined ground squirrel & Spermophilus & herbi   & Rodentia       & lc           & 13.8 & 3.4 & 0.2166667 & 10.20 & 0.00400 &   0.101\\\\\n\t Golden-mantled ground squirrel & Spermophilus & herbi   & Rodentia       & lc           & 15.9 & 3.0 &        NA &  8.10 &      NA &   0.205\\\\\n\t Musk shrew                     & Suncus       & NA      & Soricomorpha   & NA           & 12.8 & 2.0 & 0.1833333 & 11.20 & 0.00033 &   0.048\\\\\n\t Pig                            & Sus          & omni    & Artiodactyla   & domesticated &  9.1 & 2.4 & 0.5000000 & 14.90 & 0.18000 &  86.250\\\\\n\t Short-nosed echidna            & Tachyglossus & insecti & Monotremata    & NA           &  8.6 &  NA &        NA & 15.40 & 0.02500 &   4.500\\\\\n\t Eastern american chipmunk      & Tamias       & herbi   & Rodentia       & NA           & 15.8 &  NA &        NA &  8.20 &      NA &   0.112\\\\\n\t Brazilian tapir                & Tapirus      & herbi   & Perissodactyla & vu           &  4.4 & 1.0 & 0.9000000 & 19.60 & 0.16900 & 207.501\\\\\n\t Tenrec                         & Tenrec       & omni    & Afrosoricida   & NA           & 15.6 & 2.3 &        NA &  8.40 & 0.00260 &   0.900\\\\\n\t Tree shrew                     & Tupaia       & omni    & Scandentia     & NA           &  8.9 & 2.6 & 0.2333333 & 15.10 & 0.00250 &   0.104\\\\\n\t Bottle-nosed dolphin           & Tursiops     & carni   & Cetacea        & NA           &  5.2 &  NA &        NA & 18.80 &      NA & 173.330\\\\\n\t Genet                          & Genetta      & carni   & Carnivora      & NA           &  6.3 & 1.3 &        NA & 17.70 & 0.01750 &   2.000\\\\\n\t Arctic fox                     & Vulpes       & carni   & Carnivora      & NA           & 12.5 &  NA &        NA & 11.50 & 0.04450 &   3.380\\\\\n\t Red fox                        & Vulpes       & carni   & Carnivora      & NA           &  9.8 & 2.4 & 0.3500000 & 14.20 & 0.05040 &   4.230\\\\\n\\end{tabular}\n",
            "text/plain": [
              "   name                           genus         vore    order          \n",
              "1  Cheetah                        Acinonyx      carni   Carnivora      \n",
              "2  Owl monkey                     Aotus         omni    Primates       \n",
              "3  Mountain beaver                Aplodontia    herbi   Rodentia       \n",
              "4  Greater short-tailed shrew     Blarina       omni    Soricomorpha   \n",
              "5  Cow                            Bos           herbi   Artiodactyla   \n",
              "6  Three-toed sloth               Bradypus      herbi   Pilosa         \n",
              "7  Northern fur seal              Callorhinus   carni   Carnivora      \n",
              "8  Vesper mouse                   Calomys       NA      Rodentia       \n",
              "9  Dog                            Canis         carni   Carnivora      \n",
              "10 Roe deer                       Capreolus     herbi   Artiodactyla   \n",
              "11 Goat                           Capri         herbi   Artiodactyla   \n",
              "12 Guinea pig                     Cavis         herbi   Rodentia       \n",
              "13 Grivet                         Cercopithecus omni    Primates       \n",
              "14 Chinchilla                     Chinchilla    herbi   Rodentia       \n",
              "15 Star-nosed mole                Condylura     omni    Soricomorpha   \n",
              "16 African giant pouched rat      Cricetomys    omni    Rodentia       \n",
              "17 Lesser short-tailed shrew      Cryptotis     omni    Soricomorpha   \n",
              "18 Long-nosed armadillo           Dasypus       carni   Cingulata      \n",
              "19 Tree hyrax                     Dendrohyrax   herbi   Hyracoidea     \n",
              "20 North American Opossum         Didelphis     omni    Didelphimorphia\n",
              "21 Asian elephant                 Elephas       herbi   Proboscidea    \n",
              "22 Big brown bat                  Eptesicus     insecti Chiroptera     \n",
              "23 Horse                          Equus         herbi   Perissodactyla \n",
              "24 Donkey                         Equus         herbi   Perissodactyla \n",
              "25 European hedgehog              Erinaceus     omni    Erinaceomorpha \n",
              "26 Patas monkey                   Erythrocebus  omni    Primates       \n",
              "27 Western american chipmunk      Eutamias      herbi   Rodentia       \n",
              "28 Domestic cat                   Felis         carni   Carnivora      \n",
              "29 Galago                         Galago        omni    Primates       \n",
              "30 Giraffe                        Giraffa       herbi   Artiodactyla   \n",
              "⋮  ⋮                              ⋮             ⋮       ⋮              \n",
              "54 Baboon                         Papio         omni    Primates       \n",
              "55 Desert hedgehog                Paraechinus   NA      Erinaceomorpha \n",
              "56 Potto                          Perodicticus  omni    Primates       \n",
              "57 Deer mouse                     Peromyscus    NA      Rodentia       \n",
              "58 Phalanger                      Phalanger     NA      Diprotodontia  \n",
              "59 Caspian seal                   Phoca         carni   Carnivora      \n",
              "60 Common porpoise                Phocoena      carni   Cetacea        \n",
              "61 Potoroo                        Potorous      herbi   Diprotodontia  \n",
              "62 Giant armadillo                Priodontes    insecti Cingulata      \n",
              "63 Rock hyrax                     Procavia      NA      Hyracoidea     \n",
              "64 Laboratory rat                 Rattus        herbi   Rodentia       \n",
              "65 African striped mouse          Rhabdomys     omni    Rodentia       \n",
              "66 Squirrel monkey                Saimiri       omni    Primates       \n",
              "67 Eastern american mole          Scalopus      insecti Soricomorpha   \n",
              "68 Cotton rat                     Sigmodon      herbi   Rodentia       \n",
              "69 Mole rat                       Spalax        NA      Rodentia       \n",
              "70 Arctic ground squirrel         Spermophilus  herbi   Rodentia       \n",
              "71 Thirteen-lined ground squirrel Spermophilus  herbi   Rodentia       \n",
              "72 Golden-mantled ground squirrel Spermophilus  herbi   Rodentia       \n",
              "73 Musk shrew                     Suncus        NA      Soricomorpha   \n",
              "74 Pig                            Sus           omni    Artiodactyla   \n",
              "75 Short-nosed echidna            Tachyglossus  insecti Monotremata    \n",
              "76 Eastern american chipmunk      Tamias        herbi   Rodentia       \n",
              "77 Brazilian tapir                Tapirus       herbi   Perissodactyla \n",
              "78 Tenrec                         Tenrec        omni    Afrosoricida   \n",
              "79 Tree shrew                     Tupaia        omni    Scandentia     \n",
              "80 Bottle-nosed dolphin           Tursiops      carni   Cetacea        \n",
              "81 Genet                          Genetta       carni   Carnivora      \n",
              "82 Arctic fox                     Vulpes        carni   Carnivora      \n",
              "83 Red fox                        Vulpes        carni   Carnivora      \n",
              "   conservation sleep_total sleep_rem sleep_cycle awake brainwt bodywt  \n",
              "1  lc           12.1         NA              NA   11.9       NA   50.000\n",
              "2  NA           17.0        1.8              NA    7.0  0.01550    0.480\n",
              "3  nt           14.4        2.4              NA    9.6       NA    1.350\n",
              "4  lc           14.9        2.3       0.1333333    9.1  0.00029    0.019\n",
              "5  domesticated  4.0        0.7       0.6666667   20.0  0.42300  600.000\n",
              "6  NA           14.4        2.2       0.7666667    9.6       NA    3.850\n",
              "7  vu            8.7        1.4       0.3833333   15.3       NA   20.490\n",
              "8  NA            7.0         NA              NA   17.0       NA    0.045\n",
              "9  domesticated 10.1        2.9       0.3333333   13.9  0.07000   14.000\n",
              "10 lc            3.0         NA              NA   21.0  0.09820   14.800\n",
              "11 lc            5.3        0.6              NA   18.7  0.11500   33.500\n",
              "12 domesticated  9.4        0.8       0.2166667   14.6  0.00550    0.728\n",
              "13 lc           10.0        0.7              NA   14.0       NA    4.750\n",
              "14 domesticated 12.5        1.5       0.1166667   11.5  0.00640    0.420\n",
              "15 lc           10.3        2.2              NA   13.7  0.00100    0.060\n",
              "16 NA            8.3        2.0              NA   15.7  0.00660    1.000\n",
              "17 lc            9.1        1.4       0.1500000   14.9  0.00014    0.005\n",
              "18 lc           17.4        3.1       0.3833333    6.6  0.01080    3.500\n",
              "19 lc            5.3        0.5              NA   18.7  0.01230    2.950\n",
              "20 lc           18.0        4.9       0.3333333    6.0  0.00630    1.700\n",
              "21 en            3.9         NA              NA   20.1  4.60300 2547.000\n",
              "22 lc           19.7        3.9       0.1166667    4.3  0.00030    0.023\n",
              "23 domesticated  2.9        0.6       1.0000000   21.1  0.65500  521.000\n",
              "24 domesticated  3.1        0.4              NA   20.9  0.41900  187.000\n",
              "25 lc           10.1        3.5       0.2833333   13.9  0.00350    0.770\n",
              "26 lc           10.9        1.1              NA   13.1  0.11500   10.000\n",
              "27 NA           14.9         NA              NA    9.1       NA    0.071\n",
              "28 domesticated 12.5        3.2       0.4166667   11.5  0.02560    3.300\n",
              "29 NA            9.8        1.1       0.5500000   14.2  0.00500    0.200\n",
              "30 cd            1.9        0.4              NA   22.1       NA  899.995\n",
              "⋮  ⋮            ⋮           ⋮         ⋮           ⋮     ⋮       ⋮       \n",
              "54 NA            9.4        1.0       0.6666667   14.60 0.18000  25.235 \n",
              "55 lc           10.3        2.7              NA   13.70 0.00240   0.550 \n",
              "56 lc           11.0         NA              NA   13.00      NA   1.100 \n",
              "57 NA           11.5         NA              NA   12.50      NA   0.021 \n",
              "58 NA           13.7        1.8              NA   10.30 0.01140   1.620 \n",
              "59 vu            3.5        0.4              NA   20.50      NA  86.000 \n",
              "60 vu            5.6         NA              NA   18.45      NA  53.180 \n",
              "61 NA           11.1        1.5              NA   12.90      NA   1.100 \n",
              "62 en           18.1        6.1              NA    5.90 0.08100  60.000 \n",
              "63 lc            5.4        0.5              NA   18.60 0.02100   3.600 \n",
              "64 lc           13.0        2.4       0.1833333   11.00 0.00190   0.320 \n",
              "65 NA            8.7         NA              NA   15.30      NA   0.044 \n",
              "66 NA            9.6        1.4              NA   14.40 0.02000   0.743 \n",
              "67 lc            8.4        2.1       0.1666667   15.60 0.00120   0.075 \n",
              "68 NA           11.3        1.1       0.1500000   12.70 0.00118   0.148 \n",
              "69 NA           10.6        2.4              NA   13.40 0.00300   0.122 \n",
              "70 lc           16.6         NA              NA    7.40 0.00570   0.920 \n",
              "71 lc           13.8        3.4       0.2166667   10.20 0.00400   0.101 \n",
              "72 lc           15.9        3.0              NA    8.10      NA   0.205 \n",
              "73 NA           12.8        2.0       0.1833333   11.20 0.00033   0.048 \n",
              "74 domesticated  9.1        2.4       0.5000000   14.90 0.18000  86.250 \n",
              "75 NA            8.6         NA              NA   15.40 0.02500   4.500 \n",
              "76 NA           15.8         NA              NA    8.20      NA   0.112 \n",
              "77 vu            4.4        1.0       0.9000000   19.60 0.16900 207.501 \n",
              "78 NA           15.6        2.3              NA    8.40 0.00260   0.900 \n",
              "79 NA            8.9        2.6       0.2333333   15.10 0.00250   0.104 \n",
              "80 NA            5.2         NA              NA   18.80      NA 173.330 \n",
              "81 NA            6.3        1.3              NA   17.70 0.01750   2.000 \n",
              "82 NA           12.5         NA              NA   11.50 0.04450   3.380 \n",
              "83 NA            9.8        2.4       0.3500000   14.20 0.05040   4.230 "
            ]
          },
          "metadata": {}
        }
      ]
    },
    {
      "cell_type": "code",
      "source": [
        "install.packages(\"tidyverse\")\n",
        "library(tidyverse)\n",
        "\n",
        "filtered <- msleep %>% filter(bodywt >=30)\n",
        "filtered"
      ],
      "metadata": {
        "colab": {
          "base_uri": "https://localhost:8080/",
          "height": 830
        },
        "id": "FhEhxmGX9eF-",
        "outputId": "6684d121-b545-4f10-debe-9e7b798ae513"
      },
      "execution_count": 45,
      "outputs": [
        {
          "output_type": "stream",
          "name": "stderr",
          "text": [
            "Installing package into ‘/usr/local/lib/R/site-library’\n",
            "(as ‘lib’ is unspecified)\n",
            "\n"
          ]
        },
        {
          "output_type": "display_data",
          "data": {
            "text/html": [
              "<table class=\"dataframe\">\n",
              "<caption>A tibble: 22 × 11</caption>\n",
              "<thead>\n",
              "\t<tr><th scope=col>name</th><th scope=col>genus</th><th scope=col>vore</th><th scope=col>order</th><th scope=col>conservation</th><th scope=col>sleep_total</th><th scope=col>sleep_rem</th><th scope=col>sleep_cycle</th><th scope=col>awake</th><th scope=col>brainwt</th><th scope=col>bodywt</th></tr>\n",
              "\t<tr><th scope=col>&lt;chr&gt;</th><th scope=col>&lt;chr&gt;</th><th scope=col>&lt;chr&gt;</th><th scope=col>&lt;chr&gt;</th><th scope=col>&lt;chr&gt;</th><th scope=col>&lt;dbl&gt;</th><th scope=col>&lt;dbl&gt;</th><th scope=col>&lt;dbl&gt;</th><th scope=col>&lt;dbl&gt;</th><th scope=col>&lt;dbl&gt;</th><th scope=col>&lt;dbl&gt;</th></tr>\n",
              "</thead>\n",
              "<tbody>\n",
              "\t<tr><td>Cheetah             </td><td>Acinonyx     </td><td>carni  </td><td>Carnivora     </td><td>lc          </td><td>12.1</td><td> NA</td><td>       NA</td><td>11.90</td><td>   NA</td><td>  50.000</td></tr>\n",
              "\t<tr><td>Cow                 </td><td>Bos          </td><td>herbi  </td><td>Artiodactyla  </td><td>domesticated</td><td> 4.0</td><td>0.7</td><td>0.6666667</td><td>20.00</td><td>0.423</td><td> 600.000</td></tr>\n",
              "\t<tr><td>Goat                </td><td>Capri        </td><td>herbi  </td><td>Artiodactyla  </td><td>lc          </td><td> 5.3</td><td>0.6</td><td>       NA</td><td>18.70</td><td>0.115</td><td>  33.500</td></tr>\n",
              "\t<tr><td>Asian elephant      </td><td>Elephas      </td><td>herbi  </td><td>Proboscidea   </td><td>en          </td><td> 3.9</td><td> NA</td><td>       NA</td><td>20.10</td><td>4.603</td><td>2547.000</td></tr>\n",
              "\t<tr><td>Horse               </td><td>Equus        </td><td>herbi  </td><td>Perissodactyla</td><td>domesticated</td><td> 2.9</td><td>0.6</td><td>1.0000000</td><td>21.10</td><td>0.655</td><td> 521.000</td></tr>\n",
              "\t<tr><td>Donkey              </td><td>Equus        </td><td>herbi  </td><td>Perissodactyla</td><td>domesticated</td><td> 3.1</td><td>0.4</td><td>       NA</td><td>20.90</td><td>0.419</td><td> 187.000</td></tr>\n",
              "\t<tr><td>Giraffe             </td><td>Giraffa      </td><td>herbi  </td><td>Artiodactyla  </td><td>cd          </td><td> 1.9</td><td>0.4</td><td>       NA</td><td>22.10</td><td>   NA</td><td> 899.995</td></tr>\n",
              "\t<tr><td>Pilot whale         </td><td>Globicephalus</td><td>carni  </td><td>Cetacea       </td><td>cd          </td><td> 2.7</td><td>0.1</td><td>       NA</td><td>21.35</td><td>   NA</td><td> 800.000</td></tr>\n",
              "\t<tr><td>Gray seal           </td><td>Haliochoerus </td><td>carni  </td><td>Carnivora     </td><td>lc          </td><td> 6.2</td><td>1.5</td><td>       NA</td><td>17.80</td><td>0.325</td><td>  85.000</td></tr>\n",
              "\t<tr><td>Human               </td><td>Homo         </td><td>omni   </td><td>Primates      </td><td>NA          </td><td> 8.0</td><td>1.9</td><td>1.5000000</td><td>16.00</td><td>1.320</td><td>  62.000</td></tr>\n",
              "\t<tr><td>African elephant    </td><td>Loxodonta    </td><td>herbi  </td><td>Proboscidea   </td><td>vu          </td><td> 3.3</td><td> NA</td><td>       NA</td><td>20.70</td><td>5.712</td><td>6654.000</td></tr>\n",
              "\t<tr><td>Sheep               </td><td>Ovis         </td><td>herbi  </td><td>Artiodactyla  </td><td>domesticated</td><td> 3.8</td><td>0.6</td><td>       NA</td><td>20.20</td><td>0.175</td><td>  55.500</td></tr>\n",
              "\t<tr><td>Chimpanzee          </td><td>Pan          </td><td>omni   </td><td>Primates      </td><td>NA          </td><td> 9.7</td><td>1.4</td><td>1.4166667</td><td>14.30</td><td>0.440</td><td>  52.200</td></tr>\n",
              "\t<tr><td>Tiger               </td><td>Panthera     </td><td>carni  </td><td>Carnivora     </td><td>en          </td><td>15.8</td><td> NA</td><td>       NA</td><td> 8.20</td><td>   NA</td><td> 162.564</td></tr>\n",
              "\t<tr><td>Jaguar              </td><td>Panthera     </td><td>carni  </td><td>Carnivora     </td><td>nt          </td><td>10.4</td><td> NA</td><td>       NA</td><td>13.60</td><td>0.157</td><td> 100.000</td></tr>\n",
              "\t<tr><td>Lion                </td><td>Panthera     </td><td>carni  </td><td>Carnivora     </td><td>vu          </td><td>13.5</td><td> NA</td><td>       NA</td><td>10.50</td><td>   NA</td><td> 161.499</td></tr>\n",
              "\t<tr><td>Caspian seal        </td><td>Phoca        </td><td>carni  </td><td>Carnivora     </td><td>vu          </td><td> 3.5</td><td>0.4</td><td>       NA</td><td>20.50</td><td>   NA</td><td>  86.000</td></tr>\n",
              "\t<tr><td>Common porpoise     </td><td>Phocoena     </td><td>carni  </td><td>Cetacea       </td><td>vu          </td><td> 5.6</td><td> NA</td><td>       NA</td><td>18.45</td><td>   NA</td><td>  53.180</td></tr>\n",
              "\t<tr><td>Giant armadillo     </td><td>Priodontes   </td><td>insecti</td><td>Cingulata     </td><td>en          </td><td>18.1</td><td>6.1</td><td>       NA</td><td> 5.90</td><td>0.081</td><td>  60.000</td></tr>\n",
              "\t<tr><td>Pig                 </td><td>Sus          </td><td>omni   </td><td>Artiodactyla  </td><td>domesticated</td><td> 9.1</td><td>2.4</td><td>0.5000000</td><td>14.90</td><td>0.180</td><td>  86.250</td></tr>\n",
              "\t<tr><td>Brazilian tapir     </td><td>Tapirus      </td><td>herbi  </td><td>Perissodactyla</td><td>vu          </td><td> 4.4</td><td>1.0</td><td>0.9000000</td><td>19.60</td><td>0.169</td><td> 207.501</td></tr>\n",
              "\t<tr><td>Bottle-nosed dolphin</td><td>Tursiops     </td><td>carni  </td><td>Cetacea       </td><td>NA          </td><td> 5.2</td><td> NA</td><td>       NA</td><td>18.80</td><td>   NA</td><td> 173.330</td></tr>\n",
              "</tbody>\n",
              "</table>\n"
            ],
            "text/markdown": "\nA tibble: 22 × 11\n\n| name &lt;chr&gt; | genus &lt;chr&gt; | vore &lt;chr&gt; | order &lt;chr&gt; | conservation &lt;chr&gt; | sleep_total &lt;dbl&gt; | sleep_rem &lt;dbl&gt; | sleep_cycle &lt;dbl&gt; | awake &lt;dbl&gt; | brainwt &lt;dbl&gt; | bodywt &lt;dbl&gt; |\n|---|---|---|---|---|---|---|---|---|---|---|\n| Cheetah              | Acinonyx      | carni   | Carnivora      | lc           | 12.1 |  NA |        NA | 11.90 |    NA |   50.000 |\n| Cow                  | Bos           | herbi   | Artiodactyla   | domesticated |  4.0 | 0.7 | 0.6666667 | 20.00 | 0.423 |  600.000 |\n| Goat                 | Capri         | herbi   | Artiodactyla   | lc           |  5.3 | 0.6 |        NA | 18.70 | 0.115 |   33.500 |\n| Asian elephant       | Elephas       | herbi   | Proboscidea    | en           |  3.9 |  NA |        NA | 20.10 | 4.603 | 2547.000 |\n| Horse                | Equus         | herbi   | Perissodactyla | domesticated |  2.9 | 0.6 | 1.0000000 | 21.10 | 0.655 |  521.000 |\n| Donkey               | Equus         | herbi   | Perissodactyla | domesticated |  3.1 | 0.4 |        NA | 20.90 | 0.419 |  187.000 |\n| Giraffe              | Giraffa       | herbi   | Artiodactyla   | cd           |  1.9 | 0.4 |        NA | 22.10 |    NA |  899.995 |\n| Pilot whale          | Globicephalus | carni   | Cetacea        | cd           |  2.7 | 0.1 |        NA | 21.35 |    NA |  800.000 |\n| Gray seal            | Haliochoerus  | carni   | Carnivora      | lc           |  6.2 | 1.5 |        NA | 17.80 | 0.325 |   85.000 |\n| Human                | Homo          | omni    | Primates       | NA           |  8.0 | 1.9 | 1.5000000 | 16.00 | 1.320 |   62.000 |\n| African elephant     | Loxodonta     | herbi   | Proboscidea    | vu           |  3.3 |  NA |        NA | 20.70 | 5.712 | 6654.000 |\n| Sheep                | Ovis          | herbi   | Artiodactyla   | domesticated |  3.8 | 0.6 |        NA | 20.20 | 0.175 |   55.500 |\n| Chimpanzee           | Pan           | omni    | Primates       | NA           |  9.7 | 1.4 | 1.4166667 | 14.30 | 0.440 |   52.200 |\n| Tiger                | Panthera      | carni   | Carnivora      | en           | 15.8 |  NA |        NA |  8.20 |    NA |  162.564 |\n| Jaguar               | Panthera      | carni   | Carnivora      | nt           | 10.4 |  NA |        NA | 13.60 | 0.157 |  100.000 |\n| Lion                 | Panthera      | carni   | Carnivora      | vu           | 13.5 |  NA |        NA | 10.50 |    NA |  161.499 |\n| Caspian seal         | Phoca         | carni   | Carnivora      | vu           |  3.5 | 0.4 |        NA | 20.50 |    NA |   86.000 |\n| Common porpoise      | Phocoena      | carni   | Cetacea        | vu           |  5.6 |  NA |        NA | 18.45 |    NA |   53.180 |\n| Giant armadillo      | Priodontes    | insecti | Cingulata      | en           | 18.1 | 6.1 |        NA |  5.90 | 0.081 |   60.000 |\n| Pig                  | Sus           | omni    | Artiodactyla   | domesticated |  9.1 | 2.4 | 0.5000000 | 14.90 | 0.180 |   86.250 |\n| Brazilian tapir      | Tapirus       | herbi   | Perissodactyla | vu           |  4.4 | 1.0 | 0.9000000 | 19.60 | 0.169 |  207.501 |\n| Bottle-nosed dolphin | Tursiops      | carni   | Cetacea        | NA           |  5.2 |  NA |        NA | 18.80 |    NA |  173.330 |\n\n",
            "text/latex": "A tibble: 22 × 11\n\\begin{tabular}{lllllllllll}\n name & genus & vore & order & conservation & sleep\\_total & sleep\\_rem & sleep\\_cycle & awake & brainwt & bodywt\\\\\n <chr> & <chr> & <chr> & <chr> & <chr> & <dbl> & <dbl> & <dbl> & <dbl> & <dbl> & <dbl>\\\\\n\\hline\n\t Cheetah              & Acinonyx      & carni   & Carnivora      & lc           & 12.1 &  NA &        NA & 11.90 &    NA &   50.000\\\\\n\t Cow                  & Bos           & herbi   & Artiodactyla   & domesticated &  4.0 & 0.7 & 0.6666667 & 20.00 & 0.423 &  600.000\\\\\n\t Goat                 & Capri         & herbi   & Artiodactyla   & lc           &  5.3 & 0.6 &        NA & 18.70 & 0.115 &   33.500\\\\\n\t Asian elephant       & Elephas       & herbi   & Proboscidea    & en           &  3.9 &  NA &        NA & 20.10 & 4.603 & 2547.000\\\\\n\t Horse                & Equus         & herbi   & Perissodactyla & domesticated &  2.9 & 0.6 & 1.0000000 & 21.10 & 0.655 &  521.000\\\\\n\t Donkey               & Equus         & herbi   & Perissodactyla & domesticated &  3.1 & 0.4 &        NA & 20.90 & 0.419 &  187.000\\\\\n\t Giraffe              & Giraffa       & herbi   & Artiodactyla   & cd           &  1.9 & 0.4 &        NA & 22.10 &    NA &  899.995\\\\\n\t Pilot whale          & Globicephalus & carni   & Cetacea        & cd           &  2.7 & 0.1 &        NA & 21.35 &    NA &  800.000\\\\\n\t Gray seal            & Haliochoerus  & carni   & Carnivora      & lc           &  6.2 & 1.5 &        NA & 17.80 & 0.325 &   85.000\\\\\n\t Human                & Homo          & omni    & Primates       & NA           &  8.0 & 1.9 & 1.5000000 & 16.00 & 1.320 &   62.000\\\\\n\t African elephant     & Loxodonta     & herbi   & Proboscidea    & vu           &  3.3 &  NA &        NA & 20.70 & 5.712 & 6654.000\\\\\n\t Sheep                & Ovis          & herbi   & Artiodactyla   & domesticated &  3.8 & 0.6 &        NA & 20.20 & 0.175 &   55.500\\\\\n\t Chimpanzee           & Pan           & omni    & Primates       & NA           &  9.7 & 1.4 & 1.4166667 & 14.30 & 0.440 &   52.200\\\\\n\t Tiger                & Panthera      & carni   & Carnivora      & en           & 15.8 &  NA &        NA &  8.20 &    NA &  162.564\\\\\n\t Jaguar               & Panthera      & carni   & Carnivora      & nt           & 10.4 &  NA &        NA & 13.60 & 0.157 &  100.000\\\\\n\t Lion                 & Panthera      & carni   & Carnivora      & vu           & 13.5 &  NA &        NA & 10.50 &    NA &  161.499\\\\\n\t Caspian seal         & Phoca         & carni   & Carnivora      & vu           &  3.5 & 0.4 &        NA & 20.50 &    NA &   86.000\\\\\n\t Common porpoise      & Phocoena      & carni   & Cetacea        & vu           &  5.6 &  NA &        NA & 18.45 &    NA &   53.180\\\\\n\t Giant armadillo      & Priodontes    & insecti & Cingulata      & en           & 18.1 & 6.1 &        NA &  5.90 & 0.081 &   60.000\\\\\n\t Pig                  & Sus           & omni    & Artiodactyla   & domesticated &  9.1 & 2.4 & 0.5000000 & 14.90 & 0.180 &   86.250\\\\\n\t Brazilian tapir      & Tapirus       & herbi   & Perissodactyla & vu           &  4.4 & 1.0 & 0.9000000 & 19.60 & 0.169 &  207.501\\\\\n\t Bottle-nosed dolphin & Tursiops      & carni   & Cetacea        & NA           &  5.2 &  NA &        NA & 18.80 &    NA &  173.330\\\\\n\\end{tabular}\n",
            "text/plain": [
              "   name                 genus         vore    order          conservation\n",
              "1  Cheetah              Acinonyx      carni   Carnivora      lc          \n",
              "2  Cow                  Bos           herbi   Artiodactyla   domesticated\n",
              "3  Goat                 Capri         herbi   Artiodactyla   lc          \n",
              "4  Asian elephant       Elephas       herbi   Proboscidea    en          \n",
              "5  Horse                Equus         herbi   Perissodactyla domesticated\n",
              "6  Donkey               Equus         herbi   Perissodactyla domesticated\n",
              "7  Giraffe              Giraffa       herbi   Artiodactyla   cd          \n",
              "8  Pilot whale          Globicephalus carni   Cetacea        cd          \n",
              "9  Gray seal            Haliochoerus  carni   Carnivora      lc          \n",
              "10 Human                Homo          omni    Primates       NA          \n",
              "11 African elephant     Loxodonta     herbi   Proboscidea    vu          \n",
              "12 Sheep                Ovis          herbi   Artiodactyla   domesticated\n",
              "13 Chimpanzee           Pan           omni    Primates       NA          \n",
              "14 Tiger                Panthera      carni   Carnivora      en          \n",
              "15 Jaguar               Panthera      carni   Carnivora      nt          \n",
              "16 Lion                 Panthera      carni   Carnivora      vu          \n",
              "17 Caspian seal         Phoca         carni   Carnivora      vu          \n",
              "18 Common porpoise      Phocoena      carni   Cetacea        vu          \n",
              "19 Giant armadillo      Priodontes    insecti Cingulata      en          \n",
              "20 Pig                  Sus           omni    Artiodactyla   domesticated\n",
              "21 Brazilian tapir      Tapirus       herbi   Perissodactyla vu          \n",
              "22 Bottle-nosed dolphin Tursiops      carni   Cetacea        NA          \n",
              "   sleep_total sleep_rem sleep_cycle awake brainwt bodywt  \n",
              "1  12.1         NA              NA   11.90    NA     50.000\n",
              "2   4.0        0.7       0.6666667   20.00 0.423    600.000\n",
              "3   5.3        0.6              NA   18.70 0.115     33.500\n",
              "4   3.9         NA              NA   20.10 4.603   2547.000\n",
              "5   2.9        0.6       1.0000000   21.10 0.655    521.000\n",
              "6   3.1        0.4              NA   20.90 0.419    187.000\n",
              "7   1.9        0.4              NA   22.10    NA    899.995\n",
              "8   2.7        0.1              NA   21.35    NA    800.000\n",
              "9   6.2        1.5              NA   17.80 0.325     85.000\n",
              "10  8.0        1.9       1.5000000   16.00 1.320     62.000\n",
              "11  3.3         NA              NA   20.70 5.712   6654.000\n",
              "12  3.8        0.6              NA   20.20 0.175     55.500\n",
              "13  9.7        1.4       1.4166667   14.30 0.440     52.200\n",
              "14 15.8         NA              NA    8.20    NA    162.564\n",
              "15 10.4         NA              NA   13.60 0.157    100.000\n",
              "16 13.5         NA              NA   10.50    NA    161.499\n",
              "17  3.5        0.4              NA   20.50    NA     86.000\n",
              "18  5.6         NA              NA   18.45    NA     53.180\n",
              "19 18.1        6.1              NA    5.90 0.081     60.000\n",
              "20  9.1        2.4       0.5000000   14.90 0.180     86.250\n",
              "21  4.4        1.0       0.9000000   19.60 0.169    207.501\n",
              "22  5.2         NA              NA   18.80    NA    173.330"
            ]
          },
          "metadata": {}
        }
      ]
    },
    {
      "cell_type": "code",
      "source": [
        "msleep_by_order <- filtered[order(filtered$order),]\n",
        "msleep_by_order"
      ],
      "metadata": {
        "colab": {
          "base_uri": "https://localhost:8080/",
          "height": 779
        },
        "id": "-ZQNI0vt-228",
        "outputId": "a83b2f49-207f-4c34-e632-8bbe40ed0a27"
      },
      "execution_count": 46,
      "outputs": [
        {
          "output_type": "display_data",
          "data": {
            "text/html": [
              "<table class=\"dataframe\">\n",
              "<caption>A tibble: 22 × 11</caption>\n",
              "<thead>\n",
              "\t<tr><th scope=col>name</th><th scope=col>genus</th><th scope=col>vore</th><th scope=col>order</th><th scope=col>conservation</th><th scope=col>sleep_total</th><th scope=col>sleep_rem</th><th scope=col>sleep_cycle</th><th scope=col>awake</th><th scope=col>brainwt</th><th scope=col>bodywt</th></tr>\n",
              "\t<tr><th scope=col>&lt;chr&gt;</th><th scope=col>&lt;chr&gt;</th><th scope=col>&lt;chr&gt;</th><th scope=col>&lt;chr&gt;</th><th scope=col>&lt;chr&gt;</th><th scope=col>&lt;dbl&gt;</th><th scope=col>&lt;dbl&gt;</th><th scope=col>&lt;dbl&gt;</th><th scope=col>&lt;dbl&gt;</th><th scope=col>&lt;dbl&gt;</th><th scope=col>&lt;dbl&gt;</th></tr>\n",
              "</thead>\n",
              "<tbody>\n",
              "\t<tr><td>Cow                 </td><td>Bos          </td><td>herbi  </td><td>Artiodactyla  </td><td>domesticated</td><td> 4.0</td><td>0.7</td><td>0.6666667</td><td>20.00</td><td>0.423</td><td> 600.000</td></tr>\n",
              "\t<tr><td>Goat                </td><td>Capri        </td><td>herbi  </td><td>Artiodactyla  </td><td>lc          </td><td> 5.3</td><td>0.6</td><td>       NA</td><td>18.70</td><td>0.115</td><td>  33.500</td></tr>\n",
              "\t<tr><td>Giraffe             </td><td>Giraffa      </td><td>herbi  </td><td>Artiodactyla  </td><td>cd          </td><td> 1.9</td><td>0.4</td><td>       NA</td><td>22.10</td><td>   NA</td><td> 899.995</td></tr>\n",
              "\t<tr><td>Sheep               </td><td>Ovis         </td><td>herbi  </td><td>Artiodactyla  </td><td>domesticated</td><td> 3.8</td><td>0.6</td><td>       NA</td><td>20.20</td><td>0.175</td><td>  55.500</td></tr>\n",
              "\t<tr><td>Pig                 </td><td>Sus          </td><td>omni   </td><td>Artiodactyla  </td><td>domesticated</td><td> 9.1</td><td>2.4</td><td>0.5000000</td><td>14.90</td><td>0.180</td><td>  86.250</td></tr>\n",
              "\t<tr><td>Cheetah             </td><td>Acinonyx     </td><td>carni  </td><td>Carnivora     </td><td>lc          </td><td>12.1</td><td> NA</td><td>       NA</td><td>11.90</td><td>   NA</td><td>  50.000</td></tr>\n",
              "\t<tr><td>Gray seal           </td><td>Haliochoerus </td><td>carni  </td><td>Carnivora     </td><td>lc          </td><td> 6.2</td><td>1.5</td><td>       NA</td><td>17.80</td><td>0.325</td><td>  85.000</td></tr>\n",
              "\t<tr><td>Tiger               </td><td>Panthera     </td><td>carni  </td><td>Carnivora     </td><td>en          </td><td>15.8</td><td> NA</td><td>       NA</td><td> 8.20</td><td>   NA</td><td> 162.564</td></tr>\n",
              "\t<tr><td>Jaguar              </td><td>Panthera     </td><td>carni  </td><td>Carnivora     </td><td>nt          </td><td>10.4</td><td> NA</td><td>       NA</td><td>13.60</td><td>0.157</td><td> 100.000</td></tr>\n",
              "\t<tr><td>Lion                </td><td>Panthera     </td><td>carni  </td><td>Carnivora     </td><td>vu          </td><td>13.5</td><td> NA</td><td>       NA</td><td>10.50</td><td>   NA</td><td> 161.499</td></tr>\n",
              "\t<tr><td>Caspian seal        </td><td>Phoca        </td><td>carni  </td><td>Carnivora     </td><td>vu          </td><td> 3.5</td><td>0.4</td><td>       NA</td><td>20.50</td><td>   NA</td><td>  86.000</td></tr>\n",
              "\t<tr><td>Pilot whale         </td><td>Globicephalus</td><td>carni  </td><td>Cetacea       </td><td>cd          </td><td> 2.7</td><td>0.1</td><td>       NA</td><td>21.35</td><td>   NA</td><td> 800.000</td></tr>\n",
              "\t<tr><td>Common porpoise     </td><td>Phocoena     </td><td>carni  </td><td>Cetacea       </td><td>vu          </td><td> 5.6</td><td> NA</td><td>       NA</td><td>18.45</td><td>   NA</td><td>  53.180</td></tr>\n",
              "\t<tr><td>Bottle-nosed dolphin</td><td>Tursiops     </td><td>carni  </td><td>Cetacea       </td><td>NA          </td><td> 5.2</td><td> NA</td><td>       NA</td><td>18.80</td><td>   NA</td><td> 173.330</td></tr>\n",
              "\t<tr><td>Giant armadillo     </td><td>Priodontes   </td><td>insecti</td><td>Cingulata     </td><td>en          </td><td>18.1</td><td>6.1</td><td>       NA</td><td> 5.90</td><td>0.081</td><td>  60.000</td></tr>\n",
              "\t<tr><td>Horse               </td><td>Equus        </td><td>herbi  </td><td>Perissodactyla</td><td>domesticated</td><td> 2.9</td><td>0.6</td><td>1.0000000</td><td>21.10</td><td>0.655</td><td> 521.000</td></tr>\n",
              "\t<tr><td>Donkey              </td><td>Equus        </td><td>herbi  </td><td>Perissodactyla</td><td>domesticated</td><td> 3.1</td><td>0.4</td><td>       NA</td><td>20.90</td><td>0.419</td><td> 187.000</td></tr>\n",
              "\t<tr><td>Brazilian tapir     </td><td>Tapirus      </td><td>herbi  </td><td>Perissodactyla</td><td>vu          </td><td> 4.4</td><td>1.0</td><td>0.9000000</td><td>19.60</td><td>0.169</td><td> 207.501</td></tr>\n",
              "\t<tr><td>Human               </td><td>Homo         </td><td>omni   </td><td>Primates      </td><td>NA          </td><td> 8.0</td><td>1.9</td><td>1.5000000</td><td>16.00</td><td>1.320</td><td>  62.000</td></tr>\n",
              "\t<tr><td>Chimpanzee          </td><td>Pan          </td><td>omni   </td><td>Primates      </td><td>NA          </td><td> 9.7</td><td>1.4</td><td>1.4166667</td><td>14.30</td><td>0.440</td><td>  52.200</td></tr>\n",
              "\t<tr><td>Asian elephant      </td><td>Elephas      </td><td>herbi  </td><td>Proboscidea   </td><td>en          </td><td> 3.9</td><td> NA</td><td>       NA</td><td>20.10</td><td>4.603</td><td>2547.000</td></tr>\n",
              "\t<tr><td>African elephant    </td><td>Loxodonta    </td><td>herbi  </td><td>Proboscidea   </td><td>vu          </td><td> 3.3</td><td> NA</td><td>       NA</td><td>20.70</td><td>5.712</td><td>6654.000</td></tr>\n",
              "</tbody>\n",
              "</table>\n"
            ],
            "text/markdown": "\nA tibble: 22 × 11\n\n| name &lt;chr&gt; | genus &lt;chr&gt; | vore &lt;chr&gt; | order &lt;chr&gt; | conservation &lt;chr&gt; | sleep_total &lt;dbl&gt; | sleep_rem &lt;dbl&gt; | sleep_cycle &lt;dbl&gt; | awake &lt;dbl&gt; | brainwt &lt;dbl&gt; | bodywt &lt;dbl&gt; |\n|---|---|---|---|---|---|---|---|---|---|---|\n| Cow                  | Bos           | herbi   | Artiodactyla   | domesticated |  4.0 | 0.7 | 0.6666667 | 20.00 | 0.423 |  600.000 |\n| Goat                 | Capri         | herbi   | Artiodactyla   | lc           |  5.3 | 0.6 |        NA | 18.70 | 0.115 |   33.500 |\n| Giraffe              | Giraffa       | herbi   | Artiodactyla   | cd           |  1.9 | 0.4 |        NA | 22.10 |    NA |  899.995 |\n| Sheep                | Ovis          | herbi   | Artiodactyla   | domesticated |  3.8 | 0.6 |        NA | 20.20 | 0.175 |   55.500 |\n| Pig                  | Sus           | omni    | Artiodactyla   | domesticated |  9.1 | 2.4 | 0.5000000 | 14.90 | 0.180 |   86.250 |\n| Cheetah              | Acinonyx      | carni   | Carnivora      | lc           | 12.1 |  NA |        NA | 11.90 |    NA |   50.000 |\n| Gray seal            | Haliochoerus  | carni   | Carnivora      | lc           |  6.2 | 1.5 |        NA | 17.80 | 0.325 |   85.000 |\n| Tiger                | Panthera      | carni   | Carnivora      | en           | 15.8 |  NA |        NA |  8.20 |    NA |  162.564 |\n| Jaguar               | Panthera      | carni   | Carnivora      | nt           | 10.4 |  NA |        NA | 13.60 | 0.157 |  100.000 |\n| Lion                 | Panthera      | carni   | Carnivora      | vu           | 13.5 |  NA |        NA | 10.50 |    NA |  161.499 |\n| Caspian seal         | Phoca         | carni   | Carnivora      | vu           |  3.5 | 0.4 |        NA | 20.50 |    NA |   86.000 |\n| Pilot whale          | Globicephalus | carni   | Cetacea        | cd           |  2.7 | 0.1 |        NA | 21.35 |    NA |  800.000 |\n| Common porpoise      | Phocoena      | carni   | Cetacea        | vu           |  5.6 |  NA |        NA | 18.45 |    NA |   53.180 |\n| Bottle-nosed dolphin | Tursiops      | carni   | Cetacea        | NA           |  5.2 |  NA |        NA | 18.80 |    NA |  173.330 |\n| Giant armadillo      | Priodontes    | insecti | Cingulata      | en           | 18.1 | 6.1 |        NA |  5.90 | 0.081 |   60.000 |\n| Horse                | Equus         | herbi   | Perissodactyla | domesticated |  2.9 | 0.6 | 1.0000000 | 21.10 | 0.655 |  521.000 |\n| Donkey               | Equus         | herbi   | Perissodactyla | domesticated |  3.1 | 0.4 |        NA | 20.90 | 0.419 |  187.000 |\n| Brazilian tapir      | Tapirus       | herbi   | Perissodactyla | vu           |  4.4 | 1.0 | 0.9000000 | 19.60 | 0.169 |  207.501 |\n| Human                | Homo          | omni    | Primates       | NA           |  8.0 | 1.9 | 1.5000000 | 16.00 | 1.320 |   62.000 |\n| Chimpanzee           | Pan           | omni    | Primates       | NA           |  9.7 | 1.4 | 1.4166667 | 14.30 | 0.440 |   52.200 |\n| Asian elephant       | Elephas       | herbi   | Proboscidea    | en           |  3.9 |  NA |        NA | 20.10 | 4.603 | 2547.000 |\n| African elephant     | Loxodonta     | herbi   | Proboscidea    | vu           |  3.3 |  NA |        NA | 20.70 | 5.712 | 6654.000 |\n\n",
            "text/latex": "A tibble: 22 × 11\n\\begin{tabular}{lllllllllll}\n name & genus & vore & order & conservation & sleep\\_total & sleep\\_rem & sleep\\_cycle & awake & brainwt & bodywt\\\\\n <chr> & <chr> & <chr> & <chr> & <chr> & <dbl> & <dbl> & <dbl> & <dbl> & <dbl> & <dbl>\\\\\n\\hline\n\t Cow                  & Bos           & herbi   & Artiodactyla   & domesticated &  4.0 & 0.7 & 0.6666667 & 20.00 & 0.423 &  600.000\\\\\n\t Goat                 & Capri         & herbi   & Artiodactyla   & lc           &  5.3 & 0.6 &        NA & 18.70 & 0.115 &   33.500\\\\\n\t Giraffe              & Giraffa       & herbi   & Artiodactyla   & cd           &  1.9 & 0.4 &        NA & 22.10 &    NA &  899.995\\\\\n\t Sheep                & Ovis          & herbi   & Artiodactyla   & domesticated &  3.8 & 0.6 &        NA & 20.20 & 0.175 &   55.500\\\\\n\t Pig                  & Sus           & omni    & Artiodactyla   & domesticated &  9.1 & 2.4 & 0.5000000 & 14.90 & 0.180 &   86.250\\\\\n\t Cheetah              & Acinonyx      & carni   & Carnivora      & lc           & 12.1 &  NA &        NA & 11.90 &    NA &   50.000\\\\\n\t Gray seal            & Haliochoerus  & carni   & Carnivora      & lc           &  6.2 & 1.5 &        NA & 17.80 & 0.325 &   85.000\\\\\n\t Tiger                & Panthera      & carni   & Carnivora      & en           & 15.8 &  NA &        NA &  8.20 &    NA &  162.564\\\\\n\t Jaguar               & Panthera      & carni   & Carnivora      & nt           & 10.4 &  NA &        NA & 13.60 & 0.157 &  100.000\\\\\n\t Lion                 & Panthera      & carni   & Carnivora      & vu           & 13.5 &  NA &        NA & 10.50 &    NA &  161.499\\\\\n\t Caspian seal         & Phoca         & carni   & Carnivora      & vu           &  3.5 & 0.4 &        NA & 20.50 &    NA &   86.000\\\\\n\t Pilot whale          & Globicephalus & carni   & Cetacea        & cd           &  2.7 & 0.1 &        NA & 21.35 &    NA &  800.000\\\\\n\t Common porpoise      & Phocoena      & carni   & Cetacea        & vu           &  5.6 &  NA &        NA & 18.45 &    NA &   53.180\\\\\n\t Bottle-nosed dolphin & Tursiops      & carni   & Cetacea        & NA           &  5.2 &  NA &        NA & 18.80 &    NA &  173.330\\\\\n\t Giant armadillo      & Priodontes    & insecti & Cingulata      & en           & 18.1 & 6.1 &        NA &  5.90 & 0.081 &   60.000\\\\\n\t Horse                & Equus         & herbi   & Perissodactyla & domesticated &  2.9 & 0.6 & 1.0000000 & 21.10 & 0.655 &  521.000\\\\\n\t Donkey               & Equus         & herbi   & Perissodactyla & domesticated &  3.1 & 0.4 &        NA & 20.90 & 0.419 &  187.000\\\\\n\t Brazilian tapir      & Tapirus       & herbi   & Perissodactyla & vu           &  4.4 & 1.0 & 0.9000000 & 19.60 & 0.169 &  207.501\\\\\n\t Human                & Homo          & omni    & Primates       & NA           &  8.0 & 1.9 & 1.5000000 & 16.00 & 1.320 &   62.000\\\\\n\t Chimpanzee           & Pan           & omni    & Primates       & NA           &  9.7 & 1.4 & 1.4166667 & 14.30 & 0.440 &   52.200\\\\\n\t Asian elephant       & Elephas       & herbi   & Proboscidea    & en           &  3.9 &  NA &        NA & 20.10 & 4.603 & 2547.000\\\\\n\t African elephant     & Loxodonta     & herbi   & Proboscidea    & vu           &  3.3 &  NA &        NA & 20.70 & 5.712 & 6654.000\\\\\n\\end{tabular}\n",
            "text/plain": [
              "   name                 genus         vore    order          conservation\n",
              "1  Cow                  Bos           herbi   Artiodactyla   domesticated\n",
              "2  Goat                 Capri         herbi   Artiodactyla   lc          \n",
              "3  Giraffe              Giraffa       herbi   Artiodactyla   cd          \n",
              "4  Sheep                Ovis          herbi   Artiodactyla   domesticated\n",
              "5  Pig                  Sus           omni    Artiodactyla   domesticated\n",
              "6  Cheetah              Acinonyx      carni   Carnivora      lc          \n",
              "7  Gray seal            Haliochoerus  carni   Carnivora      lc          \n",
              "8  Tiger                Panthera      carni   Carnivora      en          \n",
              "9  Jaguar               Panthera      carni   Carnivora      nt          \n",
              "10 Lion                 Panthera      carni   Carnivora      vu          \n",
              "11 Caspian seal         Phoca         carni   Carnivora      vu          \n",
              "12 Pilot whale          Globicephalus carni   Cetacea        cd          \n",
              "13 Common porpoise      Phocoena      carni   Cetacea        vu          \n",
              "14 Bottle-nosed dolphin Tursiops      carni   Cetacea        NA          \n",
              "15 Giant armadillo      Priodontes    insecti Cingulata      en          \n",
              "16 Horse                Equus         herbi   Perissodactyla domesticated\n",
              "17 Donkey               Equus         herbi   Perissodactyla domesticated\n",
              "18 Brazilian tapir      Tapirus       herbi   Perissodactyla vu          \n",
              "19 Human                Homo          omni    Primates       NA          \n",
              "20 Chimpanzee           Pan           omni    Primates       NA          \n",
              "21 Asian elephant       Elephas       herbi   Proboscidea    en          \n",
              "22 African elephant     Loxodonta     herbi   Proboscidea    vu          \n",
              "   sleep_total sleep_rem sleep_cycle awake brainwt bodywt  \n",
              "1   4.0        0.7       0.6666667   20.00 0.423    600.000\n",
              "2   5.3        0.6              NA   18.70 0.115     33.500\n",
              "3   1.9        0.4              NA   22.10    NA    899.995\n",
              "4   3.8        0.6              NA   20.20 0.175     55.500\n",
              "5   9.1        2.4       0.5000000   14.90 0.180     86.250\n",
              "6  12.1         NA              NA   11.90    NA     50.000\n",
              "7   6.2        1.5              NA   17.80 0.325     85.000\n",
              "8  15.8         NA              NA    8.20    NA    162.564\n",
              "9  10.4         NA              NA   13.60 0.157    100.000\n",
              "10 13.5         NA              NA   10.50    NA    161.499\n",
              "11  3.5        0.4              NA   20.50    NA     86.000\n",
              "12  2.7        0.1              NA   21.35    NA    800.000\n",
              "13  5.6         NA              NA   18.45    NA     53.180\n",
              "14  5.2         NA              NA   18.80    NA    173.330\n",
              "15 18.1        6.1              NA    5.90 0.081     60.000\n",
              "16  2.9        0.6       1.0000000   21.10 0.655    521.000\n",
              "17  3.1        0.4              NA   20.90 0.419    187.000\n",
              "18  4.4        1.0       0.9000000   19.60 0.169    207.501\n",
              "19  8.0        1.9       1.5000000   16.00 1.320     62.000\n",
              "20  9.7        1.4       1.4166667   14.30 0.440     52.200\n",
              "21  3.9         NA              NA   20.10 4.603   2547.000\n",
              "22  3.3         NA              NA   20.70 5.712   6654.000"
            ]
          },
          "metadata": {}
        }
      ]
    },
    {
      "cell_type": "code",
      "source": [
        "grouped <- filtered %>%\n",
        "  group_by(order) %>%\n",
        "  summarise(mean_sleep = mean(sleep_total, na.rm = TRUE))\n",
        "\n",
        "ggplot(grouped, aes(x = order, y = mean_sleep)) +\n",
        "  geom_bar(stat = \"identity\", fill = \"pink\", color =\"black\") +\n",
        "    labs(x = \"Order\", y = \"Mean Sleep Total\", title = \"Mean Sleep Total for Animals with Body Weight >= 30\") +\n",
        "      theme(axis.text.x = element_text(angle = 90, vjust = 0.5, hjust =1))"
      ],
      "metadata": {
        "colab": {
          "base_uri": "https://localhost:8080/",
          "height": 437
        },
        "id": "88vOBwNM_Fn2",
        "outputId": "c9541ce5-8be8-4936-c4b7-46afafa10a2a"
      },
      "execution_count": 47,
      "outputs": [
        {
          "output_type": "display_data",
          "data": {
            "text/plain": [
              "plot without title"
            ],
            "image/png": "[encoded data removed]"
          },
          "metadata": {
            "image/png": {
              "width": 420,
              "height": 420
            }
          }
        }
      ]
    },
    {
      "cell_type": "markdown",
      "source": [
        "## 3. Clean and Analyze Data Using R (4 pts)\n",
        "\n",
        "In the cells below use R to perform the following data cleaning steps on this file:\n",
        "https://raw.githubusercontent.com/nmagee/ds1002/main/data/social-media-users.csv\n",
        "\n",
        "1. Remove any duplicate rows.\n",
        "2. Remove any records where `last_login` or `birthdate` are empty.\n",
        "3. Display only the records with the 10 highest `follower` counts.\n",
        "4. Determine counts of users when grouped by continent."
      ],
      "metadata": {
        "id": "-2ZaFcCCv3o8"
      }
    },
    {
      "cell_type": "code",
      "source": [
        "#\n",
        "df <- read.csv(\"https://raw.githubusercontent.com/nmagee/ds1002/main/data/social-media-users.csv\")"
      ],
      "metadata": {
        "id": "V4nBsdVsyauQ"
      },
      "execution_count": 60,
      "outputs": []
    },
    {
      "cell_type": "code",
      "source": [
        "#\n",
        "str(df)\n"
      ],
      "metadata": {
        "id": "LwXD1sNulIT3",
        "colab": {
          "base_uri": "https://localhost:8080/"
        },
        "outputId": "75d23501-374d-41a5-f0f4-bc5a7fe9cb66"
      },
      "execution_count": 61,
      "outputs": [
        {
          "output_type": "stream",
          "name": "stdout",
          "text": [
            "'data.frame':\t1318 obs. of  8 variables:\n",
            " $ username  : chr  \"ckippen0\" \"tgergler1\" \"spomfrett2\" \"rphettis3\" ...\n",
            " $ full_name : chr  \"Clevey Kippen\" \"Tedi Gergler\" \"Steffie Pomfrett\" \"Ruddy Phettis\" ...\n",
            " $ birthdate : chr  \"5/1/1991\" \"10/5/1998\" \"\" \"6/18/1984\" ...\n",
            " $ email     : chr  \"ckippen0@t-online.de\" \"tgergler1@salon.com\" \"spomfrett2@imdb.com\" \"rphettis3@npr.org\" ...\n",
            " $ continent : chr  NA NA NA \"EU\" ...\n",
            " $ followers : int  12362 21360 19530 80047 33544 72161 42669 22516 93923 18554 ...\n",
            " $ last_login: chr  \"5/16/2023\" \"8/20/2020\" \"11/19/2022\" \"9/20/2023\" ...\n",
            " $ interests : chr  \"music\" \"sports\" \"sports\" \"travel\" ...\n"
          ]
        }
      ]
    },
    {
      "cell_type": "code",
      "source": [
        "#\n",
        "nrow(df[duplicated(df), ])"
      ],
      "metadata": {
        "id": "7qa100btlI4Z",
        "colab": {
          "base_uri": "https://localhost:8080/",
          "height": 34
        },
        "outputId": "632d56a8-664b-4b22-e1f6-7275869ce832"
      },
      "execution_count": 62,
      "outputs": [
        {
          "output_type": "display_data",
          "data": {
            "text/html": [
              "318"
            ],
            "text/markdown": "318",
            "text/latex": "318",
            "text/plain": [
              "[1] 318"
            ]
          },
          "metadata": {}
        }
      ]
    },
    {
      "cell_type": "code",
      "source": [
        "#\n",
        "df2 <- df[!duplicated(df), ]"
      ],
      "metadata": {
        "id": "MjrZisnxlJUa"
      },
      "execution_count": 63,
      "outputs": []
    },
    {
      "cell_type": "code",
      "source": [
        "nrow(df2[duplicated(df2), ])"
      ],
      "metadata": {
        "colab": {
          "base_uri": "https://localhost:8080/",
          "height": 34
        },
        "id": "DjQr99x9Aep4",
        "outputId": "e82f9532-0ef6-4bdf-fb98-f7b1f3b7577f"
      },
      "execution_count": 64,
      "outputs": [
        {
          "output_type": "display_data",
          "data": {
            "text/html": [
              "0"
            ],
            "text/markdown": "0",
            "text/latex": "0",
            "text/plain": [
              "[1] 0"
            ]
          },
          "metadata": {}
        }
      ]
    },
    {
      "cell_type": "code",
      "source": [
        "str(df2)"
      ],
      "metadata": {
        "colab": {
          "base_uri": "https://localhost:8080/"
        },
        "id": "F1eR5xGdA9j6",
        "outputId": "6bde7521-2c9b-4c3b-a596-30983adf9e9e"
      },
      "execution_count": 65,
      "outputs": [
        {
          "output_type": "stream",
          "name": "stdout",
          "text": [
            "'data.frame':\t1000 obs. of  8 variables:\n",
            " $ username  : chr  \"ckippen0\" \"tgergler1\" \"spomfrett2\" \"rphettis3\" ...\n",
            " $ full_name : chr  \"Clevey Kippen\" \"Tedi Gergler\" \"Steffie Pomfrett\" \"Ruddy Phettis\" ...\n",
            " $ birthdate : chr  \"5/1/1991\" \"10/5/1998\" \"\" \"6/18/1984\" ...\n",
            " $ email     : chr  \"ckippen0@t-online.de\" \"tgergler1@salon.com\" \"spomfrett2@imdb.com\" \"rphettis3@npr.org\" ...\n",
            " $ continent : chr  NA NA NA \"EU\" ...\n",
            " $ followers : int  12362 21360 19530 80047 33544 72161 42669 22516 93923 18554 ...\n",
            " $ last_login: chr  \"5/16/2023\" \"8/20/2020\" \"11/19/2022\" \"9/20/2023\" ...\n",
            " $ interests : chr  \"music\" \"sports\" \"sports\" \"travel\" ...\n"
          ]
        }
      ]
    },
    {
      "cell_type": "code",
      "source": [
        "library(ggplot2)\n",
        "library(dplyr)\n",
        "install.packages(\"tidyverse\")\n",
        "library(tidyverse)\n",
        "\n",
        "df2[df2==\"\"] <- NA\n",
        "df_no_empty <- df2 %>% drop_na(birthdate, last_login)\n",
        "df_no_empty"
      ],
      "metadata": {
        "colab": {
          "base_uri": "https://localhost:8080/",
          "height": 1000
        },
        "id": "95YvEfQFAkNw",
        "outputId": "5e3eff9c-ac9f-4f03-db45-697915102881"
      },
      "execution_count": 66,
      "outputs": [
        {
          "output_type": "stream",
          "name": "stderr",
          "text": [
            "Installing package into ‘/usr/local/lib/R/site-library’\n",
            "(as ‘lib’ is unspecified)\n",
            "\n"
          ]
        },
        {
          "output_type": "display_data",
          "data": {
            "text/html": [
              "<table class=\"dataframe\">\n",
              "<caption>A data.frame: 650 × 8</caption>\n",
              "<thead>\n",
              "\t<tr><th scope=col>username</th><th scope=col>full_name</th><th scope=col>birthdate</th><th scope=col>email</th><th scope=col>continent</th><th scope=col>followers</th><th scope=col>last_login</th><th scope=col>interests</th></tr>\n",
              "\t<tr><th scope=col>&lt;chr&gt;</th><th scope=col>&lt;chr&gt;</th><th scope=col>&lt;chr&gt;</th><th scope=col>&lt;chr&gt;</th><th scope=col>&lt;chr&gt;</th><th scope=col>&lt;int&gt;</th><th scope=col>&lt;chr&gt;</th><th scope=col>&lt;chr&gt;</th></tr>\n",
              "</thead>\n",
              "<tbody>\n",
              "\t<tr><td>ckippen0       </td><td>Clevey Kippen      </td><td>5/1/1991  </td><td>ckippen0@t-online.de         </td><td>NA</td><td>12362</td><td>5/16/2023 </td><td>music </td></tr>\n",
              "\t<tr><td>tgergler1      </td><td>Tedi Gergler       </td><td>10/5/1998 </td><td>tgergler1@salon.com          </td><td>NA</td><td>21360</td><td>8/20/2020 </td><td>sports</td></tr>\n",
              "\t<tr><td>rphettis3      </td><td>Ruddy Phettis      </td><td>6/18/1984 </td><td>rphettis3@npr.org            </td><td>EU</td><td>80047</td><td>9/20/2023 </td><td>travel</td></tr>\n",
              "\t<tr><td>ttotman6       </td><td>Tamqrah Totman     </td><td>8/7/1986  </td><td>ttotman6@elpais.com          </td><td>AF</td><td>42669</td><td>3/10/2023 </td><td>music </td></tr>\n",
              "\t<tr><td>kgrigoryev8    </td><td>Krishna Grigoryev  </td><td>5/25/1990 </td><td>kgrigoryev8@quantcast.com    </td><td>EU</td><td>93923</td><td>1/30/2023 </td><td>travel</td></tr>\n",
              "\t<tr><td>mchittockb     </td><td>Myriam Chittock    </td><td>1/26/1989 </td><td>mchittockb@uiuc.edu          </td><td>AF</td><td>46304</td><td>8/29/2023 </td><td>sports</td></tr>\n",
              "\t<tr><td>aeasbyd        </td><td>Alessandra Easby   </td><td>1/5/1991  </td><td>aeasbyd@google.ca            </td><td>AF</td><td>16786</td><td>6/15/2023 </td><td>sports</td></tr>\n",
              "\t<tr><td>dleishmanf     </td><td>Dyane Leishman     </td><td>2/12/1990 </td><td>dleishmanf@lycos.com         </td><td>NA</td><td>85070</td><td>6/5/2021  </td><td>travel</td></tr>\n",
              "\t<tr><td>omarusiki      </td><td>Otha Marusik       </td><td>12/4/1992 </td><td>omarusiki@cdbaby.com         </td><td>AF</td><td>93981</td><td>2/4/2022  </td><td>travel</td></tr>\n",
              "\t<tr><td>sspenclayk     </td><td>Scott Spenclay     </td><td>12/7/1989 </td><td>sspenclayk@wikispaces.com    </td><td>AF</td><td>31745</td><td>11/29/2022</td><td>sports</td></tr>\n",
              "\t<tr><td>gklinckl       </td><td>Georgetta Klinck   </td><td>7/26/1996 </td><td>gklinckl@over-blog.com       </td><td>SA</td><td>69386</td><td>9/10/2023 </td><td>sports</td></tr>\n",
              "\t<tr><td>rhollowm       </td><td>Riccardo Hollow    </td><td>1/18/1980 </td><td>rhollowm@dyndns.org          </td><td>OC</td><td>73088</td><td>1/22/2020 </td><td>sports</td></tr>\n",
              "\t<tr><td>galdrins       </td><td>Gerick Aldrin      </td><td>7/31/1995 </td><td>galdrins@ca.gov              </td><td>NA</td><td>96491</td><td>5/26/2022 </td><td>music </td></tr>\n",
              "\t<tr><td>ddimmockt      </td><td>Didi Dimmock       </td><td>5/15/1985 </td><td>ddimmockt@wired.com          </td><td>EU</td><td>81726</td><td>4/23/2021 </td><td>sports</td></tr>\n",
              "\t<tr><td>fpythonu       </td><td>Franz Python       </td><td>4/5/1984  </td><td>fpythonu@fastcompany.com     </td><td>SA</td><td>28388</td><td>7/9/2023  </td><td>music </td></tr>\n",
              "\t<tr><td>btutingv       </td><td>Brod Tuting        </td><td>11/10/1988</td><td>btutingv@wordpress.org       </td><td>NA</td><td>42044</td><td>8/16/2021 </td><td>music </td></tr>\n",
              "\t<tr><td>tcosgriffw     </td><td>Tami Cosgriff      </td><td>8/26/1997 </td><td>tcosgriffw@exblog.jp         </td><td>NA</td><td>94463</td><td>6/25/2021 </td><td>music </td></tr>\n",
              "\t<tr><td>amcclellandz   </td><td>Annabela McClelland</td><td>8/12/1983 </td><td>amcclellandz@soundcloud.com  </td><td>AF</td><td>51483</td><td>5/3/2020  </td><td>sports</td></tr>\n",
              "\t<tr><td>asearby10      </td><td>Alyson Searby      </td><td>11/27/1997</td><td>asearby10@bravesites.com     </td><td>NA</td><td>10548</td><td>6/7/2022  </td><td>travel</td></tr>\n",
              "\t<tr><td>kpietzker11    </td><td>Keane Pietzker     </td><td>11/26/1996</td><td>kpietzker11@tumblr.com       </td><td>AS</td><td>96249</td><td>8/7/2023  </td><td>music </td></tr>\n",
              "\t<tr><td>olandreth12    </td><td>Orsa Landreth      </td><td>1/10/2000 </td><td>olandreth12@oaic.gov.au      </td><td>SA</td><td>21065</td><td>9/2/2020  </td><td>music </td></tr>\n",
              "\t<tr><td>pscopyn13      </td><td>Pablo Scopyn       </td><td>4/5/1985  </td><td>pscopyn13@creativecommons.org</td><td>NA</td><td>39440</td><td>9/9/2023  </td><td>music </td></tr>\n",
              "\t<tr><td>clettice14     </td><td>Cosette Lettice    </td><td>12/23/1981</td><td>clettice14@cmu.edu           </td><td>AS</td><td>58637</td><td>12/7/2021 </td><td>travel</td></tr>\n",
              "\t<tr><td>schamberlayne15</td><td>Shena Chamberlayne </td><td>8/18/1989 </td><td>schamberlayne15@godaddy.com  </td><td>NA</td><td>64567</td><td>12/3/2020 </td><td>music </td></tr>\n",
              "\t<tr><td>gwand16        </td><td>Gaelan Wand        </td><td>8/13/1995 </td><td>gwand16@ihg.com              </td><td>NA</td><td>16969</td><td>2/2/2021  </td><td>sports</td></tr>\n",
              "\t<tr><td>lure17         </td><td>Layton Ure         </td><td>6/27/1981 </td><td>lure17@mit.edu               </td><td>NA</td><td>55952</td><td>6/24/2020 </td><td>sports</td></tr>\n",
              "\t<tr><td>ccressy18      </td><td>Carson Cressy      </td><td>10/20/1995</td><td>ccressy18@ucoz.com           </td><td>NA</td><td>61529</td><td>12/15/2021</td><td>sports</td></tr>\n",
              "\t<tr><td>bgribbon1b     </td><td>Bennie Gribbon     </td><td>11/12/1984</td><td>bgribbon1b@dailymail.co.uk   </td><td>AS</td><td> 8772</td><td>11/21/2021</td><td>music </td></tr>\n",
              "\t<tr><td>lherley1d      </td><td>Lorianne Herley    </td><td>11/30/1984</td><td>lherley1d@baidu.com          </td><td>AS</td><td>33535</td><td>8/18/2022 </td><td>travel</td></tr>\n",
              "\t<tr><td>scleyburn1f    </td><td>Steward Cleyburn   </td><td>11/18/1985</td><td>scleyburn1f@msn.com          </td><td>EU</td><td>69684</td><td>11/6/2022 </td><td>sports</td></tr>\n",
              "\t<tr><td>⋮</td><td>⋮</td><td>⋮</td><td>⋮</td><td>⋮</td><td>⋮</td><td>⋮</td><td>⋮</td></tr>\n",
              "\t<tr><td>jmacaskillqb  </td><td>Jinny MacAskill     </td><td>9/20/2002 </td><td>jmacaskillqb@weebly.com        </td><td>OC</td><td>67895</td><td>11/10/2020</td><td>travel</td></tr>\n",
              "\t<tr><td>mcornbellqd   </td><td>Maximo Cornbell     </td><td>9/13/1989 </td><td>mcornbellqd@upenn.edu          </td><td>NA</td><td>22534</td><td>9/14/2022 </td><td>music </td></tr>\n",
              "\t<tr><td>clabbqe       </td><td>Constantia Labb     </td><td>4/29/1983 </td><td>clabbqe@phpbb.com              </td><td>AS</td><td>19170</td><td>4/17/2020 </td><td>sports</td></tr>\n",
              "\t<tr><td>mmatteaqi     </td><td>Maxy Mattea         </td><td>1/14/1991 </td><td>mmatteaqi@mit.edu              </td><td>AS</td><td>58766</td><td>12/16/2021</td><td>travel</td></tr>\n",
              "\t<tr><td>gbluneqj      </td><td>Gusta Blune         </td><td>11/25/1997</td><td>gbluneqj@google.nl             </td><td>NA</td><td>98741</td><td>1/20/2023 </td><td>music </td></tr>\n",
              "\t<tr><td>nkenningleyqk </td><td>Niall Kenningley    </td><td>7/12/2000 </td><td>nkenningleyqk@vkontakte.ru     </td><td>NA</td><td>70115</td><td>6/26/2022 </td><td>music </td></tr>\n",
              "\t<tr><td>hscraceqm     </td><td>Haze Scrace         </td><td>6/11/2001 </td><td>hscraceqm@economist.com        </td><td>AS</td><td>12639</td><td>9/6/2020  </td><td>music </td></tr>\n",
              "\t<tr><td>lbyasqp       </td><td>Lothaire Byas       </td><td>1/28/1992 </td><td>lbyasqp@merriam-webster.com    </td><td>SA</td><td>10235</td><td>8/22/2021 </td><td>sports</td></tr>\n",
              "\t<tr><td>mgreceqr      </td><td>Molly Grece         </td><td>6/25/1998 </td><td>mgreceqr@deliciousdays.com     </td><td>NA</td><td>75667</td><td>7/25/2023 </td><td>sports</td></tr>\n",
              "\t<tr><td>enealeqs      </td><td>Ethelyn Neale       </td><td>1/23/1990 </td><td>enealeqs@spotify.com           </td><td>NA</td><td>19623</td><td>3/29/2022 </td><td>sports</td></tr>\n",
              "\t<tr><td>cvogeleinqt   </td><td>Codi Vogelein       </td><td>1/20/1998 </td><td>cvogeleinqt@stanford.edu       </td><td>EU</td><td>47689</td><td>5/6/2023  </td><td>travel</td></tr>\n",
              "\t<tr><td>lblinkhornqu  </td><td>Lolita Blinkhorn    </td><td>6/11/1980 </td><td>lblinkhornqu@hud.gov           </td><td>AS</td><td>64080</td><td>9/23/2023 </td><td>sports</td></tr>\n",
              "\t<tr><td>hallonbyqv    </td><td>Hatti Allonby       </td><td>8/5/1987  </td><td>hallonbyqv@theatlantic.com     </td><td>NA</td><td>91992</td><td>3/15/2021 </td><td>travel</td></tr>\n",
              "\t<tr><td>badinqw       </td><td>Bo Adin             </td><td>4/24/1997 </td><td>badinqw@shareasale.com         </td><td>NA</td><td>82090</td><td>10/26/2020</td><td>sports</td></tr>\n",
              "\t<tr><td>sargerqy      </td><td>Shane Arger         </td><td>2/21/1992 </td><td>sargerqy@exblog.jp             </td><td>AF</td><td>53022</td><td>12/7/2021 </td><td>music </td></tr>\n",
              "\t<tr><td>jgiorgiuttiqz </td><td>Joy Giorgiutti      </td><td>5/5/1988  </td><td>jgiorgiuttiqz@timesonline.co.uk</td><td>NA</td><td>26125</td><td>6/1/2020  </td><td>travel</td></tr>\n",
              "\t<tr><td>ksturdeyr4    </td><td>Krissie Sturdey     </td><td>8/13/1980 </td><td>ksturdeyr4@skyrock.com         </td><td>SA</td><td>37880</td><td>4/17/2020 </td><td>travel</td></tr>\n",
              "\t<tr><td>ggerrillr6    </td><td>Genevieve Gerrill   </td><td>8/16/1994 </td><td>ggerrillr6@xrea.com            </td><td>OC</td><td>78326</td><td>4/30/2022 </td><td>sports</td></tr>\n",
              "\t<tr><td>rleningr9     </td><td>Roch Lening         </td><td>9/1/1981  </td><td>rleningr9@taobao.com           </td><td>OC</td><td>21333</td><td>2/23/2020 </td><td>music </td></tr>\n",
              "\t<tr><td>gbilbeyra     </td><td>Grannie Bilbey      </td><td>6/22/1992 </td><td>gbilbeyra@wisc.edu             </td><td>AS</td><td>77316</td><td>5/4/2022  </td><td>music </td></tr>\n",
              "\t<tr><td>acaldicottre  </td><td>Ashlee Caldicott    </td><td>2/2/1996  </td><td>acaldicottre@furl.net          </td><td>OC</td><td>67530</td><td>2/15/2022 </td><td>music </td></tr>\n",
              "\t<tr><td>jbirchallrh   </td><td>Jinny Birchall      </td><td>11/3/1987 </td><td>jbirchallrh@senate.gov         </td><td>AF</td><td>76102</td><td>3/4/2022  </td><td>music </td></tr>\n",
              "\t<tr><td>fwegenenrj    </td><td>Filippa Wegenen     </td><td>10/25/1994</td><td>fwegenenrj@nbcnews.com         </td><td>NA</td><td>68133</td><td>9/20/2023 </td><td>travel</td></tr>\n",
              "\t<tr><td>bpierrork     </td><td>Bobbie Pierro       </td><td>5/27/1991 </td><td>bpierrork@rambler.ru           </td><td>NA</td><td>81408</td><td>6/6/2023  </td><td>sports</td></tr>\n",
              "\t<tr><td>vmacterrellyrm</td><td>Virginie MacTerrelly</td><td>10/8/1994 </td><td>vmacterrellyrm@dailymotion.com </td><td>AS</td><td>   81</td><td>9/11/2023 </td><td>sports</td></tr>\n",
              "\t<tr><td>sschafflerrn  </td><td>Sallyann Schaffler  </td><td>12/7/1999 </td><td>sschafflerrn@wsj.com           </td><td>OC</td><td>89752</td><td>9/20/2020 </td><td>sports</td></tr>\n",
              "\t<tr><td>nilyinskiro   </td><td>Nanette Ilyinski    </td><td>5/13/1989 </td><td>nilyinskiro@123-reg.co.uk      </td><td>NA</td><td>47332</td><td>11/16/2020</td><td>sports</td></tr>\n",
              "\t<tr><td>sgeertzrp     </td><td>Stephen Geertz      </td><td>9/6/1994  </td><td>sgeertzrp@hp.com               </td><td>NA</td><td>36511</td><td>11/19/2022</td><td>music </td></tr>\n",
              "\t<tr><td>cchurchmanrq  </td><td>Chrisse Churchman   </td><td>4/23/1998 </td><td>cchurchmanrq@qq.com            </td><td>NA</td><td>84037</td><td>2/12/2022 </td><td>music </td></tr>\n",
              "\t<tr><td>crembrantrr   </td><td>Clementine Rembrant </td><td>3/15/2001 </td><td>crembrantrr@who.int            </td><td>NA</td><td>11336</td><td>3/2/2020  </td><td>music </td></tr>\n",
              "</tbody>\n",
              "</table>\n"
            ],
            "text/markdown": "\nA data.frame: 650 × 8\n\n| username &lt;chr&gt; | full_name &lt;chr&gt; | birthdate &lt;chr&gt; | email &lt;chr&gt; | continent &lt;chr&gt; | followers &lt;int&gt; | last_login &lt;chr&gt; | interests &lt;chr&gt; |\n|---|---|---|---|---|---|---|---|\n| ckippen0        | Clevey Kippen       | 5/1/1991   | ckippen0@t-online.de          | NA | 12362 | 5/16/2023  | music  |\n| tgergler1       | Tedi Gergler        | 10/5/1998  | tgergler1@salon.com           | NA | 21360 | 8/20/2020  | sports |\n| rphettis3       | Ruddy Phettis       | 6/18/1984  | rphettis3@npr.org             | EU | 80047 | 9/20/2023  | travel |\n| ttotman6        | Tamqrah Totman      | 8/7/1986   | ttotman6@elpais.com           | AF | 42669 | 3/10/2023  | music  |\n| kgrigoryev8     | Krishna Grigoryev   | 5/25/1990  | kgrigoryev8@quantcast.com     | EU | 93923 | 1/30/2023  | travel |\n| mchittockb      | Myriam Chittock     | 1/26/1989  | mchittockb@uiuc.edu           | AF | 46304 | 8/29/2023  | sports |\n| aeasbyd         | Alessandra Easby    | 1/5/1991   | aeasbyd@google.ca             | AF | 16786 | 6/15/2023  | sports |\n| dleishmanf      | Dyane Leishman      | 2/12/1990  | dleishmanf@lycos.com          | NA | 85070 | 6/5/2021   | travel |\n| omarusiki       | Otha Marusik        | 12/4/1992  | omarusiki@cdbaby.com          | AF | 93981 | 2/4/2022   | travel |\n| sspenclayk      | Scott Spenclay      | 12/7/1989  | sspenclayk@wikispaces.com     | AF | 31745 | 11/29/2022 | sports |\n| gklinckl        | Georgetta Klinck    | 7/26/1996  | gklinckl@over-blog.com        | SA | 69386 | 9/10/2023  | sports |\n| rhollowm        | Riccardo Hollow     | 1/18/1980  | rhollowm@dyndns.org           | OC | 73088 | 1/22/2020  | sports |\n| galdrins        | Gerick Aldrin       | 7/31/1995  | galdrins@ca.gov               | NA | 96491 | 5/26/2022  | music  |\n| ddimmockt       | Didi Dimmock        | 5/15/1985  | ddimmockt@wired.com           | EU | 81726 | 4/23/2021  | sports |\n| fpythonu        | Franz Python        | 4/5/1984   | fpythonu@fastcompany.com      | SA | 28388 | 7/9/2023   | music  |\n| btutingv        | Brod Tuting         | 11/10/1988 | btutingv@wordpress.org        | NA | 42044 | 8/16/2021  | music  |\n| tcosgriffw      | Tami Cosgriff       | 8/26/1997  | tcosgriffw@exblog.jp          | NA | 94463 | 6/25/2021  | music  |\n| amcclellandz    | Annabela McClelland | 8/12/1983  | amcclellandz@soundcloud.com   | AF | 51483 | 5/3/2020   | sports |\n| asearby10       | Alyson Searby       | 11/27/1997 | asearby10@bravesites.com      | NA | 10548 | 6/7/2022   | travel |\n| kpietzker11     | Keane Pietzker      | 11/26/1996 | kpietzker11@tumblr.com        | AS | 96249 | 8/7/2023   | music  |\n| olandreth12     | Orsa Landreth       | 1/10/2000  | olandreth12@oaic.gov.au       | SA | 21065 | 9/2/2020   | music  |\n| pscopyn13       | Pablo Scopyn        | 4/5/1985   | pscopyn13@creativecommons.org | NA | 39440 | 9/9/2023   | music  |\n| clettice14      | Cosette Lettice     | 12/23/1981 | clettice14@cmu.edu            | AS | 58637 | 12/7/2021  | travel |\n| schamberlayne15 | Shena Chamberlayne  | 8/18/1989  | schamberlayne15@godaddy.com   | NA | 64567 | 12/3/2020  | music  |\n| gwand16         | Gaelan Wand         | 8/13/1995  | gwand16@ihg.com               | NA | 16969 | 2/2/2021   | sports |\n| lure17          | Layton Ure          | 6/27/1981  | lure17@mit.edu                | NA | 55952 | 6/24/2020  | sports |\n| ccressy18       | Carson Cressy       | 10/20/1995 | ccressy18@ucoz.com            | NA | 61529 | 12/15/2021 | sports |\n| bgribbon1b      | Bennie Gribbon      | 11/12/1984 | bgribbon1b@dailymail.co.uk    | AS |  8772 | 11/21/2021 | music  |\n| lherley1d       | Lorianne Herley     | 11/30/1984 | lherley1d@baidu.com           | AS | 33535 | 8/18/2022  | travel |\n| scleyburn1f     | Steward Cleyburn    | 11/18/1985 | scleyburn1f@msn.com           | EU | 69684 | 11/6/2022  | sports |\n| ⋮ | ⋮ | ⋮ | ⋮ | ⋮ | ⋮ | ⋮ | ⋮ |\n| jmacaskillqb   | Jinny MacAskill      | 9/20/2002  | jmacaskillqb@weebly.com         | OC | 67895 | 11/10/2020 | travel |\n| mcornbellqd    | Maximo Cornbell      | 9/13/1989  | mcornbellqd@upenn.edu           | NA | 22534 | 9/14/2022  | music  |\n| clabbqe        | Constantia Labb      | 4/29/1983  | clabbqe@phpbb.com               | AS | 19170 | 4/17/2020  | sports |\n| mmatteaqi      | Maxy Mattea          | 1/14/1991  | mmatteaqi@mit.edu               | AS | 58766 | 12/16/2021 | travel |\n| gbluneqj       | Gusta Blune          | 11/25/1997 | gbluneqj@google.nl              | NA | 98741 | 1/20/2023  | music  |\n| nkenningleyqk  | Niall Kenningley     | 7/12/2000  | nkenningleyqk@vkontakte.ru      | NA | 70115 | 6/26/2022  | music  |\n| hscraceqm      | Haze Scrace          | 6/11/2001  | hscraceqm@economist.com         | AS | 12639 | 9/6/2020   | music  |\n| lbyasqp        | Lothaire Byas        | 1/28/1992  | lbyasqp@merriam-webster.com     | SA | 10235 | 8/22/2021  | sports |\n| mgreceqr       | Molly Grece          | 6/25/1998  | mgreceqr@deliciousdays.com      | NA | 75667 | 7/25/2023  | sports |\n| enealeqs       | Ethelyn Neale        | 1/23/1990  | enealeqs@spotify.com            | NA | 19623 | 3/29/2022  | sports |\n| cvogeleinqt    | Codi Vogelein        | 1/20/1998  | cvogeleinqt@stanford.edu        | EU | 47689 | 5/6/2023   | travel |\n| lblinkhornqu   | Lolita Blinkhorn     | 6/11/1980  | lblinkhornqu@hud.gov            | AS | 64080 | 9/23/2023  | sports |\n| hallonbyqv     | Hatti Allonby        | 8/5/1987   | hallonbyqv@theatlantic.com      | NA | 91992 | 3/15/2021  | travel |\n| badinqw        | Bo Adin              | 4/24/1997  | badinqw@shareasale.com          | NA | 82090 | 10/26/2020 | sports |\n| sargerqy       | Shane Arger          | 2/21/1992  | sargerqy@exblog.jp              | AF | 53022 | 12/7/2021  | music  |\n| jgiorgiuttiqz  | Joy Giorgiutti       | 5/5/1988   | jgiorgiuttiqz@timesonline.co.uk | NA | 26125 | 6/1/2020   | travel |\n| ksturdeyr4     | Krissie Sturdey      | 8/13/1980  | ksturdeyr4@skyrock.com          | SA | 37880 | 4/17/2020  | travel |\n| ggerrillr6     | Genevieve Gerrill    | 8/16/1994  | ggerrillr6@xrea.com             | OC | 78326 | 4/30/2022  | sports |\n| rleningr9      | Roch Lening          | 9/1/1981   | rleningr9@taobao.com            | OC | 21333 | 2/23/2020  | music  |\n| gbilbeyra      | Grannie Bilbey       | 6/22/1992  | gbilbeyra@wisc.edu              | AS | 77316 | 5/4/2022   | music  |\n| acaldicottre   | Ashlee Caldicott     | 2/2/1996   | acaldicottre@furl.net           | OC | 67530 | 2/15/2022  | music  |\n| jbirchallrh    | Jinny Birchall       | 11/3/1987  | jbirchallrh@senate.gov          | AF | 76102 | 3/4/2022   | music  |\n| fwegenenrj     | Filippa Wegenen      | 10/25/1994 | fwegenenrj@nbcnews.com          | NA | 68133 | 9/20/2023  | travel |\n| bpierrork      | Bobbie Pierro        | 5/27/1991  | bpierrork@rambler.ru            | NA | 81408 | 6/6/2023   | sports |\n| vmacterrellyrm | Virginie MacTerrelly | 10/8/1994  | vmacterrellyrm@dailymotion.com  | AS |    81 | 9/11/2023  | sports |\n| sschafflerrn   | Sallyann Schaffler   | 12/7/1999  | sschafflerrn@wsj.com            | OC | 89752 | 9/20/2020  | sports |\n| nilyinskiro    | Nanette Ilyinski     | 5/13/1989  | nilyinskiro@123-reg.co.uk       | NA | 47332 | 11/16/2020 | sports |\n| sgeertzrp      | Stephen Geertz       | 9/6/1994   | sgeertzrp@hp.com                | NA | 36511 | 11/19/2022 | music  |\n| cchurchmanrq   | Chrisse Churchman    | 4/23/1998  | cchurchmanrq@qq.com             | NA | 84037 | 2/12/2022  | music  |\n| crembrantrr    | Clementine Rembrant  | 3/15/2001  | crembrantrr@who.int             | NA | 11336 | 3/2/2020   | music  |\n\n",
            "text/latex": "A data.frame: 650 × 8\n\\begin{tabular}{llllllll}\n username & full\\_name & birthdate & email & continent & followers & last\\_login & interests\\\\\n <chr> & <chr> & <chr> & <chr> & <chr> & <int> & <chr> & <chr>\\\\\n\\hline\n\t ckippen0        & Clevey Kippen       & 5/1/1991   & ckippen0@t-online.de          & NA & 12362 & 5/16/2023  & music \\\\\n\t tgergler1       & Tedi Gergler        & 10/5/1998  & tgergler1@salon.com           & NA & 21360 & 8/20/2020  & sports\\\\\n\t rphettis3       & Ruddy Phettis       & 6/18/1984  & rphettis3@npr.org             & EU & 80047 & 9/20/2023  & travel\\\\\n\t ttotman6        & Tamqrah Totman      & 8/7/1986   & ttotman6@elpais.com           & AF & 42669 & 3/10/2023  & music \\\\\n\t kgrigoryev8     & Krishna Grigoryev   & 5/25/1990  & kgrigoryev8@quantcast.com     & EU & 93923 & 1/30/2023  & travel\\\\\n\t mchittockb      & Myriam Chittock     & 1/26/1989  & mchittockb@uiuc.edu           & AF & 46304 & 8/29/2023  & sports\\\\\n\t aeasbyd         & Alessandra Easby    & 1/5/1991   & aeasbyd@google.ca             & AF & 16786 & 6/15/2023  & sports\\\\\n\t dleishmanf      & Dyane Leishman      & 2/12/1990  & dleishmanf@lycos.com          & NA & 85070 & 6/5/2021   & travel\\\\\n\t omarusiki       & Otha Marusik        & 12/4/1992  & omarusiki@cdbaby.com          & AF & 93981 & 2/4/2022   & travel\\\\\n\t sspenclayk      & Scott Spenclay      & 12/7/1989  & sspenclayk@wikispaces.com     & AF & 31745 & 11/29/2022 & sports\\\\\n\t gklinckl        & Georgetta Klinck    & 7/26/1996  & gklinckl@over-blog.com        & SA & 69386 & 9/10/2023  & sports\\\\\n\t rhollowm        & Riccardo Hollow     & 1/18/1980  & rhollowm@dyndns.org           & OC & 73088 & 1/22/2020  & sports\\\\\n\t galdrins        & Gerick Aldrin       & 7/31/1995  & galdrins@ca.gov               & NA & 96491 & 5/26/2022  & music \\\\\n\t ddimmockt       & Didi Dimmock        & 5/15/1985  & ddimmockt@wired.com           & EU & 81726 & 4/23/2021  & sports\\\\\n\t fpythonu        & Franz Python        & 4/5/1984   & fpythonu@fastcompany.com      & SA & 28388 & 7/9/2023   & music \\\\\n\t btutingv        & Brod Tuting         & 11/10/1988 & btutingv@wordpress.org        & NA & 42044 & 8/16/2021  & music \\\\\n\t tcosgriffw      & Tami Cosgriff       & 8/26/1997  & tcosgriffw@exblog.jp          & NA & 94463 & 6/25/2021  & music \\\\\n\t amcclellandz    & Annabela McClelland & 8/12/1983  & amcclellandz@soundcloud.com   & AF & 51483 & 5/3/2020   & sports\\\\\n\t asearby10       & Alyson Searby       & 11/27/1997 & asearby10@bravesites.com      & NA & 10548 & 6/7/2022   & travel\\\\\n\t kpietzker11     & Keane Pietzker      & 11/26/1996 & kpietzker11@tumblr.com        & AS & 96249 & 8/7/2023   & music \\\\\n\t olandreth12     & Orsa Landreth       & 1/10/2000  & olandreth12@oaic.gov.au       & SA & 21065 & 9/2/2020   & music \\\\\n\t pscopyn13       & Pablo Scopyn        & 4/5/1985   & pscopyn13@creativecommons.org & NA & 39440 & 9/9/2023   & music \\\\\n\t clettice14      & Cosette Lettice     & 12/23/1981 & clettice14@cmu.edu            & AS & 58637 & 12/7/2021  & travel\\\\\n\t schamberlayne15 & Shena Chamberlayne  & 8/18/1989  & schamberlayne15@godaddy.com   & NA & 64567 & 12/3/2020  & music \\\\\n\t gwand16         & Gaelan Wand         & 8/13/1995  & gwand16@ihg.com               & NA & 16969 & 2/2/2021   & sports\\\\\n\t lure17          & Layton Ure          & 6/27/1981  & lure17@mit.edu                & NA & 55952 & 6/24/2020  & sports\\\\\n\t ccressy18       & Carson Cressy       & 10/20/1995 & ccressy18@ucoz.com            & NA & 61529 & 12/15/2021 & sports\\\\\n\t bgribbon1b      & Bennie Gribbon      & 11/12/1984 & bgribbon1b@dailymail.co.uk    & AS &  8772 & 11/21/2021 & music \\\\\n\t lherley1d       & Lorianne Herley     & 11/30/1984 & lherley1d@baidu.com           & AS & 33535 & 8/18/2022  & travel\\\\\n\t scleyburn1f     & Steward Cleyburn    & 11/18/1985 & scleyburn1f@msn.com           & EU & 69684 & 11/6/2022  & sports\\\\\n\t ⋮ & ⋮ & ⋮ & ⋮ & ⋮ & ⋮ & ⋮ & ⋮\\\\\n\t jmacaskillqb   & Jinny MacAskill      & 9/20/2002  & jmacaskillqb@weebly.com         & OC & 67895 & 11/10/2020 & travel\\\\\n\t mcornbellqd    & Maximo Cornbell      & 9/13/1989  & mcornbellqd@upenn.edu           & NA & 22534 & 9/14/2022  & music \\\\\n\t clabbqe        & Constantia Labb      & 4/29/1983  & clabbqe@phpbb.com               & AS & 19170 & 4/17/2020  & sports\\\\\n\t mmatteaqi      & Maxy Mattea          & 1/14/1991  & mmatteaqi@mit.edu               & AS & 58766 & 12/16/2021 & travel\\\\\n\t gbluneqj       & Gusta Blune          & 11/25/1997 & gbluneqj@google.nl              & NA & 98741 & 1/20/2023  & music \\\\\n\t nkenningleyqk  & Niall Kenningley     & 7/12/2000  & nkenningleyqk@vkontakte.ru      & NA & 70115 & 6/26/2022  & music \\\\\n\t hscraceqm      & Haze Scrace          & 6/11/2001  & hscraceqm@economist.com         & AS & 12639 & 9/6/2020   & music \\\\\n\t lbyasqp        & Lothaire Byas        & 1/28/1992  & lbyasqp@merriam-webster.com     & SA & 10235 & 8/22/2021  & sports\\\\\n\t mgreceqr       & Molly Grece          & 6/25/1998  & mgreceqr@deliciousdays.com      & NA & 75667 & 7/25/2023  & sports\\\\\n\t enealeqs       & Ethelyn Neale        & 1/23/1990  & enealeqs@spotify.com            & NA & 19623 & 3/29/2022  & sports\\\\\n\t cvogeleinqt    & Codi Vogelein        & 1/20/1998  & cvogeleinqt@stanford.edu        & EU & 47689 & 5/6/2023   & travel\\\\\n\t lblinkhornqu   & Lolita Blinkhorn     & 6/11/1980  & lblinkhornqu@hud.gov            & AS & 64080 & 9/23/2023  & sports\\\\\n\t hallonbyqv     & Hatti Allonby        & 8/5/1987   & hallonbyqv@theatlantic.com      & NA & 91992 & 3/15/2021  & travel\\\\\n\t badinqw        & Bo Adin              & 4/24/1997  & badinqw@shareasale.com          & NA & 82090 & 10/26/2020 & sports\\\\\n\t sargerqy       & Shane Arger          & 2/21/1992  & sargerqy@exblog.jp              & AF & 53022 & 12/7/2021  & music \\\\\n\t jgiorgiuttiqz  & Joy Giorgiutti       & 5/5/1988   & jgiorgiuttiqz@timesonline.co.uk & NA & 26125 & 6/1/2020   & travel\\\\\n\t ksturdeyr4     & Krissie Sturdey      & 8/13/1980  & ksturdeyr4@skyrock.com          & SA & 37880 & 4/17/2020  & travel\\\\\n\t ggerrillr6     & Genevieve Gerrill    & 8/16/1994  & ggerrillr6@xrea.com             & OC & 78326 & 4/30/2022  & sports\\\\\n\t rleningr9      & Roch Lening          & 9/1/1981   & rleningr9@taobao.com            & OC & 21333 & 2/23/2020  & music \\\\\n\t gbilbeyra      & Grannie Bilbey       & 6/22/1992  & gbilbeyra@wisc.edu              & AS & 77316 & 5/4/2022   & music \\\\\n\t acaldicottre   & Ashlee Caldicott     & 2/2/1996   & acaldicottre@furl.net           & OC & 67530 & 2/15/2022  & music \\\\\n\t jbirchallrh    & Jinny Birchall       & 11/3/1987  & jbirchallrh@senate.gov          & AF & 76102 & 3/4/2022   & music \\\\\n\t fwegenenrj     & Filippa Wegenen      & 10/25/1994 & fwegenenrj@nbcnews.com          & NA & 68133 & 9/20/2023  & travel\\\\\n\t bpierrork      & Bobbie Pierro        & 5/27/1991  & bpierrork@rambler.ru            & NA & 81408 & 6/6/2023   & sports\\\\\n\t vmacterrellyrm & Virginie MacTerrelly & 10/8/1994  & vmacterrellyrm@dailymotion.com  & AS &    81 & 9/11/2023  & sports\\\\\n\t sschafflerrn   & Sallyann Schaffler   & 12/7/1999  & sschafflerrn@wsj.com            & OC & 89752 & 9/20/2020  & sports\\\\\n\t nilyinskiro    & Nanette Ilyinski     & 5/13/1989  & nilyinskiro@123-reg.co.uk       & NA & 47332 & 11/16/2020 & sports\\\\\n\t sgeertzrp      & Stephen Geertz       & 9/6/1994   & sgeertzrp@hp.com                & NA & 36511 & 11/19/2022 & music \\\\\n\t cchurchmanrq   & Chrisse Churchman    & 4/23/1998  & cchurchmanrq@qq.com             & NA & 84037 & 2/12/2022  & music \\\\\n\t crembrantrr    & Clementine Rembrant  & 3/15/2001  & crembrantrr@who.int             & NA & 11336 & 3/2/2020   & music \\\\\n\\end{tabular}\n",
            "text/plain": [
              "    username        full_name            birthdate \n",
              "1   ckippen0        Clevey Kippen        5/1/1991  \n",
              "2   tgergler1       Tedi Gergler         10/5/1998 \n",
              "3   rphettis3       Ruddy Phettis        6/18/1984 \n",
              "4   ttotman6        Tamqrah Totman       8/7/1986  \n",
              "5   kgrigoryev8     Krishna Grigoryev    5/25/1990 \n",
              "6   mchittockb      Myriam Chittock      1/26/1989 \n",
              "7   aeasbyd         Alessandra Easby     1/5/1991  \n",
              "8   dleishmanf      Dyane Leishman       2/12/1990 \n",
              "9   omarusiki       Otha Marusik         12/4/1992 \n",
              "10  sspenclayk      Scott Spenclay       12/7/1989 \n",
              "11  gklinckl        Georgetta Klinck     7/26/1996 \n",
              "12  rhollowm        Riccardo Hollow      1/18/1980 \n",
              "13  galdrins        Gerick Aldrin        7/31/1995 \n",
              "14  ddimmockt       Didi Dimmock         5/15/1985 \n",
              "15  fpythonu        Franz Python         4/5/1984  \n",
              "16  btutingv        Brod Tuting          11/10/1988\n",
              "17  tcosgriffw      Tami Cosgriff        8/26/1997 \n",
              "18  amcclellandz    Annabela McClelland  8/12/1983 \n",
              "19  asearby10       Alyson Searby        11/27/1997\n",
              "20  kpietzker11     Keane Pietzker       11/26/1996\n",
              "21  olandreth12     Orsa Landreth        1/10/2000 \n",
              "22  pscopyn13       Pablo Scopyn         4/5/1985  \n",
              "23  clettice14      Cosette Lettice      12/23/1981\n",
              "24  schamberlayne15 Shena Chamberlayne   8/18/1989 \n",
              "25  gwand16         Gaelan Wand          8/13/1995 \n",
              "26  lure17          Layton Ure           6/27/1981 \n",
              "27  ccressy18       Carson Cressy        10/20/1995\n",
              "28  bgribbon1b      Bennie Gribbon       11/12/1984\n",
              "29  lherley1d       Lorianne Herley      11/30/1984\n",
              "30  scleyburn1f     Steward Cleyburn     11/18/1985\n",
              "⋮   ⋮               ⋮                    ⋮         \n",
              "621 jmacaskillqb    Jinny MacAskill      9/20/2002 \n",
              "622 mcornbellqd     Maximo Cornbell      9/13/1989 \n",
              "623 clabbqe         Constantia Labb      4/29/1983 \n",
              "624 mmatteaqi       Maxy Mattea          1/14/1991 \n",
              "625 gbluneqj        Gusta Blune          11/25/1997\n",
              "626 nkenningleyqk   Niall Kenningley     7/12/2000 \n",
              "627 hscraceqm       Haze Scrace          6/11/2001 \n",
              "628 lbyasqp         Lothaire Byas        1/28/1992 \n",
              "629 mgreceqr        Molly Grece          6/25/1998 \n",
              "630 enealeqs        Ethelyn Neale        1/23/1990 \n",
              "631 cvogeleinqt     Codi Vogelein        1/20/1998 \n",
              "632 lblinkhornqu    Lolita Blinkhorn     6/11/1980 \n",
              "633 hallonbyqv      Hatti Allonby        8/5/1987  \n",
              "634 badinqw         Bo Adin              4/24/1997 \n",
              "635 sargerqy        Shane Arger          2/21/1992 \n",
              "636 jgiorgiuttiqz   Joy Giorgiutti       5/5/1988  \n",
              "637 ksturdeyr4      Krissie Sturdey      8/13/1980 \n",
              "638 ggerrillr6      Genevieve Gerrill    8/16/1994 \n",
              "639 rleningr9       Roch Lening          9/1/1981  \n",
              "640 gbilbeyra       Grannie Bilbey       6/22/1992 \n",
              "641 acaldicottre    Ashlee Caldicott     2/2/1996  \n",
              "642 jbirchallrh     Jinny Birchall       11/3/1987 \n",
              "643 fwegenenrj      Filippa Wegenen      10/25/1994\n",
              "644 bpierrork       Bobbie Pierro        5/27/1991 \n",
              "645 vmacterrellyrm  Virginie MacTerrelly 10/8/1994 \n",
              "646 sschafflerrn    Sallyann Schaffler   12/7/1999 \n",
              "647 nilyinskiro     Nanette Ilyinski     5/13/1989 \n",
              "648 sgeertzrp       Stephen Geertz       9/6/1994  \n",
              "649 cchurchmanrq    Chrisse Churchman    4/23/1998 \n",
              "650 crembrantrr     Clementine Rembrant  3/15/2001 \n",
              "    email                           continent followers last_login interests\n",
              "1   ckippen0@t-online.de            NA        12362     5/16/2023  music    \n",
              "2   tgergler1@salon.com             NA        21360     8/20/2020  sports   \n",
              "3   rphettis3@npr.org               EU        80047     9/20/2023  travel   \n",
              "4   ttotman6@elpais.com             AF        42669     3/10/2023  music    \n",
              "5   kgrigoryev8@quantcast.com       EU        93923     1/30/2023  travel   \n",
              "6   mchittockb@uiuc.edu             AF        46304     8/29/2023  sports   \n",
              "7   aeasbyd@google.ca               AF        16786     6/15/2023  sports   \n",
              "8   dleishmanf@lycos.com            NA        85070     6/5/2021   travel   \n",
              "9   omarusiki@cdbaby.com            AF        93981     2/4/2022   travel   \n",
              "10  sspenclayk@wikispaces.com       AF        31745     11/29/2022 sports   \n",
              "11  gklinckl@over-blog.com          SA        69386     9/10/2023  sports   \n",
              "12  rhollowm@dyndns.org             OC        73088     1/22/2020  sports   \n",
              "13  galdrins@ca.gov                 NA        96491     5/26/2022  music    \n",
              "14  ddimmockt@wired.com             EU        81726     4/23/2021  sports   \n",
              "15  fpythonu@fastcompany.com        SA        28388     7/9/2023   music    \n",
              "16  btutingv@wordpress.org          NA        42044     8/16/2021  music    \n",
              "17  tcosgriffw@exblog.jp            NA        94463     6/25/2021  music    \n",
              "18  amcclellandz@soundcloud.com     AF        51483     5/3/2020   sports   \n",
              "19  asearby10@bravesites.com        NA        10548     6/7/2022   travel   \n",
              "20  kpietzker11@tumblr.com          AS        96249     8/7/2023   music    \n",
              "21  olandreth12@oaic.gov.au         SA        21065     9/2/2020   music    \n",
              "22  pscopyn13@creativecommons.org   NA        39440     9/9/2023   music    \n",
              "23  clettice14@cmu.edu              AS        58637     12/7/2021  travel   \n",
              "24  schamberlayne15@godaddy.com     NA        64567     12/3/2020  music    \n",
              "25  gwand16@ihg.com                 NA        16969     2/2/2021   sports   \n",
              "26  lure17@mit.edu                  NA        55952     6/24/2020  sports   \n",
              "27  ccressy18@ucoz.com              NA        61529     12/15/2021 sports   \n",
              "28  bgribbon1b@dailymail.co.uk      AS         8772     11/21/2021 music    \n",
              "29  lherley1d@baidu.com             AS        33535     8/18/2022  travel   \n",
              "30  scleyburn1f@msn.com             EU        69684     11/6/2022  sports   \n",
              "⋮   ⋮                               ⋮         ⋮         ⋮          ⋮        \n",
              "621 jmacaskillqb@weebly.com         OC        67895     11/10/2020 travel   \n",
              "622 mcornbellqd@upenn.edu           NA        22534     9/14/2022  music    \n",
              "623 clabbqe@phpbb.com               AS        19170     4/17/2020  sports   \n",
              "624 mmatteaqi@mit.edu               AS        58766     12/16/2021 travel   \n",
              "625 gbluneqj@google.nl              NA        98741     1/20/2023  music    \n",
              "626 nkenningleyqk@vkontakte.ru      NA        70115     6/26/2022  music    \n",
              "627 hscraceqm@economist.com         AS        12639     9/6/2020   music    \n",
              "628 lbyasqp@merriam-webster.com     SA        10235     8/22/2021  sports   \n",
              "629 mgreceqr@deliciousdays.com      NA        75667     7/25/2023  sports   \n",
              "630 enealeqs@spotify.com            NA        19623     3/29/2022  sports   \n",
              "631 cvogeleinqt@stanford.edu        EU        47689     5/6/2023   travel   \n",
              "632 lblinkhornqu@hud.gov            AS        64080     9/23/2023  sports   \n",
              "633 hallonbyqv@theatlantic.com      NA        91992     3/15/2021  travel   \n",
              "634 badinqw@shareasale.com          NA        82090     10/26/2020 sports   \n",
              "635 sargerqy@exblog.jp              AF        53022     12/7/2021  music    \n",
              "636 jgiorgiuttiqz@timesonline.co.uk NA        26125     6/1/2020   travel   \n",
              "637 ksturdeyr4@skyrock.com          SA        37880     4/17/2020  travel   \n",
              "638 ggerrillr6@xrea.com             OC        78326     4/30/2022  sports   \n",
              "639 rleningr9@taobao.com            OC        21333     2/23/2020  music    \n",
              "640 gbilbeyra@wisc.edu              AS        77316     5/4/2022   music    \n",
              "641 acaldicottre@furl.net           OC        67530     2/15/2022  music    \n",
              "642 jbirchallrh@senate.gov          AF        76102     3/4/2022   music    \n",
              "643 fwegenenrj@nbcnews.com          NA        68133     9/20/2023  travel   \n",
              "644 bpierrork@rambler.ru            NA        81408     6/6/2023   sports   \n",
              "645 vmacterrellyrm@dailymotion.com  AS           81     9/11/2023  sports   \n",
              "646 sschafflerrn@wsj.com            OC        89752     9/20/2020  sports   \n",
              "647 nilyinskiro@123-reg.co.uk       NA        47332     11/16/2020 sports   \n",
              "648 sgeertzrp@hp.com                NA        36511     11/19/2022 music    \n",
              "649 cchurchmanrq@qq.com             NA        84037     2/12/2022  music    \n",
              "650 crembrantrr@who.int             NA        11336     3/2/2020   music    "
            ]
          },
          "metadata": {}
        }
      ]
    },
    {
      "cell_type": "code",
      "source": [
        "df_by_followers <- df_no_empty[order(df_no_empty$followers,decreasing = TRUE), ]\n",
        "df_by_followers[1:10, ]\n"
      ],
      "metadata": {
        "colab": {
          "base_uri": "https://localhost:8080/",
          "height": 407
        },
        "id": "52IDm85tBjuN",
        "outputId": "5e5ecb10-6a39-4f2c-e408-a47054252e85"
      },
      "execution_count": 74,
      "outputs": [
        {
          "output_type": "display_data",
          "data": {
            "text/html": [
              "<table class=\"dataframe\">\n",
              "<caption>A data.frame: 10 × 8</caption>\n",
              "<thead>\n",
              "\t<tr><th></th><th scope=col>username</th><th scope=col>full_name</th><th scope=col>birthdate</th><th scope=col>email</th><th scope=col>continent</th><th scope=col>followers</th><th scope=col>last_login</th><th scope=col>interests</th></tr>\n",
              "\t<tr><th></th><th scope=col>&lt;chr&gt;</th><th scope=col>&lt;chr&gt;</th><th scope=col>&lt;chr&gt;</th><th scope=col>&lt;chr&gt;</th><th scope=col>&lt;chr&gt;</th><th scope=col>&lt;int&gt;</th><th scope=col>&lt;chr&gt;</th><th scope=col>&lt;chr&gt;</th></tr>\n",
              "</thead>\n",
              "<tbody>\n",
              "\t<tr><th scope=row>261</th><td>lleckeyb6    </td><td>Lynne Leckey        </td><td>4/19/1998 </td><td>lleckeyb6@tripadvisor.com</td><td>SA</td><td>99977</td><td>3/14/2021 </td><td>sports</td></tr>\n",
              "\t<tr><th scope=row>239</th><td>spharoaha2   </td><td>Staci Pharoah       </td><td>9/2/1985  </td><td>spharoaha2@sfgate.com    </td><td>NA</td><td>99905</td><td>10/26/2023</td><td>sports</td></tr>\n",
              "\t<tr><th scope=row>327</th><td>cduftondy    </td><td>Celisse Dufton      </td><td>8/24/1995 </td><td>cduftondy@ox.ac.uk       </td><td>OC</td><td>99707</td><td>9/26/2021 </td><td>sports</td></tr>\n",
              "\t<tr><th scope=row>172</th><td>dbartalin77  </td><td>Desiree Bartalin    </td><td>8/23/1993 </td><td>dbartalin77@usda.gov     </td><td>AF</td><td>99618</td><td>5/30/2022 </td><td>music </td></tr>\n",
              "\t<tr><th scope=row>531</th><td>grivardmp    </td><td>Gwen Rivard         </td><td>9/12/1982 </td><td>grivardmp@google.com.hk  </td><td>OC</td><td>99526</td><td>4/4/2020  </td><td>music </td></tr>\n",
              "\t<tr><th scope=row>223</th><td>mraggitt9g   </td><td>Morgan Raggitt      </td><td>11/16/1992</td><td>mraggitt9g@home.pl       </td><td>NA</td><td>99508</td><td>11/12/2021</td><td>music </td></tr>\n",
              "\t<tr><th scope=row>333</th><td>wbenese7     </td><td>Wain Benes          </td><td>3/9/1998  </td><td>wbenese7@ebay.com        </td><td>NA</td><td>99400</td><td>10/1/2021 </td><td>travel</td></tr>\n",
              "\t<tr><th scope=row>416</th><td>kmorriceht   </td><td>Kitti Morrice       </td><td>6/3/1995  </td><td>kmorriceht@privacy.gov.au</td><td>SA</td><td>98936</td><td>3/24/2021 </td><td>sports</td></tr>\n",
              "\t<tr><th scope=row>183</th><td>smacdonnell7o</td><td>Shoshanna MacDonnell</td><td>9/12/2002 </td><td>smacdonnell7o@toplist.cz </td><td>AS</td><td>98760</td><td>7/20/2021 </td><td>music </td></tr>\n",
              "\t<tr><th scope=row>75</th><td>dcossum34    </td><td>Dwain Cossum        </td><td>9/9/1990  </td><td>dcossum34@dagondesign.com</td><td>NA</td><td>98743</td><td>6/7/2021  </td><td>sports</td></tr>\n",
              "</tbody>\n",
              "</table>\n"
            ],
            "text/markdown": "\nA data.frame: 10 × 8\n\n| <!--/--> | username &lt;chr&gt; | full_name &lt;chr&gt; | birthdate &lt;chr&gt; | email &lt;chr&gt; | continent &lt;chr&gt; | followers &lt;int&gt; | last_login &lt;chr&gt; | interests &lt;chr&gt; |\n|---|---|---|---|---|---|---|---|---|\n| 261 | lleckeyb6     | Lynne Leckey         | 4/19/1998  | lleckeyb6@tripadvisor.com | SA | 99977 | 3/14/2021  | sports |\n| 239 | spharoaha2    | Staci Pharoah        | 9/2/1985   | spharoaha2@sfgate.com     | NA | 99905 | 10/26/2023 | sports |\n| 327 | cduftondy     | Celisse Dufton       | 8/24/1995  | cduftondy@ox.ac.uk        | OC | 99707 | 9/26/2021  | sports |\n| 172 | dbartalin77   | Desiree Bartalin     | 8/23/1993  | dbartalin77@usda.gov      | AF | 99618 | 5/30/2022  | music  |\n| 531 | grivardmp     | Gwen Rivard          | 9/12/1982  | grivardmp@google.com.hk   | OC | 99526 | 4/4/2020   | music  |\n| 223 | mraggitt9g    | Morgan Raggitt       | 11/16/1992 | mraggitt9g@home.pl        | NA | 99508 | 11/12/2021 | music  |\n| 333 | wbenese7      | Wain Benes           | 3/9/1998   | wbenese7@ebay.com         | NA | 99400 | 10/1/2021  | travel |\n| 416 | kmorriceht    | Kitti Morrice        | 6/3/1995   | kmorriceht@privacy.gov.au | SA | 98936 | 3/24/2021  | sports |\n| 183 | smacdonnell7o | Shoshanna MacDonnell | 9/12/2002  | smacdonnell7o@toplist.cz  | AS | 98760 | 7/20/2021  | music  |\n| 75 | dcossum34     | Dwain Cossum         | 9/9/1990   | dcossum34@dagondesign.com | NA | 98743 | 6/7/2021   | sports |\n\n",
            "text/latex": "A data.frame: 10 × 8\n\\begin{tabular}{r|llllllll}\n  & username & full\\_name & birthdate & email & continent & followers & last\\_login & interests\\\\\n  & <chr> & <chr> & <chr> & <chr> & <chr> & <int> & <chr> & <chr>\\\\\n\\hline\n\t261 & lleckeyb6     & Lynne Leckey         & 4/19/1998  & lleckeyb6@tripadvisor.com & SA & 99977 & 3/14/2021  & sports\\\\\n\t239 & spharoaha2    & Staci Pharoah        & 9/2/1985   & spharoaha2@sfgate.com     & NA & 99905 & 10/26/2023 & sports\\\\\n\t327 & cduftondy     & Celisse Dufton       & 8/24/1995  & cduftondy@ox.ac.uk        & OC & 99707 & 9/26/2021  & sports\\\\\n\t172 & dbartalin77   & Desiree Bartalin     & 8/23/1993  & dbartalin77@usda.gov      & AF & 99618 & 5/30/2022  & music \\\\\n\t531 & grivardmp     & Gwen Rivard          & 9/12/1982  & grivardmp@google.com.hk   & OC & 99526 & 4/4/2020   & music \\\\\n\t223 & mraggitt9g    & Morgan Raggitt       & 11/16/1992 & mraggitt9g@home.pl        & NA & 99508 & 11/12/2021 & music \\\\\n\t333 & wbenese7      & Wain Benes           & 3/9/1998   & wbenese7@ebay.com         & NA & 99400 & 10/1/2021  & travel\\\\\n\t416 & kmorriceht    & Kitti Morrice        & 6/3/1995   & kmorriceht@privacy.gov.au & SA & 98936 & 3/24/2021  & sports\\\\\n\t183 & smacdonnell7o & Shoshanna MacDonnell & 9/12/2002  & smacdonnell7o@toplist.cz  & AS & 98760 & 7/20/2021  & music \\\\\n\t75 & dcossum34     & Dwain Cossum         & 9/9/1990   & dcossum34@dagondesign.com & NA & 98743 & 6/7/2021   & sports\\\\\n\\end{tabular}\n",
            "text/plain": [
              "    username      full_name            birthdate  email                    \n",
              "261 lleckeyb6     Lynne Leckey         4/19/1998  lleckeyb6@tripadvisor.com\n",
              "239 spharoaha2    Staci Pharoah        9/2/1985   spharoaha2@sfgate.com    \n",
              "327 cduftondy     Celisse Dufton       8/24/1995  cduftondy@ox.ac.uk       \n",
              "172 dbartalin77   Desiree Bartalin     8/23/1993  dbartalin77@usda.gov     \n",
              "531 grivardmp     Gwen Rivard          9/12/1982  grivardmp@google.com.hk  \n",
              "223 mraggitt9g    Morgan Raggitt       11/16/1992 mraggitt9g@home.pl       \n",
              "333 wbenese7      Wain Benes           3/9/1998   wbenese7@ebay.com        \n",
              "416 kmorriceht    Kitti Morrice        6/3/1995   kmorriceht@privacy.gov.au\n",
              "183 smacdonnell7o Shoshanna MacDonnell 9/12/2002  smacdonnell7o@toplist.cz \n",
              "75  dcossum34     Dwain Cossum         9/9/1990   dcossum34@dagondesign.com\n",
              "    continent followers last_login interests\n",
              "261 SA        99977     3/14/2021  sports   \n",
              "239 NA        99905     10/26/2023 sports   \n",
              "327 OC        99707     9/26/2021  sports   \n",
              "172 AF        99618     5/30/2022  music    \n",
              "531 OC        99526     4/4/2020   music    \n",
              "223 NA        99508     11/12/2021 music    \n",
              "333 NA        99400     10/1/2021  travel   \n",
              "416 SA        98936     3/24/2021  sports   \n",
              "183 AS        98760     7/20/2021  music    \n",
              "75  NA        98743     6/7/2021   sports   "
            ]
          },
          "metadata": {}
        }
      ]
    },
    {
      "cell_type": "code",
      "source": [
        "df_by_continent <- df_no_empty[order(df_no_empty$continent), ]\n",
        "df_by_continent"
      ],
      "metadata": {
        "colab": {
          "base_uri": "https://localhost:8080/",
          "height": 1000
        },
        "id": "pW9RIdMYDCtn",
        "outputId": "c56cd7c1-2cec-46ca-d427-143c44317711"
      },
      "execution_count": 75,
      "outputs": [
        {
          "output_type": "display_data",
          "data": {
            "text/html": [
              "<table class=\"dataframe\">\n",
              "<caption>A data.frame: 650 × 8</caption>\n",
              "<thead>\n",
              "\t<tr><th></th><th scope=col>username</th><th scope=col>full_name</th><th scope=col>birthdate</th><th scope=col>email</th><th scope=col>continent</th><th scope=col>followers</th><th scope=col>last_login</th><th scope=col>interests</th></tr>\n",
              "\t<tr><th></th><th scope=col>&lt;chr&gt;</th><th scope=col>&lt;chr&gt;</th><th scope=col>&lt;chr&gt;</th><th scope=col>&lt;chr&gt;</th><th scope=col>&lt;chr&gt;</th><th scope=col>&lt;int&gt;</th><th scope=col>&lt;chr&gt;</th><th scope=col>&lt;chr&gt;</th></tr>\n",
              "</thead>\n",
              "<tbody>\n",
              "\t<tr><th scope=row>4</th><td>ttotman6      </td><td>Tamqrah Totman     </td><td>8/7/1986  </td><td>ttotman6@elpais.com           </td><td>AF</td><td>42669</td><td>3/10/2023 </td><td>music </td></tr>\n",
              "\t<tr><th scope=row>6</th><td>mchittockb    </td><td>Myriam Chittock    </td><td>1/26/1989 </td><td>mchittockb@uiuc.edu           </td><td>AF</td><td>46304</td><td>8/29/2023 </td><td>sports</td></tr>\n",
              "\t<tr><th scope=row>7</th><td>aeasbyd       </td><td>Alessandra Easby   </td><td>1/5/1991  </td><td>aeasbyd@google.ca             </td><td>AF</td><td>16786</td><td>6/15/2023 </td><td>sports</td></tr>\n",
              "\t<tr><th scope=row>9</th><td>omarusiki     </td><td>Otha Marusik       </td><td>12/4/1992 </td><td>omarusiki@cdbaby.com          </td><td>AF</td><td>93981</td><td>2/4/2022  </td><td>travel</td></tr>\n",
              "\t<tr><th scope=row>10</th><td>sspenclayk    </td><td>Scott Spenclay     </td><td>12/7/1989 </td><td>sspenclayk@wikispaces.com     </td><td>AF</td><td>31745</td><td>11/29/2022</td><td>sports</td></tr>\n",
              "\t<tr><th scope=row>18</th><td>amcclellandz  </td><td>Annabela McClelland</td><td>8/12/1983 </td><td>amcclellandz@soundcloud.com   </td><td>AF</td><td>51483</td><td>5/3/2020  </td><td>sports</td></tr>\n",
              "\t<tr><th scope=row>39</th><td>tmcnish1u     </td><td>Tally McNish       </td><td>10/24/1990</td><td>tmcnish1u@unesco.org          </td><td>AF</td><td>16933</td><td>12/24/2021</td><td>music </td></tr>\n",
              "\t<tr><th scope=row>40</th><td>abydaway1w    </td><td>Ancell Bydaway     </td><td>7/16/1989 </td><td>abydaway1w@walmart.com        </td><td>AF</td><td>68712</td><td>6/8/2023  </td><td>travel</td></tr>\n",
              "\t<tr><th scope=row>60</th><td>hboriston2k   </td><td>Harley Boriston    </td><td>2/15/2002 </td><td>hboriston2k@phpbb.com         </td><td>AF</td><td>83578</td><td>2/27/2021 </td><td>sports</td></tr>\n",
              "\t<tr><th scope=row>94</th><td>dmacturlough40</td><td>Dave MacTurlough   </td><td>4/1/1993  </td><td>dmacturlough40@oakley.com     </td><td>AF</td><td>71818</td><td>11/2/2021 </td><td>travel</td></tr>\n",
              "\t<tr><th scope=row>96</th><td>tpayle46      </td><td>Tracey Payle       </td><td>5/15/1999 </td><td>tpayle46@addtoany.com         </td><td>AF</td><td>29492</td><td>3/8/2020  </td><td>music </td></tr>\n",
              "\t<tr><th scope=row>103</th><td>tpye4e        </td><td>Timothee Pye       </td><td>2/25/1995 </td><td>tpye4e@goo.ne.jp              </td><td>AF</td><td>89247</td><td>1/1/2020  </td><td>sports</td></tr>\n",
              "\t<tr><th scope=row>107</th><td>melintune4k   </td><td>Mab Elintune       </td><td>7/16/1992 </td><td>melintune4k@blog.com          </td><td>AF</td><td>63972</td><td>9/6/2020  </td><td>sports</td></tr>\n",
              "\t<tr><th scope=row>114</th><td>sbauchop4z    </td><td>Sheree Bauchop     </td><td>10/1/1983 </td><td>sbauchop4z@unesco.org         </td><td>AF</td><td>10599</td><td>1/4/2021  </td><td>music </td></tr>\n",
              "\t<tr><th scope=row>132</th><td>bmatz5o       </td><td>Bernelle Matz      </td><td>6/17/2002 </td><td>bmatz5o@ycombinator.com       </td><td>AF</td><td>49399</td><td>2/23/2021 </td><td>music </td></tr>\n",
              "\t<tr><th scope=row>134</th><td>rmeneo5q      </td><td>Rosa Meneo         </td><td>8/5/1983  </td><td>rmeneo5q@google.it            </td><td>AF</td><td>91855</td><td>11/11/2023</td><td>sports</td></tr>\n",
              "\t<tr><th scope=row>145</th><td>cdalliwatr65  </td><td>Cecil Dalliwatr    </td><td>12/5/1993 </td><td>cdalliwatr65@elegantthemes.com</td><td>AF</td><td>96824</td><td>6/9/2022  </td><td>travel</td></tr>\n",
              "\t<tr><th scope=row>156</th><td>mclimo6j      </td><td>Morgan Climo       </td><td>3/24/1998 </td><td>mclimo6j@wikipedia.org        </td><td>AF</td><td>65781</td><td>2/11/2021 </td><td>music </td></tr>\n",
              "\t<tr><th scope=row>167</th><td>rfeltham6z    </td><td>Robinette Feltham  </td><td>8/24/1992 </td><td>rfeltham6z@mysql.com          </td><td>AF</td><td>29251</td><td>7/18/2021 </td><td>sports</td></tr>\n",
              "\t<tr><th scope=row>172</th><td>dbartalin77   </td><td>Desiree Bartalin   </td><td>8/23/1993 </td><td>dbartalin77@usda.gov          </td><td>AF</td><td>99618</td><td>5/30/2022 </td><td>music </td></tr>\n",
              "\t<tr><th scope=row>180</th><td>cvile7h       </td><td>Chrissie Vile      </td><td>11/4/2001 </td><td>cvile7h@merriam-webster.com   </td><td>AF</td><td>28775</td><td>8/18/2020 </td><td>music </td></tr>\n",
              "\t<tr><th scope=row>203</th><td>hwestwood8p   </td><td>Heinrik Westwood   </td><td>5/8/2001  </td><td>hwestwood8p@rakuten.co.jp     </td><td>AF</td><td>78772</td><td>9/26/2023 </td><td>sports</td></tr>\n",
              "\t<tr><th scope=row>215</th><td>agunby95      </td><td>Arv Gunby          </td><td>1/30/1987 </td><td>agunby95@godaddy.com          </td><td>AF</td><td>15277</td><td>1/7/2020  </td><td>travel</td></tr>\n",
              "\t<tr><th scope=row>230</th><td>rstorah9t     </td><td>Ruttger Storah     </td><td>3/12/1992 </td><td>rstorah9t@myspace.com         </td><td>AF</td><td>71880</td><td>12/1/2021 </td><td>music </td></tr>\n",
              "\t<tr><th scope=row>233</th><td>akarleman9w   </td><td>Alexandr Karleman  </td><td>1/1/2001  </td><td>akarleman9w@ucsd.edu          </td><td>AF</td><td>79484</td><td>1/8/2023  </td><td>sports</td></tr>\n",
              "\t<tr><th scope=row>242</th><td>wboarda7      </td><td>Weber Board        </td><td>2/27/1992 </td><td>wboarda7@sakura.ne.jp         </td><td>AF</td><td>13496</td><td>3/31/2021 </td><td>music </td></tr>\n",
              "\t<tr><th scope=row>246</th><td>ksertinad     </td><td>Kiele Sertin       </td><td>2/12/1988 </td><td>ksertinad@zimbio.com          </td><td>AF</td><td>10920</td><td>8/20/2023 </td><td>sports</td></tr>\n",
              "\t<tr><th scope=row>247</th><td>bimmae        </td><td>Brooke Imm         </td><td>5/21/1997 </td><td>bimmae@live.com               </td><td>AF</td><td>19831</td><td>12/1/2020 </td><td>music </td></tr>\n",
              "\t<tr><th scope=row>258</th><td>apendellb0    </td><td>Alic Pendell       </td><td>4/25/1991 </td><td>apendellb0@hp.com             </td><td>AF</td><td>68260</td><td>7/3/2023  </td><td>sports</td></tr>\n",
              "\t<tr><th scope=row>274</th><td>ztomblinbm    </td><td>Zola Tomblin       </td><td>10/3/1999 </td><td>ztomblinbm@springer.com       </td><td>AF</td><td>67452</td><td>5/7/2023  </td><td>music </td></tr>\n",
              "\t<tr><th scope=row>⋮</th><td>⋮</td><td>⋮</td><td>⋮</td><td>⋮</td><td>⋮</td><td>⋮</td><td>⋮</td><td>⋮</td></tr>\n",
              "\t<tr><th scope=row>563</th><td>garnoulto1   </td><td>Gaultiero Arnoult  </td><td>2/26/2000 </td><td>garnoulto1@wordpress.com       </td><td>NA</td><td>60770</td><td>2/1/2020  </td><td>travel</td></tr>\n",
              "\t<tr><th scope=row>566</th><td>mstirmano4   </td><td>Mira Stirman       </td><td>5/22/1998 </td><td>mstirmano4@utexas.edu          </td><td>NA</td><td> 9456</td><td>7/7/2023  </td><td>travel</td></tr>\n",
              "\t<tr><th scope=row>569</th><td>dyakubovicso8</td><td>Dex Yakubovics     </td><td>8/21/2002 </td><td>dyakubovicso8@wiley.com        </td><td>NA</td><td>64769</td><td>7/31/2021 </td><td>sports</td></tr>\n",
              "\t<tr><th scope=row>574</th><td>rcallendarog </td><td>Rafaela Callendar  </td><td>9/19/1990 </td><td>rcallendarog@altervista.org    </td><td>NA</td><td>12236</td><td>7/8/2020  </td><td>travel</td></tr>\n",
              "\t<tr><th scope=row>575</th><td>tthredderoh  </td><td>Teresita Thredder  </td><td>6/19/1989 </td><td>tthredderoh@sohu.com           </td><td>NA</td><td>77680</td><td>4/22/2022 </td><td>sports</td></tr>\n",
              "\t<tr><th scope=row>579</th><td>mscholteol   </td><td>Myrwyn Scholte     </td><td>11/17/1980</td><td>mscholteol@time.com            </td><td>NA</td><td> 3562</td><td>5/13/2020 </td><td>music </td></tr>\n",
              "\t<tr><th scope=row>581</th><td>zflayoq      </td><td>Zora Flay          </td><td>9/3/2000  </td><td>zflayoq@hugedomains.com        </td><td>NA</td><td>67956</td><td>9/15/2023 </td><td>sports</td></tr>\n",
              "\t<tr><th scope=row>583</th><td>frizzinios   </td><td>Felipe Rizzini     </td><td>2/1/1989  </td><td>frizzinios@google.it           </td><td>NA</td><td>23415</td><td>3/6/2021  </td><td>music </td></tr>\n",
              "\t<tr><th scope=row>585</th><td>cslaughterou </td><td>Cherianne Slaughter</td><td>7/23/1996 </td><td>cslaughterou@odnoklassniki.ru  </td><td>NA</td><td>34080</td><td>11/7/2020 </td><td>music </td></tr>\n",
              "\t<tr><th scope=row>588</th><td>cgearyox     </td><td>Carina Geary       </td><td>10/26/2000</td><td>cgearyox@themeforest.net       </td><td>NA</td><td>18619</td><td>3/8/2021  </td><td>music </td></tr>\n",
              "\t<tr><th scope=row>589</th><td>hparbrookoy  </td><td>Hurlee Parbrook    </td><td>7/8/1995  </td><td>hparbrookoy@illinois.edu       </td><td>NA</td><td>52168</td><td>4/20/2023 </td><td>music </td></tr>\n",
              "\t<tr><th scope=row>592</th><td>slawrinsonp2 </td><td>Sanders Lawrinson  </td><td>10/23/1982</td><td>slawrinsonp2@imdb.com          </td><td>NA</td><td>93977</td><td>1/7/2022  </td><td>music </td></tr>\n",
              "\t<tr><th scope=row>597</th><td>mzanollipf   </td><td>Marlene Zanolli    </td><td>9/17/1981 </td><td>mzanollipf@pinterest.com       </td><td>NA</td><td> 2186</td><td>1/27/2022 </td><td>travel</td></tr>\n",
              "\t<tr><th scope=row>601</th><td>bmorpk       </td><td>Blanch Mor         </td><td>6/5/1995  </td><td>bmorpk@soup.io                 </td><td>NA</td><td>80666</td><td>11/7/2020 </td><td>sports</td></tr>\n",
              "\t<tr><th scope=row>606</th><td>maleksankovpp</td><td>Milzie Aleksankov  </td><td>9/6/1984  </td><td>maleksankovpp@techcrunch.com   </td><td>NA</td><td>59369</td><td>11/10/2023</td><td>sports</td></tr>\n",
              "\t<tr><th scope=row>617</th><td>gwiggq5      </td><td>Giffie Wigg        </td><td>5/12/1982 </td><td>gwiggq5@google.nl              </td><td>NA</td><td>82869</td><td>8/14/2023 </td><td>sports</td></tr>\n",
              "\t<tr><th scope=row>622</th><td>mcornbellqd  </td><td>Maximo Cornbell    </td><td>9/13/1989 </td><td>mcornbellqd@upenn.edu          </td><td>NA</td><td>22534</td><td>9/14/2022 </td><td>music </td></tr>\n",
              "\t<tr><th scope=row>625</th><td>gbluneqj     </td><td>Gusta Blune        </td><td>11/25/1997</td><td>gbluneqj@google.nl             </td><td>NA</td><td>98741</td><td>1/20/2023 </td><td>music </td></tr>\n",
              "\t<tr><th scope=row>626</th><td>nkenningleyqk</td><td>Niall Kenningley   </td><td>7/12/2000 </td><td>nkenningleyqk@vkontakte.ru     </td><td>NA</td><td>70115</td><td>6/26/2022 </td><td>music </td></tr>\n",
              "\t<tr><th scope=row>629</th><td>mgreceqr     </td><td>Molly Grece        </td><td>6/25/1998 </td><td>mgreceqr@deliciousdays.com     </td><td>NA</td><td>75667</td><td>7/25/2023 </td><td>sports</td></tr>\n",
              "\t<tr><th scope=row>630</th><td>enealeqs     </td><td>Ethelyn Neale      </td><td>1/23/1990 </td><td>enealeqs@spotify.com           </td><td>NA</td><td>19623</td><td>3/29/2022 </td><td>sports</td></tr>\n",
              "\t<tr><th scope=row>633</th><td>hallonbyqv   </td><td>Hatti Allonby      </td><td>8/5/1987  </td><td>hallonbyqv@theatlantic.com     </td><td>NA</td><td>91992</td><td>3/15/2021 </td><td>travel</td></tr>\n",
              "\t<tr><th scope=row>634</th><td>badinqw      </td><td>Bo Adin            </td><td>4/24/1997 </td><td>badinqw@shareasale.com         </td><td>NA</td><td>82090</td><td>10/26/2020</td><td>sports</td></tr>\n",
              "\t<tr><th scope=row>636</th><td>jgiorgiuttiqz</td><td>Joy Giorgiutti     </td><td>5/5/1988  </td><td>jgiorgiuttiqz@timesonline.co.uk</td><td>NA</td><td>26125</td><td>6/1/2020  </td><td>travel</td></tr>\n",
              "\t<tr><th scope=row>643</th><td>fwegenenrj   </td><td>Filippa Wegenen    </td><td>10/25/1994</td><td>fwegenenrj@nbcnews.com         </td><td>NA</td><td>68133</td><td>9/20/2023 </td><td>travel</td></tr>\n",
              "\t<tr><th scope=row>644</th><td>bpierrork    </td><td>Bobbie Pierro      </td><td>5/27/1991 </td><td>bpierrork@rambler.ru           </td><td>NA</td><td>81408</td><td>6/6/2023  </td><td>sports</td></tr>\n",
              "\t<tr><th scope=row>647</th><td>nilyinskiro  </td><td>Nanette Ilyinski   </td><td>5/13/1989 </td><td>nilyinskiro@123-reg.co.uk      </td><td>NA</td><td>47332</td><td>11/16/2020</td><td>sports</td></tr>\n",
              "\t<tr><th scope=row>648</th><td>sgeertzrp    </td><td>Stephen Geertz     </td><td>9/6/1994  </td><td>sgeertzrp@hp.com               </td><td>NA</td><td>36511</td><td>11/19/2022</td><td>music </td></tr>\n",
              "\t<tr><th scope=row>649</th><td>cchurchmanrq </td><td>Chrisse Churchman  </td><td>4/23/1998 </td><td>cchurchmanrq@qq.com            </td><td>NA</td><td>84037</td><td>2/12/2022 </td><td>music </td></tr>\n",
              "\t<tr><th scope=row>650</th><td>crembrantrr  </td><td>Clementine Rembrant</td><td>3/15/2001 </td><td>crembrantrr@who.int            </td><td>NA</td><td>11336</td><td>3/2/2020  </td><td>music </td></tr>\n",
              "</tbody>\n",
              "</table>\n"
            ],
            "text/markdown": "\nA data.frame: 650 × 8\n\n| <!--/--> | username &lt;chr&gt; | full_name &lt;chr&gt; | birthdate &lt;chr&gt; | email &lt;chr&gt; | continent &lt;chr&gt; | followers &lt;int&gt; | last_login &lt;chr&gt; | interests &lt;chr&gt; |\n|---|---|---|---|---|---|---|---|---|\n| 4 | ttotman6       | Tamqrah Totman      | 8/7/1986   | ttotman6@elpais.com            | AF | 42669 | 3/10/2023  | music  |\n| 6 | mchittockb     | Myriam Chittock     | 1/26/1989  | mchittockb@uiuc.edu            | AF | 46304 | 8/29/2023  | sports |\n| 7 | aeasbyd        | Alessandra Easby    | 1/5/1991   | aeasbyd@google.ca              | AF | 16786 | 6/15/2023  | sports |\n| 9 | omarusiki      | Otha Marusik        | 12/4/1992  | omarusiki@cdbaby.com           | AF | 93981 | 2/4/2022   | travel |\n| 10 | sspenclayk     | Scott Spenclay      | 12/7/1989  | sspenclayk@wikispaces.com      | AF | 31745 | 11/29/2022 | sports |\n| 18 | amcclellandz   | Annabela McClelland | 8/12/1983  | amcclellandz@soundcloud.com    | AF | 51483 | 5/3/2020   | sports |\n| 39 | tmcnish1u      | Tally McNish        | 10/24/1990 | tmcnish1u@unesco.org           | AF | 16933 | 12/24/2021 | music  |\n| 40 | abydaway1w     | Ancell Bydaway      | 7/16/1989  | abydaway1w@walmart.com         | AF | 68712 | 6/8/2023   | travel |\n| 60 | hboriston2k    | Harley Boriston     | 2/15/2002  | hboriston2k@phpbb.com          | AF | 83578 | 2/27/2021  | sports |\n| 94 | dmacturlough40 | Dave MacTurlough    | 4/1/1993   | dmacturlough40@oakley.com      | AF | 71818 | 11/2/2021  | travel |\n| 96 | tpayle46       | Tracey Payle        | 5/15/1999  | tpayle46@addtoany.com          | AF | 29492 | 3/8/2020   | music  |\n| 103 | tpye4e         | Timothee Pye        | 2/25/1995  | tpye4e@goo.ne.jp               | AF | 89247 | 1/1/2020   | sports |\n| 107 | melintune4k    | Mab Elintune        | 7/16/1992  | melintune4k@blog.com           | AF | 63972 | 9/6/2020   | sports |\n| 114 | sbauchop4z     | Sheree Bauchop      | 10/1/1983  | sbauchop4z@unesco.org          | AF | 10599 | 1/4/2021   | music  |\n| 132 | bmatz5o        | Bernelle Matz       | 6/17/2002  | bmatz5o@ycombinator.com        | AF | 49399 | 2/23/2021  | music  |\n| 134 | rmeneo5q       | Rosa Meneo          | 8/5/1983   | rmeneo5q@google.it             | AF | 91855 | 11/11/2023 | sports |\n| 145 | cdalliwatr65   | Cecil Dalliwatr     | 12/5/1993  | cdalliwatr65@elegantthemes.com | AF | 96824 | 6/9/2022   | travel |\n| 156 | mclimo6j       | Morgan Climo        | 3/24/1998  | mclimo6j@wikipedia.org         | AF | 65781 | 2/11/2021  | music  |\n| 167 | rfeltham6z     | Robinette Feltham   | 8/24/1992  | rfeltham6z@mysql.com           | AF | 29251 | 7/18/2021  | sports |\n| 172 | dbartalin77    | Desiree Bartalin    | 8/23/1993  | dbartalin77@usda.gov           | AF | 99618 | 5/30/2022  | music  |\n| 180 | cvile7h        | Chrissie Vile       | 11/4/2001  | cvile7h@merriam-webster.com    | AF | 28775 | 8/18/2020  | music  |\n| 203 | hwestwood8p    | Heinrik Westwood    | 5/8/2001   | hwestwood8p@rakuten.co.jp      | AF | 78772 | 9/26/2023  | sports |\n| 215 | agunby95       | Arv Gunby           | 1/30/1987  | agunby95@godaddy.com           | AF | 15277 | 1/7/2020   | travel |\n| 230 | rstorah9t      | Ruttger Storah      | 3/12/1992  | rstorah9t@myspace.com          | AF | 71880 | 12/1/2021  | music  |\n| 233 | akarleman9w    | Alexandr Karleman   | 1/1/2001   | akarleman9w@ucsd.edu           | AF | 79484 | 1/8/2023   | sports |\n| 242 | wboarda7       | Weber Board         | 2/27/1992  | wboarda7@sakura.ne.jp          | AF | 13496 | 3/31/2021  | music  |\n| 246 | ksertinad      | Kiele Sertin        | 2/12/1988  | ksertinad@zimbio.com           | AF | 10920 | 8/20/2023  | sports |\n| 247 | bimmae         | Brooke Imm          | 5/21/1997  | bimmae@live.com                | AF | 19831 | 12/1/2020  | music  |\n| 258 | apendellb0     | Alic Pendell        | 4/25/1991  | apendellb0@hp.com              | AF | 68260 | 7/3/2023   | sports |\n| 274 | ztomblinbm     | Zola Tomblin        | 10/3/1999  | ztomblinbm@springer.com        | AF | 67452 | 5/7/2023   | music  |\n| ⋮ | ⋮ | ⋮ | ⋮ | ⋮ | ⋮ | ⋮ | ⋮ | ⋮ |\n| 563 | garnoulto1    | Gaultiero Arnoult   | 2/26/2000  | garnoulto1@wordpress.com        | NA | 60770 | 2/1/2020   | travel |\n| 566 | mstirmano4    | Mira Stirman        | 5/22/1998  | mstirmano4@utexas.edu           | NA |  9456 | 7/7/2023   | travel |\n| 569 | dyakubovicso8 | Dex Yakubovics      | 8/21/2002  | dyakubovicso8@wiley.com         | NA | 64769 | 7/31/2021  | sports |\n| 574 | rcallendarog  | Rafaela Callendar   | 9/19/1990  | rcallendarog@altervista.org     | NA | 12236 | 7/8/2020   | travel |\n| 575 | tthredderoh   | Teresita Thredder   | 6/19/1989  | tthredderoh@sohu.com            | NA | 77680 | 4/22/2022  | sports |\n| 579 | mscholteol    | Myrwyn Scholte      | 11/17/1980 | mscholteol@time.com             | NA |  3562 | 5/13/2020  | music  |\n| 581 | zflayoq       | Zora Flay           | 9/3/2000   | zflayoq@hugedomains.com         | NA | 67956 | 9/15/2023  | sports |\n| 583 | frizzinios    | Felipe Rizzini      | 2/1/1989   | frizzinios@google.it            | NA | 23415 | 3/6/2021   | music  |\n| 585 | cslaughterou  | Cherianne Slaughter | 7/23/1996  | cslaughterou@odnoklassniki.ru   | NA | 34080 | 11/7/2020  | music  |\n| 588 | cgearyox      | Carina Geary        | 10/26/2000 | cgearyox@themeforest.net        | NA | 18619 | 3/8/2021   | music  |\n| 589 | hparbrookoy   | Hurlee Parbrook     | 7/8/1995   | hparbrookoy@illinois.edu        | NA | 52168 | 4/20/2023  | music  |\n| 592 | slawrinsonp2  | Sanders Lawrinson   | 10/23/1982 | slawrinsonp2@imdb.com           | NA | 93977 | 1/7/2022   | music  |\n| 597 | mzanollipf    | Marlene Zanolli     | 9/17/1981  | mzanollipf@pinterest.com        | NA |  2186 | 1/27/2022  | travel |\n| 601 | bmorpk        | Blanch Mor          | 6/5/1995   | bmorpk@soup.io                  | NA | 80666 | 11/7/2020  | sports |\n| 606 | maleksankovpp | Milzie Aleksankov   | 9/6/1984   | maleksankovpp@techcrunch.com    | NA | 59369 | 11/10/2023 | sports |\n| 617 | gwiggq5       | Giffie Wigg         | 5/12/1982  | gwiggq5@google.nl               | NA | 82869 | 8/14/2023  | sports |\n| 622 | mcornbellqd   | Maximo Cornbell     | 9/13/1989  | mcornbellqd@upenn.edu           | NA | 22534 | 9/14/2022  | music  |\n| 625 | gbluneqj      | Gusta Blune         | 11/25/1997 | gbluneqj@google.nl              | NA | 98741 | 1/20/2023  | music  |\n| 626 | nkenningleyqk | Niall Kenningley    | 7/12/2000  | nkenningleyqk@vkontakte.ru      | NA | 70115 | 6/26/2022  | music  |\n| 629 | mgreceqr      | Molly Grece         | 6/25/1998  | mgreceqr@deliciousdays.com      | NA | 75667 | 7/25/2023  | sports |\n| 630 | enealeqs      | Ethelyn Neale       | 1/23/1990  | enealeqs@spotify.com            | NA | 19623 | 3/29/2022  | sports |\n| 633 | hallonbyqv    | Hatti Allonby       | 8/5/1987   | hallonbyqv@theatlantic.com      | NA | 91992 | 3/15/2021  | travel |\n| 634 | badinqw       | Bo Adin             | 4/24/1997  | badinqw@shareasale.com          | NA | 82090 | 10/26/2020 | sports |\n| 636 | jgiorgiuttiqz | Joy Giorgiutti      | 5/5/1988   | jgiorgiuttiqz@timesonline.co.uk | NA | 26125 | 6/1/2020   | travel |\n| 643 | fwegenenrj    | Filippa Wegenen     | 10/25/1994 | fwegenenrj@nbcnews.com          | NA | 68133 | 9/20/2023  | travel |\n| 644 | bpierrork     | Bobbie Pierro       | 5/27/1991  | bpierrork@rambler.ru            | NA | 81408 | 6/6/2023   | sports |\n| 647 | nilyinskiro   | Nanette Ilyinski    | 5/13/1989  | nilyinskiro@123-reg.co.uk       | NA | 47332 | 11/16/2020 | sports |\n| 648 | sgeertzrp     | Stephen Geertz      | 9/6/1994   | sgeertzrp@hp.com                | NA | 36511 | 11/19/2022 | music  |\n| 649 | cchurchmanrq  | Chrisse Churchman   | 4/23/1998  | cchurchmanrq@qq.com             | NA | 84037 | 2/12/2022  | music  |\n| 650 | crembrantrr   | Clementine Rembrant | 3/15/2001  | crembrantrr@who.int             | NA | 11336 | 3/2/2020   | music  |\n\n",
            "text/latex": "A data.frame: 650 × 8\n\\begin{tabular}{r|llllllll}\n  & username & full\\_name & birthdate & email & continent & followers & last\\_login & interests\\\\\n  & <chr> & <chr> & <chr> & <chr> & <chr> & <int> & <chr> & <chr>\\\\\n\\hline\n\t4 & ttotman6       & Tamqrah Totman      & 8/7/1986   & ttotman6@elpais.com            & AF & 42669 & 3/10/2023  & music \\\\\n\t6 & mchittockb     & Myriam Chittock     & 1/26/1989  & mchittockb@uiuc.edu            & AF & 46304 & 8/29/2023  & sports\\\\\n\t7 & aeasbyd        & Alessandra Easby    & 1/5/1991   & aeasbyd@google.ca              & AF & 16786 & 6/15/2023  & sports\\\\\n\t9 & omarusiki      & Otha Marusik        & 12/4/1992  & omarusiki@cdbaby.com           & AF & 93981 & 2/4/2022   & travel\\\\\n\t10 & sspenclayk     & Scott Spenclay      & 12/7/1989  & sspenclayk@wikispaces.com      & AF & 31745 & 11/29/2022 & sports\\\\\n\t18 & amcclellandz   & Annabela McClelland & 8/12/1983  & amcclellandz@soundcloud.com    & AF & 51483 & 5/3/2020   & sports\\\\\n\t39 & tmcnish1u      & Tally McNish        & 10/24/1990 & tmcnish1u@unesco.org           & AF & 16933 & 12/24/2021 & music \\\\\n\t40 & abydaway1w     & Ancell Bydaway      & 7/16/1989  & abydaway1w@walmart.com         & AF & 68712 & 6/8/2023   & travel\\\\\n\t60 & hboriston2k    & Harley Boriston     & 2/15/2002  & hboriston2k@phpbb.com          & AF & 83578 & 2/27/2021  & sports\\\\\n\t94 & dmacturlough40 & Dave MacTurlough    & 4/1/1993   & dmacturlough40@oakley.com      & AF & 71818 & 11/2/2021  & travel\\\\\n\t96 & tpayle46       & Tracey Payle        & 5/15/1999  & tpayle46@addtoany.com          & AF & 29492 & 3/8/2020   & music \\\\\n\t103 & tpye4e         & Timothee Pye        & 2/25/1995  & tpye4e@goo.ne.jp               & AF & 89247 & 1/1/2020   & sports\\\\\n\t107 & melintune4k    & Mab Elintune        & 7/16/1992  & melintune4k@blog.com           & AF & 63972 & 9/6/2020   & sports\\\\\n\t114 & sbauchop4z     & Sheree Bauchop      & 10/1/1983  & sbauchop4z@unesco.org          & AF & 10599 & 1/4/2021   & music \\\\\n\t132 & bmatz5o        & Bernelle Matz       & 6/17/2002  & bmatz5o@ycombinator.com        & AF & 49399 & 2/23/2021  & music \\\\\n\t134 & rmeneo5q       & Rosa Meneo          & 8/5/1983   & rmeneo5q@google.it             & AF & 91855 & 11/11/2023 & sports\\\\\n\t145 & cdalliwatr65   & Cecil Dalliwatr     & 12/5/1993  & cdalliwatr65@elegantthemes.com & AF & 96824 & 6/9/2022   & travel\\\\\n\t156 & mclimo6j       & Morgan Climo        & 3/24/1998  & mclimo6j@wikipedia.org         & AF & 65781 & 2/11/2021  & music \\\\\n\t167 & rfeltham6z     & Robinette Feltham   & 8/24/1992  & rfeltham6z@mysql.com           & AF & 29251 & 7/18/2021  & sports\\\\\n\t172 & dbartalin77    & Desiree Bartalin    & 8/23/1993  & dbartalin77@usda.gov           & AF & 99618 & 5/30/2022  & music \\\\\n\t180 & cvile7h        & Chrissie Vile       & 11/4/2001  & cvile7h@merriam-webster.com    & AF & 28775 & 8/18/2020  & music \\\\\n\t203 & hwestwood8p    & Heinrik Westwood    & 5/8/2001   & hwestwood8p@rakuten.co.jp      & AF & 78772 & 9/26/2023  & sports\\\\\n\t215 & agunby95       & Arv Gunby           & 1/30/1987  & agunby95@godaddy.com           & AF & 15277 & 1/7/2020   & travel\\\\\n\t230 & rstorah9t      & Ruttger Storah      & 3/12/1992  & rstorah9t@myspace.com          & AF & 71880 & 12/1/2021  & music \\\\\n\t233 & akarleman9w    & Alexandr Karleman   & 1/1/2001   & akarleman9w@ucsd.edu           & AF & 79484 & 1/8/2023   & sports\\\\\n\t242 & wboarda7       & Weber Board         & 2/27/1992  & wboarda7@sakura.ne.jp          & AF & 13496 & 3/31/2021  & music \\\\\n\t246 & ksertinad      & Kiele Sertin        & 2/12/1988  & ksertinad@zimbio.com           & AF & 10920 & 8/20/2023  & sports\\\\\n\t247 & bimmae         & Brooke Imm          & 5/21/1997  & bimmae@live.com                & AF & 19831 & 12/1/2020  & music \\\\\n\t258 & apendellb0     & Alic Pendell        & 4/25/1991  & apendellb0@hp.com              & AF & 68260 & 7/3/2023   & sports\\\\\n\t274 & ztomblinbm     & Zola Tomblin        & 10/3/1999  & ztomblinbm@springer.com        & AF & 67452 & 5/7/2023   & music \\\\\n\t⋮ & ⋮ & ⋮ & ⋮ & ⋮ & ⋮ & ⋮ & ⋮ & ⋮\\\\\n\t563 & garnoulto1    & Gaultiero Arnoult   & 2/26/2000  & garnoulto1@wordpress.com        & NA & 60770 & 2/1/2020   & travel\\\\\n\t566 & mstirmano4    & Mira Stirman        & 5/22/1998  & mstirmano4@utexas.edu           & NA &  9456 & 7/7/2023   & travel\\\\\n\t569 & dyakubovicso8 & Dex Yakubovics      & 8/21/2002  & dyakubovicso8@wiley.com         & NA & 64769 & 7/31/2021  & sports\\\\\n\t574 & rcallendarog  & Rafaela Callendar   & 9/19/1990  & rcallendarog@altervista.org     & NA & 12236 & 7/8/2020   & travel\\\\\n\t575 & tthredderoh   & Teresita Thredder   & 6/19/1989  & tthredderoh@sohu.com            & NA & 77680 & 4/22/2022  & sports\\\\\n\t579 & mscholteol    & Myrwyn Scholte      & 11/17/1980 & mscholteol@time.com             & NA &  3562 & 5/13/2020  & music \\\\\n\t581 & zflayoq       & Zora Flay           & 9/3/2000   & zflayoq@hugedomains.com         & NA & 67956 & 9/15/2023  & sports\\\\\n\t583 & frizzinios    & Felipe Rizzini      & 2/1/1989   & frizzinios@google.it            & NA & 23415 & 3/6/2021   & music \\\\\n\t585 & cslaughterou  & Cherianne Slaughter & 7/23/1996  & cslaughterou@odnoklassniki.ru   & NA & 34080 & 11/7/2020  & music \\\\\n\t588 & cgearyox      & Carina Geary        & 10/26/2000 & cgearyox@themeforest.net        & NA & 18619 & 3/8/2021   & music \\\\\n\t589 & hparbrookoy   & Hurlee Parbrook     & 7/8/1995   & hparbrookoy@illinois.edu        & NA & 52168 & 4/20/2023  & music \\\\\n\t592 & slawrinsonp2  & Sanders Lawrinson   & 10/23/1982 & slawrinsonp2@imdb.com           & NA & 93977 & 1/7/2022   & music \\\\\n\t597 & mzanollipf    & Marlene Zanolli     & 9/17/1981  & mzanollipf@pinterest.com        & NA &  2186 & 1/27/2022  & travel\\\\\n\t601 & bmorpk        & Blanch Mor          & 6/5/1995   & bmorpk@soup.io                  & NA & 80666 & 11/7/2020  & sports\\\\\n\t606 & maleksankovpp & Milzie Aleksankov   & 9/6/1984   & maleksankovpp@techcrunch.com    & NA & 59369 & 11/10/2023 & sports\\\\\n\t617 & gwiggq5       & Giffie Wigg         & 5/12/1982  & gwiggq5@google.nl               & NA & 82869 & 8/14/2023  & sports\\\\\n\t622 & mcornbellqd   & Maximo Cornbell     & 9/13/1989  & mcornbellqd@upenn.edu           & NA & 22534 & 9/14/2022  & music \\\\\n\t625 & gbluneqj      & Gusta Blune         & 11/25/1997 & gbluneqj@google.nl              & NA & 98741 & 1/20/2023  & music \\\\\n\t626 & nkenningleyqk & Niall Kenningley    & 7/12/2000  & nkenningleyqk@vkontakte.ru      & NA & 70115 & 6/26/2022  & music \\\\\n\t629 & mgreceqr      & Molly Grece         & 6/25/1998  & mgreceqr@deliciousdays.com      & NA & 75667 & 7/25/2023  & sports\\\\\n\t630 & enealeqs      & Ethelyn Neale       & 1/23/1990  & enealeqs@spotify.com            & NA & 19623 & 3/29/2022  & sports\\\\\n\t633 & hallonbyqv    & Hatti Allonby       & 8/5/1987   & hallonbyqv@theatlantic.com      & NA & 91992 & 3/15/2021  & travel\\\\\n\t634 & badinqw       & Bo Adin             & 4/24/1997  & badinqw@shareasale.com          & NA & 82090 & 10/26/2020 & sports\\\\\n\t636 & jgiorgiuttiqz & Joy Giorgiutti      & 5/5/1988   & jgiorgiuttiqz@timesonline.co.uk & NA & 26125 & 6/1/2020   & travel\\\\\n\t643 & fwegenenrj    & Filippa Wegenen     & 10/25/1994 & fwegenenrj@nbcnews.com          & NA & 68133 & 9/20/2023  & travel\\\\\n\t644 & bpierrork     & Bobbie Pierro       & 5/27/1991  & bpierrork@rambler.ru            & NA & 81408 & 6/6/2023   & sports\\\\\n\t647 & nilyinskiro   & Nanette Ilyinski    & 5/13/1989  & nilyinskiro@123-reg.co.uk       & NA & 47332 & 11/16/2020 & sports\\\\\n\t648 & sgeertzrp     & Stephen Geertz      & 9/6/1994   & sgeertzrp@hp.com                & NA & 36511 & 11/19/2022 & music \\\\\n\t649 & cchurchmanrq  & Chrisse Churchman   & 4/23/1998  & cchurchmanrq@qq.com             & NA & 84037 & 2/12/2022  & music \\\\\n\t650 & crembrantrr   & Clementine Rembrant & 3/15/2001  & crembrantrr@who.int             & NA & 11336 & 3/2/2020   & music \\\\\n\\end{tabular}\n",
            "text/plain": [
              "    username       full_name           birthdate \n",
              "4   ttotman6       Tamqrah Totman      8/7/1986  \n",
              "6   mchittockb     Myriam Chittock     1/26/1989 \n",
              "7   aeasbyd        Alessandra Easby    1/5/1991  \n",
              "9   omarusiki      Otha Marusik        12/4/1992 \n",
              "10  sspenclayk     Scott Spenclay      12/7/1989 \n",
              "18  amcclellandz   Annabela McClelland 8/12/1983 \n",
              "39  tmcnish1u      Tally McNish        10/24/1990\n",
              "40  abydaway1w     Ancell Bydaway      7/16/1989 \n",
              "60  hboriston2k    Harley Boriston     2/15/2002 \n",
              "94  dmacturlough40 Dave MacTurlough    4/1/1993  \n",
              "96  tpayle46       Tracey Payle        5/15/1999 \n",
              "103 tpye4e         Timothee Pye        2/25/1995 \n",
              "107 melintune4k    Mab Elintune        7/16/1992 \n",
              "114 sbauchop4z     Sheree Bauchop      10/1/1983 \n",
              "132 bmatz5o        Bernelle Matz       6/17/2002 \n",
              "134 rmeneo5q       Rosa Meneo          8/5/1983  \n",
              "145 cdalliwatr65   Cecil Dalliwatr     12/5/1993 \n",
              "156 mclimo6j       Morgan Climo        3/24/1998 \n",
              "167 rfeltham6z     Robinette Feltham   8/24/1992 \n",
              "172 dbartalin77    Desiree Bartalin    8/23/1993 \n",
              "180 cvile7h        Chrissie Vile       11/4/2001 \n",
              "203 hwestwood8p    Heinrik Westwood    5/8/2001  \n",
              "215 agunby95       Arv Gunby           1/30/1987 \n",
              "230 rstorah9t      Ruttger Storah      3/12/1992 \n",
              "233 akarleman9w    Alexandr Karleman   1/1/2001  \n",
              "242 wboarda7       Weber Board         2/27/1992 \n",
              "246 ksertinad      Kiele Sertin        2/12/1988 \n",
              "247 bimmae         Brooke Imm          5/21/1997 \n",
              "258 apendellb0     Alic Pendell        4/25/1991 \n",
              "274 ztomblinbm     Zola Tomblin        10/3/1999 \n",
              "⋮   ⋮              ⋮                   ⋮         \n",
              "563 garnoulto1     Gaultiero Arnoult   2/26/2000 \n",
              "566 mstirmano4     Mira Stirman        5/22/1998 \n",
              "569 dyakubovicso8  Dex Yakubovics      8/21/2002 \n",
              "574 rcallendarog   Rafaela Callendar   9/19/1990 \n",
              "575 tthredderoh    Teresita Thredder   6/19/1989 \n",
              "579 mscholteol     Myrwyn Scholte      11/17/1980\n",
              "581 zflayoq        Zora Flay           9/3/2000  \n",
              "583 frizzinios     Felipe Rizzini      2/1/1989  \n",
              "585 cslaughterou   Cherianne Slaughter 7/23/1996 \n",
              "588 cgearyox       Carina Geary        10/26/2000\n",
              "589 hparbrookoy    Hurlee Parbrook     7/8/1995  \n",
              "592 slawrinsonp2   Sanders Lawrinson   10/23/1982\n",
              "597 mzanollipf     Marlene Zanolli     9/17/1981 \n",
              "601 bmorpk         Blanch Mor          6/5/1995  \n",
              "606 maleksankovpp  Milzie Aleksankov   9/6/1984  \n",
              "617 gwiggq5        Giffie Wigg         5/12/1982 \n",
              "622 mcornbellqd    Maximo Cornbell     9/13/1989 \n",
              "625 gbluneqj       Gusta Blune         11/25/1997\n",
              "626 nkenningleyqk  Niall Kenningley    7/12/2000 \n",
              "629 mgreceqr       Molly Grece         6/25/1998 \n",
              "630 enealeqs       Ethelyn Neale       1/23/1990 \n",
              "633 hallonbyqv     Hatti Allonby       8/5/1987  \n",
              "634 badinqw        Bo Adin             4/24/1997 \n",
              "636 jgiorgiuttiqz  Joy Giorgiutti      5/5/1988  \n",
              "643 fwegenenrj     Filippa Wegenen     10/25/1994\n",
              "644 bpierrork      Bobbie Pierro       5/27/1991 \n",
              "647 nilyinskiro    Nanette Ilyinski    5/13/1989 \n",
              "648 sgeertzrp      Stephen Geertz      9/6/1994  \n",
              "649 cchurchmanrq   Chrisse Churchman   4/23/1998 \n",
              "650 crembrantrr    Clementine Rembrant 3/15/2001 \n",
              "    email                           continent followers last_login interests\n",
              "4   ttotman6@elpais.com             AF        42669     3/10/2023  music    \n",
              "6   mchittockb@uiuc.edu             AF        46304     8/29/2023  sports   \n",
              "7   aeasbyd@google.ca               AF        16786     6/15/2023  sports   \n",
              "9   omarusiki@cdbaby.com            AF        93981     2/4/2022   travel   \n",
              "10  sspenclayk@wikispaces.com       AF        31745     11/29/2022 sports   \n",
              "18  amcclellandz@soundcloud.com     AF        51483     5/3/2020   sports   \n",
              "39  tmcnish1u@unesco.org            AF        16933     12/24/2021 music    \n",
              "40  abydaway1w@walmart.com          AF        68712     6/8/2023   travel   \n",
              "60  hboriston2k@phpbb.com           AF        83578     2/27/2021  sports   \n",
              "94  dmacturlough40@oakley.com       AF        71818     11/2/2021  travel   \n",
              "96  tpayle46@addtoany.com           AF        29492     3/8/2020   music    \n",
              "103 tpye4e@goo.ne.jp                AF        89247     1/1/2020   sports   \n",
              "107 melintune4k@blog.com            AF        63972     9/6/2020   sports   \n",
              "114 sbauchop4z@unesco.org           AF        10599     1/4/2021   music    \n",
              "132 bmatz5o@ycombinator.com         AF        49399     2/23/2021  music    \n",
              "134 rmeneo5q@google.it              AF        91855     11/11/2023 sports   \n",
              "145 cdalliwatr65@elegantthemes.com  AF        96824     6/9/2022   travel   \n",
              "156 mclimo6j@wikipedia.org          AF        65781     2/11/2021  music    \n",
              "167 rfeltham6z@mysql.com            AF        29251     7/18/2021  sports   \n",
              "172 dbartalin77@usda.gov            AF        99618     5/30/2022  music    \n",
              "180 cvile7h@merriam-webster.com     AF        28775     8/18/2020  music    \n",
              "203 hwestwood8p@rakuten.co.jp       AF        78772     9/26/2023  sports   \n",
              "215 agunby95@godaddy.com            AF        15277     1/7/2020   travel   \n",
              "230 rstorah9t@myspace.com           AF        71880     12/1/2021  music    \n",
              "233 akarleman9w@ucsd.edu            AF        79484     1/8/2023   sports   \n",
              "242 wboarda7@sakura.ne.jp           AF        13496     3/31/2021  music    \n",
              "246 ksertinad@zimbio.com            AF        10920     8/20/2023  sports   \n",
              "247 bimmae@live.com                 AF        19831     12/1/2020  music    \n",
              "258 apendellb0@hp.com               AF        68260     7/3/2023   sports   \n",
              "274 ztomblinbm@springer.com         AF        67452     5/7/2023   music    \n",
              "⋮   ⋮                               ⋮         ⋮         ⋮          ⋮        \n",
              "563 garnoulto1@wordpress.com        NA        60770     2/1/2020   travel   \n",
              "566 mstirmano4@utexas.edu           NA         9456     7/7/2023   travel   \n",
              "569 dyakubovicso8@wiley.com         NA        64769     7/31/2021  sports   \n",
              "574 rcallendarog@altervista.org     NA        12236     7/8/2020   travel   \n",
              "575 tthredderoh@sohu.com            NA        77680     4/22/2022  sports   \n",
              "579 mscholteol@time.com             NA         3562     5/13/2020  music    \n",
              "581 zflayoq@hugedomains.com         NA        67956     9/15/2023  sports   \n",
              "583 frizzinios@google.it            NA        23415     3/6/2021   music    \n",
              "585 cslaughterou@odnoklassniki.ru   NA        34080     11/7/2020  music    \n",
              "588 cgearyox@themeforest.net        NA        18619     3/8/2021   music    \n",
              "589 hparbrookoy@illinois.edu        NA        52168     4/20/2023  music    \n",
              "592 slawrinsonp2@imdb.com           NA        93977     1/7/2022   music    \n",
              "597 mzanollipf@pinterest.com        NA         2186     1/27/2022  travel   \n",
              "601 bmorpk@soup.io                  NA        80666     11/7/2020  sports   \n",
              "606 maleksankovpp@techcrunch.com    NA        59369     11/10/2023 sports   \n",
              "617 gwiggq5@google.nl               NA        82869     8/14/2023  sports   \n",
              "622 mcornbellqd@upenn.edu           NA        22534     9/14/2022  music    \n",
              "625 gbluneqj@google.nl              NA        98741     1/20/2023  music    \n",
              "626 nkenningleyqk@vkontakte.ru      NA        70115     6/26/2022  music    \n",
              "629 mgreceqr@deliciousdays.com      NA        75667     7/25/2023  sports   \n",
              "630 enealeqs@spotify.com            NA        19623     3/29/2022  sports   \n",
              "633 hallonbyqv@theatlantic.com      NA        91992     3/15/2021  travel   \n",
              "634 badinqw@shareasale.com          NA        82090     10/26/2020 sports   \n",
              "636 jgiorgiuttiqz@timesonline.co.uk NA        26125     6/1/2020   travel   \n",
              "643 fwegenenrj@nbcnews.com          NA        68133     9/20/2023  travel   \n",
              "644 bpierrork@rambler.ru            NA        81408     6/6/2023   sports   \n",
              "647 nilyinskiro@123-reg.co.uk       NA        47332     11/16/2020 sports   \n",
              "648 sgeertzrp@hp.com                NA        36511     11/19/2022 music    \n",
              "649 cchurchmanrq@qq.com             NA        84037     2/12/2022  music    \n",
              "650 crembrantrr@who.int             NA        11336     3/2/2020   music    "
            ]
          },
          "metadata": {}
        }
      ]
    },
    {
      "cell_type": "code",
      "source": [
        "ggplot(df_by_continent, aes(x = continent)) +\n",
        "  geom_bar() +\n",
        "  labs(x = \"Continent\", y =\"Count\", title = \"Counts of User by Continent\")\n"
      ],
      "metadata": {
        "colab": {
          "base_uri": "https://localhost:8080/",
          "height": 437
        },
        "id": "er883nQOD5Fx",
        "outputId": "35b70948-245d-4650-8edb-11ba8dc8b6d6"
      },
      "execution_count": 83,
      "outputs": [
        {
          "output_type": "display_data",
          "data": {
            "text/plain": [
              "plot without title"
            ],
            "image/png": "[encoded data removed]"
          },
          "metadata": {
            "image/png": {
              "width": 420,
              "height": 420
            }
          }
        }
      ]
    }
  ]
}