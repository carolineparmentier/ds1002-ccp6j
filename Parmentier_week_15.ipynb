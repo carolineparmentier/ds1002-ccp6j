{
  "nbformat": 4,
  "nbformat_minor": 0,
  "metadata": {
    "colab": {
      "provenance": [],
      "include_colab_link": true
    },
    "kernelspec": {
      "name": "ir",
      "display_name": "R"
    },
    "language_info": {
      "name": "R"
    }
  },
  "cells": [
    {
      "cell_type": "markdown",
      "metadata": {
        "id": "view-in-github",
        "colab_type": "text"
      },
      "source": [
        "<a href=\"https://colab.research.google.com/github/carolineparmentier/ds1002-ccp6j/blob/main/Parmentier_week_15.ipynb\" target=\"_parent\"><img src=\"https://colab.research.google.com/assets/colab-badge.svg\" alt=\"Open In Colab\"/></a>"
      ]
    },
    {
      "cell_type": "markdown",
      "source": [
        "# Homework - Week 15\n",
        "\n",
        "Complete the following blocks as specified in the directions. Run each cell to return the desired output. Save your notebook back to your GitHub repository and submit the GitHub URL to your notebook for review."
      ],
      "metadata": {
        "id": "sZruw3XQogej"
      }
    },
    {
      "cell_type": "markdown",
      "source": [
        "## 1. Create Functions (4 pts)\n",
        "\n",
        "Create two functions in the cells below, according to the prompts given."
      ],
      "metadata": {
        "id": "lkaofBQypx1X"
      }
    },
    {
      "cell_type": "code",
      "source": [
        "# create a function in R that:\n",
        "#   1. takes a single integer as an input parameter\n",
        "#   2. determines whether the integer is even or odd\n",
        "#   3. returns a character statement \"The integer <x> is even\" or \"The integer <x> is odd\" (replace <x> with the actual input provided)\n",
        "#\n",
        "# then execute the function twice using two different input values, displaying even and odd results.\n",
        "\n",
        "is_odd <- function(x){ if (x %% 2 == 1) {\n",
        "    sprintf(\"The integer %i is odd\", x)\n",
        "  } else {\n",
        "    sprintf(\"The integer %i is even\", x)\n",
        "  }\n",
        "}"
      ],
      "metadata": {
        "id": "1fjq5bkEp6Zv"
      },
      "execution_count": 8,
      "outputs": []
    },
    {
      "cell_type": "code",
      "source": [
        "is_odd(5)"
      ],
      "metadata": {
        "colab": {
          "base_uri": "https://localhost:8080/",
          "height": 34
        },
        "id": "Dv10dVAI4l_x",
        "outputId": "691f3768-e18b-4380-8965-7a19169c471c"
      },
      "execution_count": 9,
      "outputs": [
        {
          "output_type": "display_data",
          "data": {
            "text/html": [
              "'The integer 5 is odd'"
            ],
            "text/markdown": "'The integer 5 is odd'",
            "text/latex": "'The integer 5 is odd'",
            "text/plain": [
              "[1] \"The integer 5 is odd\""
            ]
          },
          "metadata": {}
        }
      ]
    },
    {
      "cell_type": "code",
      "source": [
        "is_odd(6)"
      ],
      "metadata": {
        "colab": {
          "base_uri": "https://localhost:8080/",
          "height": 34
        },
        "id": "zaS-7sLp41zE",
        "outputId": "e699d061-419d-4ed7-f4a3-a9b0605b3521"
      },
      "execution_count": 10,
      "outputs": [
        {
          "output_type": "display_data",
          "data": {
            "text/html": [
              "'The integer 6 is even'"
            ],
            "text/markdown": "'The integer 6 is even'",
            "text/latex": "'The integer 6 is even'",
            "text/plain": [
              "[1] \"The integer 6 is even\""
            ]
          },
          "metadata": {}
        }
      ]
    },
    {
      "cell_type": "code",
      "source": [
        "# create a function in R that:\n",
        "#   1. takes 4 integer input parameters\n",
        "#   2. returns the mean value of the inputs\n",
        "#   3. has default values for the 4 input parameters, in case they are not provided when the function is called.\n",
        "#\n",
        "# then execute the function twice: once where you provide the input values, and once where you do not.\n",
        "\n",
        "compute_mean <- function(var1 = 1, var2 = 2, var3 = 3, var4 = 4) {\n",
        "  mean <- (var1 + var2 + var3 + var4)/4\n",
        "  mean\n",
        "}"
      ],
      "metadata": {
        "id": "f3IFD-T6p6Rd"
      },
      "execution_count": 21,
      "outputs": []
    },
    {
      "cell_type": "code",
      "source": [
        "compute_mean(2,4,6,8)"
      ],
      "metadata": {
        "colab": {
          "base_uri": "https://localhost:8080/",
          "height": 34
        },
        "id": "GiyP6kHF6Br2",
        "outputId": "78f29c36-6421-489d-f554-72d502bf0be2"
      },
      "execution_count": 22,
      "outputs": [
        {
          "output_type": "display_data",
          "data": {
            "text/html": [
              "5"
            ],
            "text/markdown": "5",
            "text/latex": "5",
            "text/plain": [
              "[1] 5"
            ]
          },
          "metadata": {}
        }
      ]
    },
    {
      "cell_type": "code",
      "source": [
        "compute_mean()"
      ],
      "metadata": {
        "colab": {
          "base_uri": "https://localhost:8080/",
          "height": 34
        },
        "id": "-VTdGc-R6RPC",
        "outputId": "db65e5e6-fb15-42a0-a3cd-560ac7a64287"
      },
      "execution_count": 23,
      "outputs": [
        {
          "output_type": "display_data",
          "data": {
            "text/html": [
              "2.5"
            ],
            "text/markdown": "2.5",
            "text/latex": "2.5",
            "text/plain": [
              "[1] 2.5"
            ]
          },
          "metadata": {}
        }
      ]
    },
    {
      "cell_type": "markdown",
      "source": [
        "## 2. Plot Data (4 pts)"
      ],
      "metadata": {
        "id": "F6Rx0GIGrpOB"
      }
    },
    {
      "cell_type": "markdown",
      "source": [
        "In the cell below, write the code required to plot from the `msleep` sample data set.\n",
        "\n",
        "1. Display only animals with body weights of 30 or greater.\n",
        "2. Group the animals by `order`.\n",
        "3. Display the mean `sleep_total` for each group in a bar plot."
      ],
      "metadata": {
        "id": "IDLyOjOJsFCX"
      }
    },
    {
      "cell_type": "code",
      "source": [
        "#\n",
        "msleep"
      ],
      "metadata": {
        "id": "0D5Ia-BPsoPZ",
        "colab": {
          "base_uri": "https://localhost:8080/",
          "height": 1000
        },
        "outputId": "b973beec-24d1-4785-9ef1-1455829fa3cc"
      },
      "execution_count": 31,
      "outputs": [
        {
          "output_type": "display_data",
          "data": {
            "text/html": [
              "<table class=\"dataframe\">\n",
              "<caption>A tibble: 83 × 11</caption>\n",
              "<thead>\n",
              "\t<tr><th scope=col>name</th><th scope=col>genus</th><th scope=col>vore</th><th scope=col>order</th><th scope=col>conservation</th><th scope=col>sleep_total</th><th scope=col>sleep_rem</th><th scope=col>sleep_cycle</th><th scope=col>awake</th><th scope=col>brainwt</th><th scope=col>bodywt</th></tr>\n",
              "\t<tr><th scope=col>&lt;chr&gt;</th><th scope=col>&lt;chr&gt;</th><th scope=col>&lt;chr&gt;</th><th scope=col>&lt;chr&gt;</th><th scope=col>&lt;chr&gt;</th><th scope=col>&lt;dbl&gt;</th><th scope=col>&lt;dbl&gt;</th><th scope=col>&lt;dbl&gt;</th><th scope=col>&lt;dbl&gt;</th><th scope=col>&lt;dbl&gt;</th><th scope=col>&lt;dbl&gt;</th></tr>\n",
              "</thead>\n",
              "<tbody>\n",
              "\t<tr><td>Cheetah                   </td><td>Acinonyx     </td><td>carni  </td><td>Carnivora      </td><td>lc          </td><td>12.1</td><td> NA</td><td>       NA</td><td>11.9</td><td>     NA</td><td>  50.000</td></tr>\n",
              "\t<tr><td>Owl monkey                </td><td>Aotus        </td><td>omni   </td><td>Primates       </td><td>NA          </td><td>17.0</td><td>1.8</td><td>       NA</td><td> 7.0</td><td>0.01550</td><td>   0.480</td></tr>\n",
              "\t<tr><td>Mountain beaver           </td><td>Aplodontia   </td><td>herbi  </td><td>Rodentia       </td><td>nt          </td><td>14.4</td><td>2.4</td><td>       NA</td><td> 9.6</td><td>     NA</td><td>   1.350</td></tr>\n",
              "\t<tr><td>Greater short-tailed shrew</td><td>Blarina      </td><td>omni   </td><td>Soricomorpha   </td><td>lc          </td><td>14.9</td><td>2.3</td><td>0.1333333</td><td> 9.1</td><td>0.00029</td><td>   0.019</td></tr>\n",
              "\t<tr><td>Cow                       </td><td>Bos          </td><td>herbi  </td><td>Artiodactyla   </td><td>domesticated</td><td> 4.0</td><td>0.7</td><td>0.6666667</td><td>20.0</td><td>0.42300</td><td> 600.000</td></tr>\n",
              "\t<tr><td>Three-toed sloth          </td><td>Bradypus     </td><td>herbi  </td><td>Pilosa         </td><td>NA          </td><td>14.4</td><td>2.2</td><td>0.7666667</td><td> 9.6</td><td>     NA</td><td>   3.850</td></tr>\n",
              "\t<tr><td>Northern fur seal         </td><td>Callorhinus  </td><td>carni  </td><td>Carnivora      </td><td>vu          </td><td> 8.7</td><td>1.4</td><td>0.3833333</td><td>15.3</td><td>     NA</td><td>  20.490</td></tr>\n",
              "\t<tr><td>Vesper mouse              </td><td>Calomys      </td><td>NA     </td><td>Rodentia       </td><td>NA          </td><td> 7.0</td><td> NA</td><td>       NA</td><td>17.0</td><td>     NA</td><td>   0.045</td></tr>\n",
              "\t<tr><td>Dog                       </td><td>Canis        </td><td>carni  </td><td>Carnivora      </td><td>domesticated</td><td>10.1</td><td>2.9</td><td>0.3333333</td><td>13.9</td><td>0.07000</td><td>  14.000</td></tr>\n",
              "\t<tr><td>Roe deer                  </td><td>Capreolus    </td><td>herbi  </td><td>Artiodactyla   </td><td>lc          </td><td> 3.0</td><td> NA</td><td>       NA</td><td>21.0</td><td>0.09820</td><td>  14.800</td></tr>\n",
              "\t<tr><td>Goat                      </td><td>Capri        </td><td>herbi  </td><td>Artiodactyla   </td><td>lc          </td><td> 5.3</td><td>0.6</td><td>       NA</td><td>18.7</td><td>0.11500</td><td>  33.500</td></tr>\n",
              "\t<tr><td>Guinea pig                </td><td>Cavis        </td><td>herbi  </td><td>Rodentia       </td><td>domesticated</td><td> 9.4</td><td>0.8</td><td>0.2166667</td><td>14.6</td><td>0.00550</td><td>   0.728</td></tr>\n",
              "\t<tr><td>Grivet                    </td><td>Cercopithecus</td><td>omni   </td><td>Primates       </td><td>lc          </td><td>10.0</td><td>0.7</td><td>       NA</td><td>14.0</td><td>     NA</td><td>   4.750</td></tr>\n",
              "\t<tr><td>Chinchilla                </td><td>Chinchilla   </td><td>herbi  </td><td>Rodentia       </td><td>domesticated</td><td>12.5</td><td>1.5</td><td>0.1166667</td><td>11.5</td><td>0.00640</td><td>   0.420</td></tr>\n",
              "\t<tr><td>Star-nosed mole           </td><td>Condylura    </td><td>omni   </td><td>Soricomorpha   </td><td>lc          </td><td>10.3</td><td>2.2</td><td>       NA</td><td>13.7</td><td>0.00100</td><td>   0.060</td></tr>\n",
              "\t<tr><td>African giant pouched rat </td><td>Cricetomys   </td><td>omni   </td><td>Rodentia       </td><td>NA          </td><td> 8.3</td><td>2.0</td><td>       NA</td><td>15.7</td><td>0.00660</td><td>   1.000</td></tr>\n",
              "\t<tr><td>Lesser short-tailed shrew </td><td>Cryptotis    </td><td>omni   </td><td>Soricomorpha   </td><td>lc          </td><td> 9.1</td><td>1.4</td><td>0.1500000</td><td>14.9</td><td>0.00014</td><td>   0.005</td></tr>\n",
              "\t<tr><td>Long-nosed armadillo      </td><td>Dasypus      </td><td>carni  </td><td>Cingulata      </td><td>lc          </td><td>17.4</td><td>3.1</td><td>0.3833333</td><td> 6.6</td><td>0.01080</td><td>   3.500</td></tr>\n",
              "\t<tr><td>Tree hyrax                </td><td>Dendrohyrax  </td><td>herbi  </td><td>Hyracoidea     </td><td>lc          </td><td> 5.3</td><td>0.5</td><td>       NA</td><td>18.7</td><td>0.01230</td><td>   2.950</td></tr>\n",
              "\t<tr><td>North American Opossum    </td><td>Didelphis    </td><td>omni   </td><td>Didelphimorphia</td><td>lc          </td><td>18.0</td><td>4.9</td><td>0.3333333</td><td> 6.0</td><td>0.00630</td><td>   1.700</td></tr>\n",
              "\t<tr><td>Asian elephant            </td><td>Elephas      </td><td>herbi  </td><td>Proboscidea    </td><td>en          </td><td> 3.9</td><td> NA</td><td>       NA</td><td>20.1</td><td>4.60300</td><td>2547.000</td></tr>\n",
              "\t<tr><td>Big brown bat             </td><td>Eptesicus    </td><td>insecti</td><td>Chiroptera     </td><td>lc          </td><td>19.7</td><td>3.9</td><td>0.1166667</td><td> 4.3</td><td>0.00030</td><td>   0.023</td></tr>\n",
              "\t<tr><td>Horse                     </td><td>Equus        </td><td>herbi  </td><td>Perissodactyla </td><td>domesticated</td><td> 2.9</td><td>0.6</td><td>1.0000000</td><td>21.1</td><td>0.65500</td><td> 521.000</td></tr>\n",
              "\t<tr><td>Donkey                    </td><td>Equus        </td><td>herbi  </td><td>Perissodactyla </td><td>domesticated</td><td> 3.1</td><td>0.4</td><td>       NA</td><td>20.9</td><td>0.41900</td><td> 187.000</td></tr>\n",
              "\t<tr><td>European hedgehog         </td><td>Erinaceus    </td><td>omni   </td><td>Erinaceomorpha </td><td>lc          </td><td>10.1</td><td>3.5</td><td>0.2833333</td><td>13.9</td><td>0.00350</td><td>   0.770</td></tr>\n",
              "\t<tr><td>Patas monkey              </td><td>Erythrocebus </td><td>omni   </td><td>Primates       </td><td>lc          </td><td>10.9</td><td>1.1</td><td>       NA</td><td>13.1</td><td>0.11500</td><td>  10.000</td></tr>\n",
              "\t<tr><td>Western american chipmunk </td><td>Eutamias     </td><td>herbi  </td><td>Rodentia       </td><td>NA          </td><td>14.9</td><td> NA</td><td>       NA</td><td> 9.1</td><td>     NA</td><td>   0.071</td></tr>\n",
              "\t<tr><td>Domestic cat              </td><td>Felis        </td><td>carni  </td><td>Carnivora      </td><td>domesticated</td><td>12.5</td><td>3.2</td><td>0.4166667</td><td>11.5</td><td>0.02560</td><td>   3.300</td></tr>\n",
              "\t<tr><td>Galago                    </td><td>Galago       </td><td>omni   </td><td>Primates       </td><td>NA          </td><td> 9.8</td><td>1.1</td><td>0.5500000</td><td>14.2</td><td>0.00500</td><td>   0.200</td></tr>\n",
              "\t<tr><td>Giraffe                   </td><td>Giraffa      </td><td>herbi  </td><td>Artiodactyla   </td><td>cd          </td><td> 1.9</td><td>0.4</td><td>       NA</td><td>22.1</td><td>     NA</td><td> 899.995</td></tr>\n",
              "\t<tr><td>⋮</td><td>⋮</td><td>⋮</td><td>⋮</td><td>⋮</td><td>⋮</td><td>⋮</td><td>⋮</td><td>⋮</td><td>⋮</td><td>⋮</td></tr>\n",
              "\t<tr><td>Baboon                        </td><td>Papio       </td><td>omni   </td><td>Primates      </td><td>NA          </td><td> 9.4</td><td>1.0</td><td>0.6666667</td><td>14.60</td><td>0.18000</td><td> 25.235</td></tr>\n",
              "\t<tr><td>Desert hedgehog               </td><td>Paraechinus </td><td>NA     </td><td>Erinaceomorpha</td><td>lc          </td><td>10.3</td><td>2.7</td><td>       NA</td><td>13.70</td><td>0.00240</td><td>  0.550</td></tr>\n",
              "\t<tr><td>Potto                         </td><td>Perodicticus</td><td>omni   </td><td>Primates      </td><td>lc          </td><td>11.0</td><td> NA</td><td>       NA</td><td>13.00</td><td>     NA</td><td>  1.100</td></tr>\n",
              "\t<tr><td>Deer mouse                    </td><td>Peromyscus  </td><td>NA     </td><td>Rodentia      </td><td>NA          </td><td>11.5</td><td> NA</td><td>       NA</td><td>12.50</td><td>     NA</td><td>  0.021</td></tr>\n",
              "\t<tr><td>Phalanger                     </td><td>Phalanger   </td><td>NA     </td><td>Diprotodontia </td><td>NA          </td><td>13.7</td><td>1.8</td><td>       NA</td><td>10.30</td><td>0.01140</td><td>  1.620</td></tr>\n",
              "\t<tr><td>Caspian seal                  </td><td>Phoca       </td><td>carni  </td><td>Carnivora     </td><td>vu          </td><td> 3.5</td><td>0.4</td><td>       NA</td><td>20.50</td><td>     NA</td><td> 86.000</td></tr>\n",
              "\t<tr><td>Common porpoise               </td><td>Phocoena    </td><td>carni  </td><td>Cetacea       </td><td>vu          </td><td> 5.6</td><td> NA</td><td>       NA</td><td>18.45</td><td>     NA</td><td> 53.180</td></tr>\n",
              "\t<tr><td>Potoroo                       </td><td>Potorous    </td><td>herbi  </td><td>Diprotodontia </td><td>NA          </td><td>11.1</td><td>1.5</td><td>       NA</td><td>12.90</td><td>     NA</td><td>  1.100</td></tr>\n",
              "\t<tr><td>Giant armadillo               </td><td>Priodontes  </td><td>insecti</td><td>Cingulata     </td><td>en          </td><td>18.1</td><td>6.1</td><td>       NA</td><td> 5.90</td><td>0.08100</td><td> 60.000</td></tr>\n",
              "\t<tr><td>Rock hyrax                    </td><td>Procavia    </td><td>NA     </td><td>Hyracoidea    </td><td>lc          </td><td> 5.4</td><td>0.5</td><td>       NA</td><td>18.60</td><td>0.02100</td><td>  3.600</td></tr>\n",
              "\t<tr><td>Laboratory rat                </td><td>Rattus      </td><td>herbi  </td><td>Rodentia      </td><td>lc          </td><td>13.0</td><td>2.4</td><td>0.1833333</td><td>11.00</td><td>0.00190</td><td>  0.320</td></tr>\n",
              "\t<tr><td>African striped mouse         </td><td>Rhabdomys   </td><td>omni   </td><td>Rodentia      </td><td>NA          </td><td> 8.7</td><td> NA</td><td>       NA</td><td>15.30</td><td>     NA</td><td>  0.044</td></tr>\n",
              "\t<tr><td>Squirrel monkey               </td><td>Saimiri     </td><td>omni   </td><td>Primates      </td><td>NA          </td><td> 9.6</td><td>1.4</td><td>       NA</td><td>14.40</td><td>0.02000</td><td>  0.743</td></tr>\n",
              "\t<tr><td>Eastern american mole         </td><td>Scalopus    </td><td>insecti</td><td>Soricomorpha  </td><td>lc          </td><td> 8.4</td><td>2.1</td><td>0.1666667</td><td>15.60</td><td>0.00120</td><td>  0.075</td></tr>\n",
              "\t<tr><td>Cotton rat                    </td><td>Sigmodon    </td><td>herbi  </td><td>Rodentia      </td><td>NA          </td><td>11.3</td><td>1.1</td><td>0.1500000</td><td>12.70</td><td>0.00118</td><td>  0.148</td></tr>\n",
              "\t<tr><td>Mole rat                      </td><td>Spalax      </td><td>NA     </td><td>Rodentia      </td><td>NA          </td><td>10.6</td><td>2.4</td><td>       NA</td><td>13.40</td><td>0.00300</td><td>  0.122</td></tr>\n",
              "\t<tr><td>Arctic ground squirrel        </td><td>Spermophilus</td><td>herbi  </td><td>Rodentia      </td><td>lc          </td><td>16.6</td><td> NA</td><td>       NA</td><td> 7.40</td><td>0.00570</td><td>  0.920</td></tr>\n",
              "\t<tr><td>Thirteen-lined ground squirrel</td><td>Spermophilus</td><td>herbi  </td><td>Rodentia      </td><td>lc          </td><td>13.8</td><td>3.4</td><td>0.2166667</td><td>10.20</td><td>0.00400</td><td>  0.101</td></tr>\n",
              "\t<tr><td>Golden-mantled ground squirrel</td><td>Spermophilus</td><td>herbi  </td><td>Rodentia      </td><td>lc          </td><td>15.9</td><td>3.0</td><td>       NA</td><td> 8.10</td><td>     NA</td><td>  0.205</td></tr>\n",
              "\t<tr><td>Musk shrew                    </td><td>Suncus      </td><td>NA     </td><td>Soricomorpha  </td><td>NA          </td><td>12.8</td><td>2.0</td><td>0.1833333</td><td>11.20</td><td>0.00033</td><td>  0.048</td></tr>\n",
              "\t<tr><td>Pig                           </td><td>Sus         </td><td>omni   </td><td>Artiodactyla  </td><td>domesticated</td><td> 9.1</td><td>2.4</td><td>0.5000000</td><td>14.90</td><td>0.18000</td><td> 86.250</td></tr>\n",
              "\t<tr><td>Short-nosed echidna           </td><td>Tachyglossus</td><td>insecti</td><td>Monotremata   </td><td>NA          </td><td> 8.6</td><td> NA</td><td>       NA</td><td>15.40</td><td>0.02500</td><td>  4.500</td></tr>\n",
              "\t<tr><td>Eastern american chipmunk     </td><td>Tamias      </td><td>herbi  </td><td>Rodentia      </td><td>NA          </td><td>15.8</td><td> NA</td><td>       NA</td><td> 8.20</td><td>     NA</td><td>  0.112</td></tr>\n",
              "\t<tr><td>Brazilian tapir               </td><td>Tapirus     </td><td>herbi  </td><td>Perissodactyla</td><td>vu          </td><td> 4.4</td><td>1.0</td><td>0.9000000</td><td>19.60</td><td>0.16900</td><td>207.501</td></tr>\n",
              "\t<tr><td>Tenrec                        </td><td>Tenrec      </td><td>omni   </td><td>Afrosoricida  </td><td>NA          </td><td>15.6</td><td>2.3</td><td>       NA</td><td> 8.40</td><td>0.00260</td><td>  0.900</td></tr>\n",
              "\t<tr><td>Tree shrew                    </td><td>Tupaia      </td><td>omni   </td><td>Scandentia    </td><td>NA          </td><td> 8.9</td><td>2.6</td><td>0.2333333</td><td>15.10</td><td>0.00250</td><td>  0.104</td></tr>\n",
              "\t<tr><td>Bottle-nosed dolphin          </td><td>Tursiops    </td><td>carni  </td><td>Cetacea       </td><td>NA          </td><td> 5.2</td><td> NA</td><td>       NA</td><td>18.80</td><td>     NA</td><td>173.330</td></tr>\n",
              "\t<tr><td>Genet                         </td><td>Genetta     </td><td>carni  </td><td>Carnivora     </td><td>NA          </td><td> 6.3</td><td>1.3</td><td>       NA</td><td>17.70</td><td>0.01750</td><td>  2.000</td></tr>\n",
              "\t<tr><td>Arctic fox                    </td><td>Vulpes      </td><td>carni  </td><td>Carnivora     </td><td>NA          </td><td>12.5</td><td> NA</td><td>       NA</td><td>11.50</td><td>0.04450</td><td>  3.380</td></tr>\n",
              "\t<tr><td>Red fox                       </td><td>Vulpes      </td><td>carni  </td><td>Carnivora     </td><td>NA          </td><td> 9.8</td><td>2.4</td><td>0.3500000</td><td>14.20</td><td>0.05040</td><td>  4.230</td></tr>\n",
              "</tbody>\n",
              "</table>\n"
            ],
            "text/markdown": "\nA tibble: 83 × 11\n\n| name &lt;chr&gt; | genus &lt;chr&gt; | vore &lt;chr&gt; | order &lt;chr&gt; | conservation &lt;chr&gt; | sleep_total &lt;dbl&gt; | sleep_rem &lt;dbl&gt; | sleep_cycle &lt;dbl&gt; | awake &lt;dbl&gt; | brainwt &lt;dbl&gt; | bodywt &lt;dbl&gt; |\n|---|---|---|---|---|---|---|---|---|---|---|\n| Cheetah                    | Acinonyx      | carni   | Carnivora       | lc           | 12.1 |  NA |        NA | 11.9 |      NA |   50.000 |\n| Owl monkey                 | Aotus         | omni    | Primates        | NA           | 17.0 | 1.8 |        NA |  7.0 | 0.01550 |    0.480 |\n| Mountain beaver            | Aplodontia    | herbi   | Rodentia        | nt           | 14.4 | 2.4 |        NA |  9.6 |      NA |    1.350 |\n| Greater short-tailed shrew | Blarina       | omni    | Soricomorpha    | lc           | 14.9 | 2.3 | 0.1333333 |  9.1 | 0.00029 |    0.019 |\n| Cow                        | Bos           | herbi   | Artiodactyla    | domesticated |  4.0 | 0.7 | 0.6666667 | 20.0 | 0.42300 |  600.000 |\n| Three-toed sloth           | Bradypus      | herbi   | Pilosa          | NA           | 14.4 | 2.2 | 0.7666667 |  9.6 |      NA |    3.850 |\n| Northern fur seal          | Callorhinus   | carni   | Carnivora       | vu           |  8.7 | 1.4 | 0.3833333 | 15.3 |      NA |   20.490 |\n| Vesper mouse               | Calomys       | NA      | Rodentia        | NA           |  7.0 |  NA |        NA | 17.0 |      NA |    0.045 |\n| Dog                        | Canis         | carni   | Carnivora       | domesticated | 10.1 | 2.9 | 0.3333333 | 13.9 | 0.07000 |   14.000 |\n| Roe deer                   | Capreolus     | herbi   | Artiodactyla    | lc           |  3.0 |  NA |        NA | 21.0 | 0.09820 |   14.800 |\n| Goat                       | Capri         | herbi   | Artiodactyla    | lc           |  5.3 | 0.6 |        NA | 18.7 | 0.11500 |   33.500 |\n| Guinea pig                 | Cavis         | herbi   | Rodentia        | domesticated |  9.4 | 0.8 | 0.2166667 | 14.6 | 0.00550 |    0.728 |\n| Grivet                     | Cercopithecus | omni    | Primates        | lc           | 10.0 | 0.7 |        NA | 14.0 |      NA |    4.750 |\n| Chinchilla                 | Chinchilla    | herbi   | Rodentia        | domesticated | 12.5 | 1.5 | 0.1166667 | 11.5 | 0.00640 |    0.420 |\n| Star-nosed mole            | Condylura     | omni    | Soricomorpha    | lc           | 10.3 | 2.2 |        NA | 13.7 | 0.00100 |    0.060 |\n| African giant pouched rat  | Cricetomys    | omni    | Rodentia        | NA           |  8.3 | 2.0 |        NA | 15.7 | 0.00660 |    1.000 |\n| Lesser short-tailed shrew  | Cryptotis     | omni    | Soricomorpha    | lc           |  9.1 | 1.4 | 0.1500000 | 14.9 | 0.00014 |    0.005 |\n| Long-nosed armadillo       | Dasypus       | carni   | Cingulata       | lc           | 17.4 | 3.1 | 0.3833333 |  6.6 | 0.01080 |    3.500 |\n| Tree hyrax                 | Dendrohyrax   | herbi   | Hyracoidea      | lc           |  5.3 | 0.5 |        NA | 18.7 | 0.01230 |    2.950 |\n| North American Opossum     | Didelphis     | omni    | Didelphimorphia | lc           | 18.0 | 4.9 | 0.3333333 |  6.0 | 0.00630 |    1.700 |\n| Asian elephant             | Elephas       | herbi   | Proboscidea     | en           |  3.9 |  NA |        NA | 20.1 | 4.60300 | 2547.000 |\n| Big brown bat              | Eptesicus     | insecti | Chiroptera      | lc           | 19.7 | 3.9 | 0.1166667 |  4.3 | 0.00030 |    0.023 |\n| Horse                      | Equus         | herbi   | Perissodactyla  | domesticated |  2.9 | 0.6 | 1.0000000 | 21.1 | 0.65500 |  521.000 |\n| Donkey                     | Equus         | herbi   | Perissodactyla  | domesticated |  3.1 | 0.4 |        NA | 20.9 | 0.41900 |  187.000 |\n| European hedgehog          | Erinaceus     | omni    | Erinaceomorpha  | lc           | 10.1 | 3.5 | 0.2833333 | 13.9 | 0.00350 |    0.770 |\n| Patas monkey               | Erythrocebus  | omni    | Primates        | lc           | 10.9 | 1.1 |        NA | 13.1 | 0.11500 |   10.000 |\n| Western american chipmunk  | Eutamias      | herbi   | Rodentia        | NA           | 14.9 |  NA |        NA |  9.1 |      NA |    0.071 |\n| Domestic cat               | Felis         | carni   | Carnivora       | domesticated | 12.5 | 3.2 | 0.4166667 | 11.5 | 0.02560 |    3.300 |\n| Galago                     | Galago        | omni    | Primates        | NA           |  9.8 | 1.1 | 0.5500000 | 14.2 | 0.00500 |    0.200 |\n| Giraffe                    | Giraffa       | herbi   | Artiodactyla    | cd           |  1.9 | 0.4 |        NA | 22.1 |      NA |  899.995 |\n| ⋮ | ⋮ | ⋮ | ⋮ | ⋮ | ⋮ | ⋮ | ⋮ | ⋮ | ⋮ | ⋮ |\n| Baboon                         | Papio        | omni    | Primates       | NA           |  9.4 | 1.0 | 0.6666667 | 14.60 | 0.18000 |  25.235 |\n| Desert hedgehog                | Paraechinus  | NA      | Erinaceomorpha | lc           | 10.3 | 2.7 |        NA | 13.70 | 0.00240 |   0.550 |\n| Potto                          | Perodicticus | omni    | Primates       | lc           | 11.0 |  NA |        NA | 13.00 |      NA |   1.100 |\n| Deer mouse                     | Peromyscus   | NA      | Rodentia       | NA           | 11.5 |  NA |        NA | 12.50 |      NA |   0.021 |\n| Phalanger                      | Phalanger    | NA      | Diprotodontia  | NA           | 13.7 | 1.8 |        NA | 10.30 | 0.01140 |   1.620 |\n| Caspian seal                   | Phoca        | carni   | Carnivora      | vu           |  3.5 | 0.4 |        NA | 20.50 |      NA |  86.000 |\n| Common porpoise                | Phocoena     | carni   | Cetacea        | vu           |  5.6 |  NA |        NA | 18.45 |      NA |  53.180 |\n| Potoroo                        | Potorous     | herbi   | Diprotodontia  | NA           | 11.1 | 1.5 |        NA | 12.90 |      NA |   1.100 |\n| Giant armadillo                | Priodontes   | insecti | Cingulata      | en           | 18.1 | 6.1 |        NA |  5.90 | 0.08100 |  60.000 |\n| Rock hyrax                     | Procavia     | NA      | Hyracoidea     | lc           |  5.4 | 0.5 |        NA | 18.60 | 0.02100 |   3.600 |\n| Laboratory rat                 | Rattus       | herbi   | Rodentia       | lc           | 13.0 | 2.4 | 0.1833333 | 11.00 | 0.00190 |   0.320 |\n| African striped mouse          | Rhabdomys    | omni    | Rodentia       | NA           |  8.7 |  NA |        NA | 15.30 |      NA |   0.044 |\n| Squirrel monkey                | Saimiri      | omni    | Primates       | NA           |  9.6 | 1.4 |        NA | 14.40 | 0.02000 |   0.743 |\n| Eastern american mole          | Scalopus     | insecti | Soricomorpha   | lc           |  8.4 | 2.1 | 0.1666667 | 15.60 | 0.00120 |   0.075 |\n| Cotton rat                     | Sigmodon     | herbi   | Rodentia       | NA           | 11.3 | 1.1 | 0.1500000 | 12.70 | 0.00118 |   0.148 |\n| Mole rat                       | Spalax       | NA      | Rodentia       | NA           | 10.6 | 2.4 |        NA | 13.40 | 0.00300 |   0.122 |\n| Arctic ground squirrel         | Spermophilus | herbi   | Rodentia       | lc           | 16.6 |  NA |        NA |  7.40 | 0.00570 |   0.920 |\n| Thirteen-lined ground squirrel | Spermophilus | herbi   | Rodentia       | lc           | 13.8 | 3.4 | 0.2166667 | 10.20 | 0.00400 |   0.101 |\n| Golden-mantled ground squirrel | Spermophilus | herbi   | Rodentia       | lc           | 15.9 | 3.0 |        NA |  8.10 |      NA |   0.205 |\n| Musk shrew                     | Suncus       | NA      | Soricomorpha   | NA           | 12.8 | 2.0 | 0.1833333 | 11.20 | 0.00033 |   0.048 |\n| Pig                            | Sus          | omni    | Artiodactyla   | domesticated |  9.1 | 2.4 | 0.5000000 | 14.90 | 0.18000 |  86.250 |\n| Short-nosed echidna            | Tachyglossus | insecti | Monotremata    | NA           |  8.6 |  NA |        NA | 15.40 | 0.02500 |   4.500 |\n| Eastern american chipmunk      | Tamias       | herbi   | Rodentia       | NA           | 15.8 |  NA |        NA |  8.20 |      NA |   0.112 |\n| Brazilian tapir                | Tapirus      | herbi   | Perissodactyla | vu           |  4.4 | 1.0 | 0.9000000 | 19.60 | 0.16900 | 207.501 |\n| Tenrec                         | Tenrec       | omni    | Afrosoricida   | NA           | 15.6 | 2.3 |        NA |  8.40 | 0.00260 |   0.900 |\n| Tree shrew                     | Tupaia       | omni    | Scandentia     | NA           |  8.9 | 2.6 | 0.2333333 | 15.10 | 0.00250 |   0.104 |\n| Bottle-nosed dolphin           | Tursiops     | carni   | Cetacea        | NA           |  5.2 |  NA |        NA | 18.80 |      NA | 173.330 |\n| Genet                          | Genetta      | carni   | Carnivora      | NA           |  6.3 | 1.3 |        NA | 17.70 | 0.01750 |   2.000 |\n| Arctic fox                     | Vulpes       | carni   | Carnivora      | NA           | 12.5 |  NA |        NA | 11.50 | 0.04450 |   3.380 |\n| Red fox                        | Vulpes       | carni   | Carnivora      | NA           |  9.8 | 2.4 | 0.3500000 | 14.20 | 0.05040 |   4.230 |\n\n",
            "text/latex": "A tibble: 83 × 11\n\\begin{tabular}{lllllllllll}\n name & genus & vore & order & conservation & sleep\\_total & sleep\\_rem & sleep\\_cycle & awake & brainwt & bodywt\\\\\n <chr> & <chr> & <chr> & <chr> & <chr> & <dbl> & <dbl> & <dbl> & <dbl> & <dbl> & <dbl>\\\\\n\\hline\n\t Cheetah                    & Acinonyx      & carni   & Carnivora       & lc           & 12.1 &  NA &        NA & 11.9 &      NA &   50.000\\\\\n\t Owl monkey                 & Aotus         & omni    & Primates        & NA           & 17.0 & 1.8 &        NA &  7.0 & 0.01550 &    0.480\\\\\n\t Mountain beaver            & Aplodontia    & herbi   & Rodentia        & nt           & 14.4 & 2.4 &        NA &  9.6 &      NA &    1.350\\\\\n\t Greater short-tailed shrew & Blarina       & omni    & Soricomorpha    & lc           & 14.9 & 2.3 & 0.1333333 &  9.1 & 0.00029 &    0.019\\\\\n\t Cow                        & Bos           & herbi   & Artiodactyla    & domesticated &  4.0 & 0.7 & 0.6666667 & 20.0 & 0.42300 &  600.000\\\\\n\t Three-toed sloth           & Bradypus      & herbi   & Pilosa          & NA           & 14.4 & 2.2 & 0.7666667 &  9.6 &      NA &    3.850\\\\\n\t Northern fur seal          & Callorhinus   & carni   & Carnivora       & vu           &  8.7 & 1.4 & 0.3833333 & 15.3 &      NA &   20.490\\\\\n\t Vesper mouse               & Calomys       & NA      & Rodentia        & NA           &  7.0 &  NA &        NA & 17.0 &      NA &    0.045\\\\\n\t Dog                        & Canis         & carni   & Carnivora       & domesticated & 10.1 & 2.9 & 0.3333333 & 13.9 & 0.07000 &   14.000\\\\\n\t Roe deer                   & Capreolus     & herbi   & Artiodactyla    & lc           &  3.0 &  NA &        NA & 21.0 & 0.09820 &   14.800\\\\\n\t Goat                       & Capri         & herbi   & Artiodactyla    & lc           &  5.3 & 0.6 &        NA & 18.7 & 0.11500 &   33.500\\\\\n\t Guinea pig                 & Cavis         & herbi   & Rodentia        & domesticated &  9.4 & 0.8 & 0.2166667 & 14.6 & 0.00550 &    0.728\\\\\n\t Grivet                     & Cercopithecus & omni    & Primates        & lc           & 10.0 & 0.7 &        NA & 14.0 &      NA &    4.750\\\\\n\t Chinchilla                 & Chinchilla    & herbi   & Rodentia        & domesticated & 12.5 & 1.5 & 0.1166667 & 11.5 & 0.00640 &    0.420\\\\\n\t Star-nosed mole            & Condylura     & omni    & Soricomorpha    & lc           & 10.3 & 2.2 &        NA & 13.7 & 0.00100 &    0.060\\\\\n\t African giant pouched rat  & Cricetomys    & omni    & Rodentia        & NA           &  8.3 & 2.0 &        NA & 15.7 & 0.00660 &    1.000\\\\\n\t Lesser short-tailed shrew  & Cryptotis     & omni    & Soricomorpha    & lc           &  9.1 & 1.4 & 0.1500000 & 14.9 & 0.00014 &    0.005\\\\\n\t Long-nosed armadillo       & Dasypus       & carni   & Cingulata       & lc           & 17.4 & 3.1 & 0.3833333 &  6.6 & 0.01080 &    3.500\\\\\n\t Tree hyrax                 & Dendrohyrax   & herbi   & Hyracoidea      & lc           &  5.3 & 0.5 &        NA & 18.7 & 0.01230 &    2.950\\\\\n\t North American Opossum     & Didelphis     & omni    & Didelphimorphia & lc           & 18.0 & 4.9 & 0.3333333 &  6.0 & 0.00630 &    1.700\\\\\n\t Asian elephant             & Elephas       & herbi   & Proboscidea     & en           &  3.9 &  NA &        NA & 20.1 & 4.60300 & 2547.000\\\\\n\t Big brown bat              & Eptesicus     & insecti & Chiroptera      & lc           & 19.7 & 3.9 & 0.1166667 &  4.3 & 0.00030 &    0.023\\\\\n\t Horse                      & Equus         & herbi   & Perissodactyla  & domesticated &  2.9 & 0.6 & 1.0000000 & 21.1 & 0.65500 &  521.000\\\\\n\t Donkey                     & Equus         & herbi   & Perissodactyla  & domesticated &  3.1 & 0.4 &        NA & 20.9 & 0.41900 &  187.000\\\\\n\t European hedgehog          & Erinaceus     & omni    & Erinaceomorpha  & lc           & 10.1 & 3.5 & 0.2833333 & 13.9 & 0.00350 &    0.770\\\\\n\t Patas monkey               & Erythrocebus  & omni    & Primates        & lc           & 10.9 & 1.1 &        NA & 13.1 & 0.11500 &   10.000\\\\\n\t Western american chipmunk  & Eutamias      & herbi   & Rodentia        & NA           & 14.9 &  NA &        NA &  9.1 &      NA &    0.071\\\\\n\t Domestic cat               & Felis         & carni   & Carnivora       & domesticated & 12.5 & 3.2 & 0.4166667 & 11.5 & 0.02560 &    3.300\\\\\n\t Galago                     & Galago        & omni    & Primates        & NA           &  9.8 & 1.1 & 0.5500000 & 14.2 & 0.00500 &    0.200\\\\\n\t Giraffe                    & Giraffa       & herbi   & Artiodactyla    & cd           &  1.9 & 0.4 &        NA & 22.1 &      NA &  899.995\\\\\n\t ⋮ & ⋮ & ⋮ & ⋮ & ⋮ & ⋮ & ⋮ & ⋮ & ⋮ & ⋮ & ⋮\\\\\n\t Baboon                         & Papio        & omni    & Primates       & NA           &  9.4 & 1.0 & 0.6666667 & 14.60 & 0.18000 &  25.235\\\\\n\t Desert hedgehog                & Paraechinus  & NA      & Erinaceomorpha & lc           & 10.3 & 2.7 &        NA & 13.70 & 0.00240 &   0.550\\\\\n\t Potto                          & Perodicticus & omni    & Primates       & lc           & 11.0 &  NA &        NA & 13.00 &      NA &   1.100\\\\\n\t Deer mouse                     & Peromyscus   & NA      & Rodentia       & NA           & 11.5 &  NA &        NA & 12.50 &      NA &   0.021\\\\\n\t Phalanger                      & Phalanger    & NA      & Diprotodontia  & NA           & 13.7 & 1.8 &        NA & 10.30 & 0.01140 &   1.620\\\\\n\t Caspian seal                   & Phoca        & carni   & Carnivora      & vu           &  3.5 & 0.4 &        NA & 20.50 &      NA &  86.000\\\\\n\t Common porpoise                & Phocoena     & carni   & Cetacea        & vu           &  5.6 &  NA &        NA & 18.45 &      NA &  53.180\\\\\n\t Potoroo                        & Potorous     & herbi   & Diprotodontia  & NA           & 11.1 & 1.5 &        NA & 12.90 &      NA &   1.100\\\\\n\t Giant armadillo                & Priodontes   & insecti & Cingulata      & en           & 18.1 & 6.1 &        NA &  5.90 & 0.08100 &  60.000\\\\\n\t Rock hyrax                     & Procavia     & NA      & Hyracoidea     & lc           &  5.4 & 0.5 &        NA & 18.60 & 0.02100 &   3.600\\\\\n\t Laboratory rat                 & Rattus       & herbi   & Rodentia       & lc           & 13.0 & 2.4 & 0.1833333 & 11.00 & 0.00190 &   0.320\\\\\n\t African striped mouse          & Rhabdomys    & omni    & Rodentia       & NA           &  8.7 &  NA &        NA & 15.30 &      NA &   0.044\\\\\n\t Squirrel monkey                & Saimiri      & omni    & Primates       & NA           &  9.6 & 1.4 &        NA & 14.40 & 0.02000 &   0.743\\\\\n\t Eastern american mole          & Scalopus     & insecti & Soricomorpha   & lc           &  8.4 & 2.1 & 0.1666667 & 15.60 & 0.00120 &   0.075\\\\\n\t Cotton rat                     & Sigmodon     & herbi   & Rodentia       & NA           & 11.3 & 1.1 & 0.1500000 & 12.70 & 0.00118 &   0.148\\\\\n\t Mole rat                       & Spalax       & NA      & Rodentia       & NA           & 10.6 & 2.4 &        NA & 13.40 & 0.00300 &   0.122\\\\\n\t Arctic ground squirrel         & Spermophilus & herbi   & Rodentia       & lc           & 16.6 &  NA &        NA &  7.40 & 0.00570 &   0.920\\\\\n\t Thirteen-lined ground squirrel & Spermophilus & herbi   & Rodentia       & lc           & 13.8 & 3.4 & 0.2166667 & 10.20 & 0.00400 &   0.101\\\\\n\t Golden-mantled ground squirrel & Spermophilus & herbi   & Rodentia       & lc           & 15.9 & 3.0 &        NA &  8.10 &      NA &   0.205\\\\\n\t Musk shrew                     & Suncus       & NA      & Soricomorpha   & NA           & 12.8 & 2.0 & 0.1833333 & 11.20 & 0.00033 &   0.048\\\\\n\t Pig                            & Sus          & omni    & Artiodactyla   & domesticated &  9.1 & 2.4 & 0.5000000 & 14.90 & 0.18000 &  86.250\\\\\n\t Short-nosed echidna            & Tachyglossus & insecti & Monotremata    & NA           &  8.6 &  NA &        NA & 15.40 & 0.02500 &   4.500\\\\\n\t Eastern american chipmunk      & Tamias       & herbi   & Rodentia       & NA           & 15.8 &  NA &        NA &  8.20 &      NA &   0.112\\\\\n\t Brazilian tapir                & Tapirus      & herbi   & Perissodactyla & vu           &  4.4 & 1.0 & 0.9000000 & 19.60 & 0.16900 & 207.501\\\\\n\t Tenrec                         & Tenrec       & omni    & Afrosoricida   & NA           & 15.6 & 2.3 &        NA &  8.40 & 0.00260 &   0.900\\\\\n\t Tree shrew                     & Tupaia       & omni    & Scandentia     & NA           &  8.9 & 2.6 & 0.2333333 & 15.10 & 0.00250 &   0.104\\\\\n\t Bottle-nosed dolphin           & Tursiops     & carni   & Cetacea        & NA           &  5.2 &  NA &        NA & 18.80 &      NA & 173.330\\\\\n\t Genet                          & Genetta      & carni   & Carnivora      & NA           &  6.3 & 1.3 &        NA & 17.70 & 0.01750 &   2.000\\\\\n\t Arctic fox                     & Vulpes       & carni   & Carnivora      & NA           & 12.5 &  NA &        NA & 11.50 & 0.04450 &   3.380\\\\\n\t Red fox                        & Vulpes       & carni   & Carnivora      & NA           &  9.8 & 2.4 & 0.3500000 & 14.20 & 0.05040 &   4.230\\\\\n\\end{tabular}\n",
            "text/plain": [
              "   name                           genus         vore    order          \n",
              "1  Cheetah                        Acinonyx      carni   Carnivora      \n",
              "2  Owl monkey                     Aotus         omni    Primates       \n",
              "3  Mountain beaver                Aplodontia    herbi   Rodentia       \n",
              "4  Greater short-tailed shrew     Blarina       omni    Soricomorpha   \n",
              "5  Cow                            Bos           herbi   Artiodactyla   \n",
              "6  Three-toed sloth               Bradypus      herbi   Pilosa         \n",
              "7  Northern fur seal              Callorhinus   carni   Carnivora      \n",
              "8  Vesper mouse                   Calomys       NA      Rodentia       \n",
              "9  Dog                            Canis         carni   Carnivora      \n",
              "10 Roe deer                       Capreolus     herbi   Artiodactyla   \n",
              "11 Goat                           Capri         herbi   Artiodactyla   \n",
              "12 Guinea pig                     Cavis         herbi   Rodentia       \n",
              "13 Grivet                         Cercopithecus omni    Primates       \n",
              "14 Chinchilla                     Chinchilla    herbi   Rodentia       \n",
              "15 Star-nosed mole                Condylura     omni    Soricomorpha   \n",
              "16 African giant pouched rat      Cricetomys    omni    Rodentia       \n",
              "17 Lesser short-tailed shrew      Cryptotis     omni    Soricomorpha   \n",
              "18 Long-nosed armadillo           Dasypus       carni   Cingulata      \n",
              "19 Tree hyrax                     Dendrohyrax   herbi   Hyracoidea     \n",
              "20 North American Opossum         Didelphis     omni    Didelphimorphia\n",
              "21 Asian elephant                 Elephas       herbi   Proboscidea    \n",
              "22 Big brown bat                  Eptesicus     insecti Chiroptera     \n",
              "23 Horse                          Equus         herbi   Perissodactyla \n",
              "24 Donkey                         Equus         herbi   Perissodactyla \n",
              "25 European hedgehog              Erinaceus     omni    Erinaceomorpha \n",
              "26 Patas monkey                   Erythrocebus  omni    Primates       \n",
              "27 Western american chipmunk      Eutamias      herbi   Rodentia       \n",
              "28 Domestic cat                   Felis         carni   Carnivora      \n",
              "29 Galago                         Galago        omni    Primates       \n",
              "30 Giraffe                        Giraffa       herbi   Artiodactyla   \n",
              "⋮  ⋮                              ⋮             ⋮       ⋮              \n",
              "54 Baboon                         Papio         omni    Primates       \n",
              "55 Desert hedgehog                Paraechinus   NA      Erinaceomorpha \n",
              "56 Potto                          Perodicticus  omni    Primates       \n",
              "57 Deer mouse                     Peromyscus    NA      Rodentia       \n",
              "58 Phalanger                      Phalanger     NA      Diprotodontia  \n",
              "59 Caspian seal                   Phoca         carni   Carnivora      \n",
              "60 Common porpoise                Phocoena      carni   Cetacea        \n",
              "61 Potoroo                        Potorous      herbi   Diprotodontia  \n",
              "62 Giant armadillo                Priodontes    insecti Cingulata      \n",
              "63 Rock hyrax                     Procavia      NA      Hyracoidea     \n",
              "64 Laboratory rat                 Rattus        herbi   Rodentia       \n",
              "65 African striped mouse          Rhabdomys     omni    Rodentia       \n",
              "66 Squirrel monkey                Saimiri       omni    Primates       \n",
              "67 Eastern american mole          Scalopus      insecti Soricomorpha   \n",
              "68 Cotton rat                     Sigmodon      herbi   Rodentia       \n",
              "69 Mole rat                       Spalax        NA      Rodentia       \n",
              "70 Arctic ground squirrel         Spermophilus  herbi   Rodentia       \n",
              "71 Thirteen-lined ground squirrel Spermophilus  herbi   Rodentia       \n",
              "72 Golden-mantled ground squirrel Spermophilus  herbi   Rodentia       \n",
              "73 Musk shrew                     Suncus        NA      Soricomorpha   \n",
              "74 Pig                            Sus           omni    Artiodactyla   \n",
              "75 Short-nosed echidna            Tachyglossus  insecti Monotremata    \n",
              "76 Eastern american chipmunk      Tamias        herbi   Rodentia       \n",
              "77 Brazilian tapir                Tapirus       herbi   Perissodactyla \n",
              "78 Tenrec                         Tenrec        omni    Afrosoricida   \n",
              "79 Tree shrew                     Tupaia        omni    Scandentia     \n",
              "80 Bottle-nosed dolphin           Tursiops      carni   Cetacea        \n",
              "81 Genet                          Genetta       carni   Carnivora      \n",
              "82 Arctic fox                     Vulpes        carni   Carnivora      \n",
              "83 Red fox                        Vulpes        carni   Carnivora      \n",
              "   conservation sleep_total sleep_rem sleep_cycle awake brainwt bodywt  \n",
              "1  lc           12.1         NA              NA   11.9       NA   50.000\n",
              "2  NA           17.0        1.8              NA    7.0  0.01550    0.480\n",
              "3  nt           14.4        2.4              NA    9.6       NA    1.350\n",
              "4  lc           14.9        2.3       0.1333333    9.1  0.00029    0.019\n",
              "5  domesticated  4.0        0.7       0.6666667   20.0  0.42300  600.000\n",
              "6  NA           14.4        2.2       0.7666667    9.6       NA    3.850\n",
              "7  vu            8.7        1.4       0.3833333   15.3       NA   20.490\n",
              "8  NA            7.0         NA              NA   17.0       NA    0.045\n",
              "9  domesticated 10.1        2.9       0.3333333   13.9  0.07000   14.000\n",
              "10 lc            3.0         NA              NA   21.0  0.09820   14.800\n",
              "11 lc            5.3        0.6              NA   18.7  0.11500   33.500\n",
              "12 domesticated  9.4        0.8       0.2166667   14.6  0.00550    0.728\n",
              "13 lc           10.0        0.7              NA   14.0       NA    4.750\n",
              "14 domesticated 12.5        1.5       0.1166667   11.5  0.00640    0.420\n",
              "15 lc           10.3        2.2              NA   13.7  0.00100    0.060\n",
              "16 NA            8.3        2.0              NA   15.7  0.00660    1.000\n",
              "17 lc            9.1        1.4       0.1500000   14.9  0.00014    0.005\n",
              "18 lc           17.4        3.1       0.3833333    6.6  0.01080    3.500\n",
              "19 lc            5.3        0.5              NA   18.7  0.01230    2.950\n",
              "20 lc           18.0        4.9       0.3333333    6.0  0.00630    1.700\n",
              "21 en            3.9         NA              NA   20.1  4.60300 2547.000\n",
              "22 lc           19.7        3.9       0.1166667    4.3  0.00030    0.023\n",
              "23 domesticated  2.9        0.6       1.0000000   21.1  0.65500  521.000\n",
              "24 domesticated  3.1        0.4              NA   20.9  0.41900  187.000\n",
              "25 lc           10.1        3.5       0.2833333   13.9  0.00350    0.770\n",
              "26 lc           10.9        1.1              NA   13.1  0.11500   10.000\n",
              "27 NA           14.9         NA              NA    9.1       NA    0.071\n",
              "28 domesticated 12.5        3.2       0.4166667   11.5  0.02560    3.300\n",
              "29 NA            9.8        1.1       0.5500000   14.2  0.00500    0.200\n",
              "30 cd            1.9        0.4              NA   22.1       NA  899.995\n",
              "⋮  ⋮            ⋮           ⋮         ⋮           ⋮     ⋮       ⋮       \n",
              "54 NA            9.4        1.0       0.6666667   14.60 0.18000  25.235 \n",
              "55 lc           10.3        2.7              NA   13.70 0.00240   0.550 \n",
              "56 lc           11.0         NA              NA   13.00      NA   1.100 \n",
              "57 NA           11.5         NA              NA   12.50      NA   0.021 \n",
              "58 NA           13.7        1.8              NA   10.30 0.01140   1.620 \n",
              "59 vu            3.5        0.4              NA   20.50      NA  86.000 \n",
              "60 vu            5.6         NA              NA   18.45      NA  53.180 \n",
              "61 NA           11.1        1.5              NA   12.90      NA   1.100 \n",
              "62 en           18.1        6.1              NA    5.90 0.08100  60.000 \n",
              "63 lc            5.4        0.5              NA   18.60 0.02100   3.600 \n",
              "64 lc           13.0        2.4       0.1833333   11.00 0.00190   0.320 \n",
              "65 NA            8.7         NA              NA   15.30      NA   0.044 \n",
              "66 NA            9.6        1.4              NA   14.40 0.02000   0.743 \n",
              "67 lc            8.4        2.1       0.1666667   15.60 0.00120   0.075 \n",
              "68 NA           11.3        1.1       0.1500000   12.70 0.00118   0.148 \n",
              "69 NA           10.6        2.4              NA   13.40 0.00300   0.122 \n",
              "70 lc           16.6         NA              NA    7.40 0.00570   0.920 \n",
              "71 lc           13.8        3.4       0.2166667   10.20 0.00400   0.101 \n",
              "72 lc           15.9        3.0              NA    8.10      NA   0.205 \n",
              "73 NA           12.8        2.0       0.1833333   11.20 0.00033   0.048 \n",
              "74 domesticated  9.1        2.4       0.5000000   14.90 0.18000  86.250 \n",
              "75 NA            8.6         NA              NA   15.40 0.02500   4.500 \n",
              "76 NA           15.8         NA              NA    8.20      NA   0.112 \n",
              "77 vu            4.4        1.0       0.9000000   19.60 0.16900 207.501 \n",
              "78 NA           15.6        2.3              NA    8.40 0.00260   0.900 \n",
              "79 NA            8.9        2.6       0.2333333   15.10 0.00250   0.104 \n",
              "80 NA            5.2         NA              NA   18.80      NA 173.330 \n",
              "81 NA            6.3        1.3              NA   17.70 0.01750   2.000 \n",
              "82 NA           12.5         NA              NA   11.50 0.04450   3.380 \n",
              "83 NA            9.8        2.4       0.3500000   14.20 0.05040   4.230 "
            ]
          },
          "metadata": {}
        }
      ]
    },
    {
      "cell_type": "code",
      "source": [
        "msleep[msleep$bodywt >= 30.0]"
      ],
      "metadata": {
        "colab": {
          "base_uri": "https://localhost:8080/",
          "height": 1000
        },
        "id": "FhEhxmGX9eF-",
        "outputId": "5a224424-b8df-4743-b89c-6d52b5ca2266"
      },
      "execution_count": 33,
      "outputs": [
        {
          "output_type": "error",
          "ename": "ERROR",
          "evalue": "ignored",
          "traceback": [
            "\u001b[1m\u001b[33mError\u001b[39m in `msleep[msleep$bodywt >= 30]`:\u001b[22m\n\u001b[33m!\u001b[39m Can't subset columns with `msleep$bodywt >= 30`.\n\u001b[31m✖\u001b[39m Logical subscript `msleep$bodywt >= 30` must be size 1 or 11, not 83.\nTraceback:\n",
            "1. msleep[msleep$bodywt >= 30]",
            "2. `[.tbl_df`(msleep, msleep$bodywt >= 30)",
            "3. vectbl_as_col_location(j, length(x), names(x), j_arg = j_arg, \n .     assign = FALSE)",
            "4. subclass_col_index_errors(vec_as_location(j, n, names, missing = \"error\", \n .     call = call), j_arg = j_arg, assign = assign)",
            "5. withCallingHandlers(expr, vctrs_error_subscript = function(cnd) {\n .     cnd$subscript_arg <- j_arg\n .     cnd$subscript_elt <- \"column\"\n .     if (isTRUE(assign) && !isTRUE(cnd$subscript_action %in% c(\"negate\"))) {\n .         cnd$subscript_action <- \"assign\"\n .     }\n .     cnd_signal(cnd)\n . })",
            "6. vec_as_location(j, n, names, missing = \"error\", call = call)",
            "7. (function () \n . stop_indicator_size(i = i, n = n, subscript_action = subscript_action, \n .     subscript_arg = subscript_arg, call = call))()",
            "8. stop_indicator_size(i = i, n = n, subscript_action = subscript_action, \n .     subscript_arg = subscript_arg, call = call)",
            "9. cnd_signal(new_error_subscript_size(i, n = n, ..., body = cnd_body_vctrs_error_indicator_size, \n .     call = call))",
            "10. signal_abort(cnd)",
            "11. signalCondition(cnd)",
            "12. (function (cnd) \n  . {\n  .     cnd$subscript_arg <- j_arg\n  .     cnd$subscript_elt <- \"column\"\n  .     if (isTRUE(assign) && !isTRUE(cnd$subscript_action %in% c(\"negate\"))) {\n  .         cnd$subscript_action <- \"assign\"\n  .     }\n  .     cnd_signal(cnd)\n  . })(structure(list(message = \"\", trace = structure(list(call = list(\n  .     IRkernel::main(), kernel$run(), handle_shell(), executor$execute(msg), \n  .     tryCatch(evaluate(request$content$code, envir = .GlobalEnv, \n  .         output_handler = oh, stop_on_error = 1L), interrupt = function(cond) {\n  .         log_debug(\"Interrupt during execution\")\n  .         interrupted <<- TRUE\n  .     }, error = .self$handle_error), tryCatchList(expr, classes, \n  .         parentenv, handlers), tryCatchOne(tryCatchList(expr, \n  .         names[-nh], parentenv, handlers[-nh]), names[nh], parentenv, \n  .         handlers[[nh]]), doTryCatch(return(expr), name, parentenv, \n  .         handler), tryCatchList(expr, names[-nh], parentenv, handlers[-nh]), \n  .     tryCatchOne(expr, names, parentenv, handlers[[1L]]), doTryCatch(return(expr), \n  .         name, parentenv, handler), evaluate(request$content$code, \n  .         envir = .GlobalEnv, output_handler = oh, stop_on_error = 1L), \n  .     evaluate_call(expr, parsed$src[[i]], envir = envir, enclos = enclos, \n  .         debug = debug, last = i == length(out), use_try = stop_on_error != \n  .             2L, keep_warning = keep_warning, keep_message = keep_message, \n  .         log_echo = log_echo, log_warning = log_warning, output_handler = output_handler, \n  .         include_timing = include_timing), timing_fn(handle(ev <- withCallingHandlers(withVisible(eval_with_user_handlers(expr, \n  .         envir, enclos, user_handlers)), warning = wHandler, error = eHandler, \n  .         message = mHandler))), handle(ev <- withCallingHandlers(withVisible(eval_with_user_handlers(expr, \n  .         envir, enclos, user_handlers)), warning = wHandler, error = eHandler, \n  .         message = mHandler)), try(f, silent = TRUE), tryCatch(expr, \n  .         error = function(e) {\n  .             call <- conditionCall(e)\n  .             if (!is.null(call)) {\n  .                 if (identical(call[[1L]], quote(doTryCatch))) \n  .                   call <- sys.call(-4L)\n  .                 dcall <- deparse(call, nlines = 1L)\n  .                 prefix <- paste(\"Error in\", dcall, \": \")\n  .                 LONG <- 75L\n  .                 sm <- strsplit(conditionMessage(e), \"\\n\")[[1L]]\n  .                 w <- 14L + nchar(dcall, type = \"w\") + nchar(sm[1L], \n  .                   type = \"w\")\n  .                 if (is.na(w)) \n  .                   w <- 14L + nchar(dcall, type = \"b\") + nchar(sm[1L], \n  .                     type = \"b\")\n  .                 if (w > LONG) \n  .                   prefix <- paste0(prefix, \"\\n  \")\n  .             }\n  .             else prefix <- \"Error : \"\n  .             msg <- paste0(prefix, conditionMessage(e), \"\\n\")\n  .             .Internal(seterrmessage(msg[1L]))\n  .             if (!silent && isTRUE(getOption(\"show.error.messages\"))) {\n  .                 cat(msg, file = outFile)\n  .                 .Internal(printDeferredWarnings())\n  .             }\n  .             invisible(structure(msg, class = \"try-error\", condition = e))\n  .         }), tryCatchList(expr, classes, parentenv, handlers), \n  .     tryCatchOne(expr, names, parentenv, handlers[[1L]]), doTryCatch(return(expr), \n  .         name, parentenv, handler), withCallingHandlers(withVisible(eval_with_user_handlers(expr, \n  .         envir, enclos, user_handlers)), warning = wHandler, error = eHandler, \n  .         message = mHandler), withVisible(eval_with_user_handlers(expr, \n  .         envir, enclos, user_handlers)), eval_with_user_handlers(expr, \n  .         envir, enclos, user_handlers), eval(expr, envir, enclos), \n  .     eval(expr, envir, enclos), msleep[msleep$bodywt >= 30], `[.tbl_df`(msleep, \n  .         msleep$bodywt >= 30), vectbl_as_col_location(j, length(x), \n  .         names(x), j_arg = j_arg, assign = FALSE), subclass_col_index_errors(vec_as_location(j, \n  .         n, names, missing = \"error\", call = call), j_arg = j_arg, \n  .         assign = assign), withCallingHandlers(expr, vctrs_error_subscript = function(cnd) {\n  .         cnd$subscript_arg <- j_arg\n  .         cnd$subscript_elt <- \"column\"\n  .         if (isTRUE(assign) && !isTRUE(cnd$subscript_action %in% \n  .             c(\"negate\"))) {\n  .             cnd$subscript_action <- \"assign\"\n  .         }\n  .         cnd_signal(cnd)\n  .     }), vec_as_location(j, n, names, missing = \"error\", call = call), \n  .     `<fn>`(), stop_indicator_size(i = i, n = n, subscript_action = subscript_action, \n  .         subscript_arg = subscript_arg, call = call), cnd_signal(new_error_subscript_size(i, \n  .         n = n, ..., body = cnd_body_vctrs_error_indicator_size, \n  .         call = call))), parent = c(0L, 1L, 2L, 3L, 4L, 5L, 6L, \n  . 7L, 6L, 9L, 10L, 4L, 12L, 13L, 13L, 15L, 16L, 17L, 18L, 19L, \n  . 13L, 13L, 13L, 23L, 24L, 0L, 0L, 27L, 28L, 29L, 28L, 0L, 32L, \n  . 33L), visible = c(TRUE, TRUE, TRUE, TRUE, TRUE, TRUE, TRUE, TRUE, \n  . TRUE, TRUE, TRUE, TRUE, TRUE, TRUE, TRUE, TRUE, TRUE, TRUE, TRUE, \n  . TRUE, TRUE, TRUE, TRUE, TRUE, TRUE, TRUE, TRUE, TRUE, TRUE, TRUE, \n  . TRUE, TRUE, TRUE, FALSE), namespace = c(\"IRkernel\", NA, \"IRkernel\", \n  . NA, \"base\", \"base\", \"base\", \"base\", \"base\", \"base\", \"base\", \"evaluate\", \n  . \"evaluate\", \"evaluate\", \"evaluate\", \"base\", \"base\", \"base\", \"base\", \n  . \"base\", \"base\", \"base\", \"evaluate\", \"base\", \"base\", NA, \"tibble\", \n  . \"tibble\", \"tibble\", \"base\", \"vctrs\", \"vctrs\", \"vctrs\", \"rlang\"\n  . ), scope = c(\"::\", NA, \"local\", NA, \"::\", \"local\", \"local\", \"local\", \n  . \"local\", \"local\", \"local\", \"::\", \":::\", \"local\", \"local\", \"::\", \n  . \"::\", \"local\", \"local\", \"local\", \"::\", \"::\", \":::\", \"::\", \"::\", \n  . NA, \":::\", \":::\", \":::\", \"::\", \"::\", \"local\", \":::\", \"::\")), row.names = c(NA, \n  . -34L), version = 2L, class = c(\"rlang_trace\", \"rlib_trace\", \"tbl\", \n  . \"data.frame\")), parent = NULL, i = c(TRUE, FALSE, FALSE, FALSE, \n  . TRUE, FALSE, FALSE, FALSE, FALSE, FALSE, TRUE, FALSE, FALSE, \n  . FALSE, FALSE, FALSE, FALSE, FALSE, FALSE, FALSE, TRUE, FALSE, \n  . TRUE, TRUE, FALSE, FALSE, FALSE, FALSE, FALSE, TRUE, TRUE, TRUE, \n  . FALSE, TRUE, FALSE, TRUE, FALSE, FALSE, FALSE, FALSE, FALSE, \n  . FALSE, FALSE, FALSE, FALSE, FALSE, FALSE, FALSE, TRUE, TRUE, \n  . TRUE, TRUE, TRUE, FALSE, FALSE, FALSE, FALSE, FALSE, TRUE, TRUE, \n  . FALSE, TRUE, FALSE, FALSE, FALSE, FALSE, FALSE, FALSE, FALSE, \n  . FALSE, FALSE, FALSE, FALSE, TRUE, FALSE, FALSE, TRUE, FALSE, \n  . FALSE, TRUE, FALSE, FALSE, FALSE), n = 11L, subscript_action = NULL, \n  .     subscript_arg = \"j\", body = function (cnd, ...) \n  .     {\n  .         cnd$subscript_arg <- append_arg(\"Logical subscript\", \n  .             cnd$subscript_arg)\n  .         glue_data_bullets(cnd, x = \"{subscript_arg} must be size 1 or {n}, not {vec_size(i)}.\")\n  .     }, call = msleep[msleep$bodywt >= 30]), class = c(\"vctrs_error_subscript_size\", \n  . \"vctrs_error_subscript\", \"rlang_error\", \"error\", \"condition\")))",
            "13. cnd_signal(cnd)",
            "14. signal_abort(cnd)"
          ]
        }
      ]
    },
    {
      "cell_type": "code",
      "source": [
        "msleep_by_order <- msleep[order(msleep$order),]\n",
        "msleep_by_order"
      ],
      "metadata": {
        "colab": {
          "base_uri": "https://localhost:8080/",
          "height": 1000
        },
        "id": "-ZQNI0vt-228",
        "outputId": "5c0d9366-bc5f-407b-c60a-0afbfc32210c"
      },
      "execution_count": 34,
      "outputs": [
        {
          "output_type": "display_data",
          "data": {
            "text/html": [
              "<table class=\"dataframe\">\n",
              "<caption>A tibble: 83 × 11</caption>\n",
              "<thead>\n",
              "\t<tr><th scope=col>name</th><th scope=col>genus</th><th scope=col>vore</th><th scope=col>order</th><th scope=col>conservation</th><th scope=col>sleep_total</th><th scope=col>sleep_rem</th><th scope=col>sleep_cycle</th><th scope=col>awake</th><th scope=col>brainwt</th><th scope=col>bodywt</th></tr>\n",
              "\t<tr><th scope=col>&lt;chr&gt;</th><th scope=col>&lt;chr&gt;</th><th scope=col>&lt;chr&gt;</th><th scope=col>&lt;chr&gt;</th><th scope=col>&lt;chr&gt;</th><th scope=col>&lt;dbl&gt;</th><th scope=col>&lt;dbl&gt;</th><th scope=col>&lt;dbl&gt;</th><th scope=col>&lt;dbl&gt;</th><th scope=col>&lt;dbl&gt;</th><th scope=col>&lt;dbl&gt;</th></tr>\n",
              "</thead>\n",
              "<tbody>\n",
              "\t<tr><td>Tenrec                </td><td>Tenrec       </td><td>omni   </td><td>Afrosoricida   </td><td>NA          </td><td>15.6</td><td>2.3</td><td>       NA</td><td> 8.40</td><td>0.00260</td><td>  0.900</td></tr>\n",
              "\t<tr><td>Cow                   </td><td>Bos          </td><td>herbi  </td><td>Artiodactyla   </td><td>domesticated</td><td> 4.0</td><td>0.7</td><td>0.6666667</td><td>20.00</td><td>0.42300</td><td>600.000</td></tr>\n",
              "\t<tr><td>Roe deer              </td><td>Capreolus    </td><td>herbi  </td><td>Artiodactyla   </td><td>lc          </td><td> 3.0</td><td> NA</td><td>       NA</td><td>21.00</td><td>0.09820</td><td> 14.800</td></tr>\n",
              "\t<tr><td>Goat                  </td><td>Capri        </td><td>herbi  </td><td>Artiodactyla   </td><td>lc          </td><td> 5.3</td><td>0.6</td><td>       NA</td><td>18.70</td><td>0.11500</td><td> 33.500</td></tr>\n",
              "\t<tr><td>Giraffe               </td><td>Giraffa      </td><td>herbi  </td><td>Artiodactyla   </td><td>cd          </td><td> 1.9</td><td>0.4</td><td>       NA</td><td>22.10</td><td>     NA</td><td>899.995</td></tr>\n",
              "\t<tr><td>Sheep                 </td><td>Ovis         </td><td>herbi  </td><td>Artiodactyla   </td><td>domesticated</td><td> 3.8</td><td>0.6</td><td>       NA</td><td>20.20</td><td>0.17500</td><td> 55.500</td></tr>\n",
              "\t<tr><td>Pig                   </td><td>Sus          </td><td>omni   </td><td>Artiodactyla   </td><td>domesticated</td><td> 9.1</td><td>2.4</td><td>0.5000000</td><td>14.90</td><td>0.18000</td><td> 86.250</td></tr>\n",
              "\t<tr><td>Cheetah               </td><td>Acinonyx     </td><td>carni  </td><td>Carnivora      </td><td>lc          </td><td>12.1</td><td> NA</td><td>       NA</td><td>11.90</td><td>     NA</td><td> 50.000</td></tr>\n",
              "\t<tr><td>Northern fur seal     </td><td>Callorhinus  </td><td>carni  </td><td>Carnivora      </td><td>vu          </td><td> 8.7</td><td>1.4</td><td>0.3833333</td><td>15.30</td><td>     NA</td><td> 20.490</td></tr>\n",
              "\t<tr><td>Dog                   </td><td>Canis        </td><td>carni  </td><td>Carnivora      </td><td>domesticated</td><td>10.1</td><td>2.9</td><td>0.3333333</td><td>13.90</td><td>0.07000</td><td> 14.000</td></tr>\n",
              "\t<tr><td>Domestic cat          </td><td>Felis        </td><td>carni  </td><td>Carnivora      </td><td>domesticated</td><td>12.5</td><td>3.2</td><td>0.4166667</td><td>11.50</td><td>0.02560</td><td>  3.300</td></tr>\n",
              "\t<tr><td>Gray seal             </td><td>Haliochoerus </td><td>carni  </td><td>Carnivora      </td><td>lc          </td><td> 6.2</td><td>1.5</td><td>       NA</td><td>17.80</td><td>0.32500</td><td> 85.000</td></tr>\n",
              "\t<tr><td>Tiger                 </td><td>Panthera     </td><td>carni  </td><td>Carnivora      </td><td>en          </td><td>15.8</td><td> NA</td><td>       NA</td><td> 8.20</td><td>     NA</td><td>162.564</td></tr>\n",
              "\t<tr><td>Jaguar                </td><td>Panthera     </td><td>carni  </td><td>Carnivora      </td><td>nt          </td><td>10.4</td><td> NA</td><td>       NA</td><td>13.60</td><td>0.15700</td><td>100.000</td></tr>\n",
              "\t<tr><td>Lion                  </td><td>Panthera     </td><td>carni  </td><td>Carnivora      </td><td>vu          </td><td>13.5</td><td> NA</td><td>       NA</td><td>10.50</td><td>     NA</td><td>161.499</td></tr>\n",
              "\t<tr><td>Caspian seal          </td><td>Phoca        </td><td>carni  </td><td>Carnivora      </td><td>vu          </td><td> 3.5</td><td>0.4</td><td>       NA</td><td>20.50</td><td>     NA</td><td> 86.000</td></tr>\n",
              "\t<tr><td>Genet                 </td><td>Genetta      </td><td>carni  </td><td>Carnivora      </td><td>NA          </td><td> 6.3</td><td>1.3</td><td>       NA</td><td>17.70</td><td>0.01750</td><td>  2.000</td></tr>\n",
              "\t<tr><td>Arctic fox            </td><td>Vulpes       </td><td>carni  </td><td>Carnivora      </td><td>NA          </td><td>12.5</td><td> NA</td><td>       NA</td><td>11.50</td><td>0.04450</td><td>  3.380</td></tr>\n",
              "\t<tr><td>Red fox               </td><td>Vulpes       </td><td>carni  </td><td>Carnivora      </td><td>NA          </td><td> 9.8</td><td>2.4</td><td>0.3500000</td><td>14.20</td><td>0.05040</td><td>  4.230</td></tr>\n",
              "\t<tr><td>Pilot whale           </td><td>Globicephalus</td><td>carni  </td><td>Cetacea        </td><td>cd          </td><td> 2.7</td><td>0.1</td><td>       NA</td><td>21.35</td><td>     NA</td><td>800.000</td></tr>\n",
              "\t<tr><td>Common porpoise       </td><td>Phocoena     </td><td>carni  </td><td>Cetacea        </td><td>vu          </td><td> 5.6</td><td> NA</td><td>       NA</td><td>18.45</td><td>     NA</td><td> 53.180</td></tr>\n",
              "\t<tr><td>Bottle-nosed dolphin  </td><td>Tursiops     </td><td>carni  </td><td>Cetacea        </td><td>NA          </td><td> 5.2</td><td> NA</td><td>       NA</td><td>18.80</td><td>     NA</td><td>173.330</td></tr>\n",
              "\t<tr><td>Big brown bat         </td><td>Eptesicus    </td><td>insecti</td><td>Chiroptera     </td><td>lc          </td><td>19.7</td><td>3.9</td><td>0.1166667</td><td> 4.30</td><td>0.00030</td><td>  0.023</td></tr>\n",
              "\t<tr><td>Little brown bat      </td><td>Myotis       </td><td>insecti</td><td>Chiroptera     </td><td>NA          </td><td>19.9</td><td>2.0</td><td>0.2000000</td><td> 4.10</td><td>0.00025</td><td>  0.010</td></tr>\n",
              "\t<tr><td>Long-nosed armadillo  </td><td>Dasypus      </td><td>carni  </td><td>Cingulata      </td><td>lc          </td><td>17.4</td><td>3.1</td><td>0.3833333</td><td> 6.60</td><td>0.01080</td><td>  3.500</td></tr>\n",
              "\t<tr><td>Giant armadillo       </td><td>Priodontes   </td><td>insecti</td><td>Cingulata      </td><td>en          </td><td>18.1</td><td>6.1</td><td>       NA</td><td> 5.90</td><td>0.08100</td><td> 60.000</td></tr>\n",
              "\t<tr><td>North American Opossum</td><td>Didelphis    </td><td>omni   </td><td>Didelphimorphia</td><td>lc          </td><td>18.0</td><td>4.9</td><td>0.3333333</td><td> 6.00</td><td>0.00630</td><td>  1.700</td></tr>\n",
              "\t<tr><td>Thick-tailed opposum  </td><td>Lutreolina   </td><td>carni  </td><td>Didelphimorphia</td><td>lc          </td><td>19.4</td><td>6.6</td><td>       NA</td><td> 4.60</td><td>     NA</td><td>  0.370</td></tr>\n",
              "\t<tr><td>Phalanger             </td><td>Phalanger    </td><td>NA     </td><td>Diprotodontia  </td><td>NA          </td><td>13.7</td><td>1.8</td><td>       NA</td><td>10.30</td><td>0.01140</td><td>  1.620</td></tr>\n",
              "\t<tr><td>Potoroo               </td><td>Potorous     </td><td>herbi  </td><td>Diprotodontia  </td><td>NA          </td><td>11.1</td><td>1.5</td><td>       NA</td><td>12.90</td><td>     NA</td><td>  1.100</td></tr>\n",
              "\t<tr><td>⋮</td><td>⋮</td><td>⋮</td><td>⋮</td><td>⋮</td><td>⋮</td><td>⋮</td><td>⋮</td><td>⋮</td><td>⋮</td><td>⋮</td></tr>\n",
              "\t<tr><td>Asian elephant                </td><td>Elephas     </td><td>herbi  </td><td>Proboscidea </td><td>en          </td><td> 3.9</td><td> NA</td><td>       NA</td><td>20.1</td><td>4.60300</td><td>2547.000</td></tr>\n",
              "\t<tr><td>African elephant              </td><td>Loxodonta   </td><td>herbi  </td><td>Proboscidea </td><td>vu          </td><td> 3.3</td><td> NA</td><td>       NA</td><td>20.7</td><td>5.71200</td><td>6654.000</td></tr>\n",
              "\t<tr><td>Mountain beaver               </td><td>Aplodontia  </td><td>herbi  </td><td>Rodentia    </td><td>nt          </td><td>14.4</td><td>2.4</td><td>       NA</td><td> 9.6</td><td>     NA</td><td>   1.350</td></tr>\n",
              "\t<tr><td>Vesper mouse                  </td><td>Calomys     </td><td>NA     </td><td>Rodentia    </td><td>NA          </td><td> 7.0</td><td> NA</td><td>       NA</td><td>17.0</td><td>     NA</td><td>   0.045</td></tr>\n",
              "\t<tr><td>Guinea pig                    </td><td>Cavis       </td><td>herbi  </td><td>Rodentia    </td><td>domesticated</td><td> 9.4</td><td>0.8</td><td>0.2166667</td><td>14.6</td><td>0.00550</td><td>   0.728</td></tr>\n",
              "\t<tr><td>Chinchilla                    </td><td>Chinchilla  </td><td>herbi  </td><td>Rodentia    </td><td>domesticated</td><td>12.5</td><td>1.5</td><td>0.1166667</td><td>11.5</td><td>0.00640</td><td>   0.420</td></tr>\n",
              "\t<tr><td>African giant pouched rat     </td><td>Cricetomys  </td><td>omni   </td><td>Rodentia    </td><td>NA          </td><td> 8.3</td><td>2.0</td><td>       NA</td><td>15.7</td><td>0.00660</td><td>   1.000</td></tr>\n",
              "\t<tr><td>Western american chipmunk     </td><td>Eutamias    </td><td>herbi  </td><td>Rodentia    </td><td>NA          </td><td>14.9</td><td> NA</td><td>       NA</td><td> 9.1</td><td>     NA</td><td>   0.071</td></tr>\n",
              "\t<tr><td>Mongolian gerbil              </td><td>Meriones    </td><td>herbi  </td><td>Rodentia    </td><td>lc          </td><td>14.2</td><td>1.9</td><td>       NA</td><td> 9.8</td><td>     NA</td><td>   0.053</td></tr>\n",
              "\t<tr><td>Golden hamster                </td><td>Mesocricetus</td><td>herbi  </td><td>Rodentia    </td><td>en          </td><td>14.3</td><td>3.1</td><td>0.2000000</td><td> 9.7</td><td>0.00100</td><td>   0.120</td></tr>\n",
              "\t<tr><td>Vole                          </td><td>Microtus    </td><td>herbi  </td><td>Rodentia    </td><td>NA          </td><td>12.8</td><td> NA</td><td>       NA</td><td>11.2</td><td>     NA</td><td>   0.035</td></tr>\n",
              "\t<tr><td>House mouse                   </td><td>Mus         </td><td>herbi  </td><td>Rodentia    </td><td>nt          </td><td>12.5</td><td>1.4</td><td>0.1833333</td><td>11.5</td><td>0.00040</td><td>   0.022</td></tr>\n",
              "\t<tr><td>Round-tailed muskrat          </td><td>Neofiber    </td><td>herbi  </td><td>Rodentia    </td><td>nt          </td><td>14.6</td><td> NA</td><td>       NA</td><td> 9.4</td><td>     NA</td><td>   0.266</td></tr>\n",
              "\t<tr><td>Degu                          </td><td>Octodon     </td><td>herbi  </td><td>Rodentia    </td><td>lc          </td><td> 7.7</td><td>0.9</td><td>       NA</td><td>16.3</td><td>     NA</td><td>   0.210</td></tr>\n",
              "\t<tr><td>Northern grasshopper mouse    </td><td>Onychomys   </td><td>carni  </td><td>Rodentia    </td><td>lc          </td><td>14.5</td><td> NA</td><td>       NA</td><td> 9.5</td><td>     NA</td><td>   0.028</td></tr>\n",
              "\t<tr><td>Deer mouse                    </td><td>Peromyscus  </td><td>NA     </td><td>Rodentia    </td><td>NA          </td><td>11.5</td><td> NA</td><td>       NA</td><td>12.5</td><td>     NA</td><td>   0.021</td></tr>\n",
              "\t<tr><td>Laboratory rat                </td><td>Rattus      </td><td>herbi  </td><td>Rodentia    </td><td>lc          </td><td>13.0</td><td>2.4</td><td>0.1833333</td><td>11.0</td><td>0.00190</td><td>   0.320</td></tr>\n",
              "\t<tr><td>African striped mouse         </td><td>Rhabdomys   </td><td>omni   </td><td>Rodentia    </td><td>NA          </td><td> 8.7</td><td> NA</td><td>       NA</td><td>15.3</td><td>     NA</td><td>   0.044</td></tr>\n",
              "\t<tr><td>Cotton rat                    </td><td>Sigmodon    </td><td>herbi  </td><td>Rodentia    </td><td>NA          </td><td>11.3</td><td>1.1</td><td>0.1500000</td><td>12.7</td><td>0.00118</td><td>   0.148</td></tr>\n",
              "\t<tr><td>Mole rat                      </td><td>Spalax      </td><td>NA     </td><td>Rodentia    </td><td>NA          </td><td>10.6</td><td>2.4</td><td>       NA</td><td>13.4</td><td>0.00300</td><td>   0.122</td></tr>\n",
              "\t<tr><td>Arctic ground squirrel        </td><td>Spermophilus</td><td>herbi  </td><td>Rodentia    </td><td>lc          </td><td>16.6</td><td> NA</td><td>       NA</td><td> 7.4</td><td>0.00570</td><td>   0.920</td></tr>\n",
              "\t<tr><td>Thirteen-lined ground squirrel</td><td>Spermophilus</td><td>herbi  </td><td>Rodentia    </td><td>lc          </td><td>13.8</td><td>3.4</td><td>0.2166667</td><td>10.2</td><td>0.00400</td><td>   0.101</td></tr>\n",
              "\t<tr><td>Golden-mantled ground squirrel</td><td>Spermophilus</td><td>herbi  </td><td>Rodentia    </td><td>lc          </td><td>15.9</td><td>3.0</td><td>       NA</td><td> 8.1</td><td>     NA</td><td>   0.205</td></tr>\n",
              "\t<tr><td>Eastern american chipmunk     </td><td>Tamias      </td><td>herbi  </td><td>Rodentia    </td><td>NA          </td><td>15.8</td><td> NA</td><td>       NA</td><td> 8.2</td><td>     NA</td><td>   0.112</td></tr>\n",
              "\t<tr><td>Tree shrew                    </td><td>Tupaia      </td><td>omni   </td><td>Scandentia  </td><td>NA          </td><td> 8.9</td><td>2.6</td><td>0.2333333</td><td>15.1</td><td>0.00250</td><td>   0.104</td></tr>\n",
              "\t<tr><td>Greater short-tailed shrew    </td><td>Blarina     </td><td>omni   </td><td>Soricomorpha</td><td>lc          </td><td>14.9</td><td>2.3</td><td>0.1333333</td><td> 9.1</td><td>0.00029</td><td>   0.019</td></tr>\n",
              "\t<tr><td>Star-nosed mole               </td><td>Condylura   </td><td>omni   </td><td>Soricomorpha</td><td>lc          </td><td>10.3</td><td>2.2</td><td>       NA</td><td>13.7</td><td>0.00100</td><td>   0.060</td></tr>\n",
              "\t<tr><td>Lesser short-tailed shrew     </td><td>Cryptotis   </td><td>omni   </td><td>Soricomorpha</td><td>lc          </td><td> 9.1</td><td>1.4</td><td>0.1500000</td><td>14.9</td><td>0.00014</td><td>   0.005</td></tr>\n",
              "\t<tr><td>Eastern american mole         </td><td>Scalopus    </td><td>insecti</td><td>Soricomorpha</td><td>lc          </td><td> 8.4</td><td>2.1</td><td>0.1666667</td><td>15.6</td><td>0.00120</td><td>   0.075</td></tr>\n",
              "\t<tr><td>Musk shrew                    </td><td>Suncus      </td><td>NA     </td><td>Soricomorpha</td><td>NA          </td><td>12.8</td><td>2.0</td><td>0.1833333</td><td>11.2</td><td>0.00033</td><td>   0.048</td></tr>\n",
              "</tbody>\n",
              "</table>\n"
            ],
            "text/markdown": "\nA tibble: 83 × 11\n\n| name &lt;chr&gt; | genus &lt;chr&gt; | vore &lt;chr&gt; | order &lt;chr&gt; | conservation &lt;chr&gt; | sleep_total &lt;dbl&gt; | sleep_rem &lt;dbl&gt; | sleep_cycle &lt;dbl&gt; | awake &lt;dbl&gt; | brainwt &lt;dbl&gt; | bodywt &lt;dbl&gt; |\n|---|---|---|---|---|---|---|---|---|---|---|\n| Tenrec                 | Tenrec        | omni    | Afrosoricida    | NA           | 15.6 | 2.3 |        NA |  8.40 | 0.00260 |   0.900 |\n| Cow                    | Bos           | herbi   | Artiodactyla    | domesticated |  4.0 | 0.7 | 0.6666667 | 20.00 | 0.42300 | 600.000 |\n| Roe deer               | Capreolus     | herbi   | Artiodactyla    | lc           |  3.0 |  NA |        NA | 21.00 | 0.09820 |  14.800 |\n| Goat                   | Capri         | herbi   | Artiodactyla    | lc           |  5.3 | 0.6 |        NA | 18.70 | 0.11500 |  33.500 |\n| Giraffe                | Giraffa       | herbi   | Artiodactyla    | cd           |  1.9 | 0.4 |        NA | 22.10 |      NA | 899.995 |\n| Sheep                  | Ovis          | herbi   | Artiodactyla    | domesticated |  3.8 | 0.6 |        NA | 20.20 | 0.17500 |  55.500 |\n| Pig                    | Sus           | omni    | Artiodactyla    | domesticated |  9.1 | 2.4 | 0.5000000 | 14.90 | 0.18000 |  86.250 |\n| Cheetah                | Acinonyx      | carni   | Carnivora       | lc           | 12.1 |  NA |        NA | 11.90 |      NA |  50.000 |\n| Northern fur seal      | Callorhinus   | carni   | Carnivora       | vu           |  8.7 | 1.4 | 0.3833333 | 15.30 |      NA |  20.490 |\n| Dog                    | Canis         | carni   | Carnivora       | domesticated | 10.1 | 2.9 | 0.3333333 | 13.90 | 0.07000 |  14.000 |\n| Domestic cat           | Felis         | carni   | Carnivora       | domesticated | 12.5 | 3.2 | 0.4166667 | 11.50 | 0.02560 |   3.300 |\n| Gray seal              | Haliochoerus  | carni   | Carnivora       | lc           |  6.2 | 1.5 |        NA | 17.80 | 0.32500 |  85.000 |\n| Tiger                  | Panthera      | carni   | Carnivora       | en           | 15.8 |  NA |        NA |  8.20 |      NA | 162.564 |\n| Jaguar                 | Panthera      | carni   | Carnivora       | nt           | 10.4 |  NA |        NA | 13.60 | 0.15700 | 100.000 |\n| Lion                   | Panthera      | carni   | Carnivora       | vu           | 13.5 |  NA |        NA | 10.50 |      NA | 161.499 |\n| Caspian seal           | Phoca         | carni   | Carnivora       | vu           |  3.5 | 0.4 |        NA | 20.50 |      NA |  86.000 |\n| Genet                  | Genetta       | carni   | Carnivora       | NA           |  6.3 | 1.3 |        NA | 17.70 | 0.01750 |   2.000 |\n| Arctic fox             | Vulpes        | carni   | Carnivora       | NA           | 12.5 |  NA |        NA | 11.50 | 0.04450 |   3.380 |\n| Red fox                | Vulpes        | carni   | Carnivora       | NA           |  9.8 | 2.4 | 0.3500000 | 14.20 | 0.05040 |   4.230 |\n| Pilot whale            | Globicephalus | carni   | Cetacea         | cd           |  2.7 | 0.1 |        NA | 21.35 |      NA | 800.000 |\n| Common porpoise        | Phocoena      | carni   | Cetacea         | vu           |  5.6 |  NA |        NA | 18.45 |      NA |  53.180 |\n| Bottle-nosed dolphin   | Tursiops      | carni   | Cetacea         | NA           |  5.2 |  NA |        NA | 18.80 |      NA | 173.330 |\n| Big brown bat          | Eptesicus     | insecti | Chiroptera      | lc           | 19.7 | 3.9 | 0.1166667 |  4.30 | 0.00030 |   0.023 |\n| Little brown bat       | Myotis        | insecti | Chiroptera      | NA           | 19.9 | 2.0 | 0.2000000 |  4.10 | 0.00025 |   0.010 |\n| Long-nosed armadillo   | Dasypus       | carni   | Cingulata       | lc           | 17.4 | 3.1 | 0.3833333 |  6.60 | 0.01080 |   3.500 |\n| Giant armadillo        | Priodontes    | insecti | Cingulata       | en           | 18.1 | 6.1 |        NA |  5.90 | 0.08100 |  60.000 |\n| North American Opossum | Didelphis     | omni    | Didelphimorphia | lc           | 18.0 | 4.9 | 0.3333333 |  6.00 | 0.00630 |   1.700 |\n| Thick-tailed opposum   | Lutreolina    | carni   | Didelphimorphia | lc           | 19.4 | 6.6 |        NA |  4.60 |      NA |   0.370 |\n| Phalanger              | Phalanger     | NA      | Diprotodontia   | NA           | 13.7 | 1.8 |        NA | 10.30 | 0.01140 |   1.620 |\n| Potoroo                | Potorous      | herbi   | Diprotodontia   | NA           | 11.1 | 1.5 |        NA | 12.90 |      NA |   1.100 |\n| ⋮ | ⋮ | ⋮ | ⋮ | ⋮ | ⋮ | ⋮ | ⋮ | ⋮ | ⋮ | ⋮ |\n| Asian elephant                 | Elephas      | herbi   | Proboscidea  | en           |  3.9 |  NA |        NA | 20.1 | 4.60300 | 2547.000 |\n| African elephant               | Loxodonta    | herbi   | Proboscidea  | vu           |  3.3 |  NA |        NA | 20.7 | 5.71200 | 6654.000 |\n| Mountain beaver                | Aplodontia   | herbi   | Rodentia     | nt           | 14.4 | 2.4 |        NA |  9.6 |      NA |    1.350 |\n| Vesper mouse                   | Calomys      | NA      | Rodentia     | NA           |  7.0 |  NA |        NA | 17.0 |      NA |    0.045 |\n| Guinea pig                     | Cavis        | herbi   | Rodentia     | domesticated |  9.4 | 0.8 | 0.2166667 | 14.6 | 0.00550 |    0.728 |\n| Chinchilla                     | Chinchilla   | herbi   | Rodentia     | domesticated | 12.5 | 1.5 | 0.1166667 | 11.5 | 0.00640 |    0.420 |\n| African giant pouched rat      | Cricetomys   | omni    | Rodentia     | NA           |  8.3 | 2.0 |        NA | 15.7 | 0.00660 |    1.000 |\n| Western american chipmunk      | Eutamias     | herbi   | Rodentia     | NA           | 14.9 |  NA |        NA |  9.1 |      NA |    0.071 |\n| Mongolian gerbil               | Meriones     | herbi   | Rodentia     | lc           | 14.2 | 1.9 |        NA |  9.8 |      NA |    0.053 |\n| Golden hamster                 | Mesocricetus | herbi   | Rodentia     | en           | 14.3 | 3.1 | 0.2000000 |  9.7 | 0.00100 |    0.120 |\n| Vole                           | Microtus     | herbi   | Rodentia     | NA           | 12.8 |  NA |        NA | 11.2 |      NA |    0.035 |\n| House mouse                    | Mus          | herbi   | Rodentia     | nt           | 12.5 | 1.4 | 0.1833333 | 11.5 | 0.00040 |    0.022 |\n| Round-tailed muskrat           | Neofiber     | herbi   | Rodentia     | nt           | 14.6 |  NA |        NA |  9.4 |      NA |    0.266 |\n| Degu                           | Octodon      | herbi   | Rodentia     | lc           |  7.7 | 0.9 |        NA | 16.3 |      NA |    0.210 |\n| Northern grasshopper mouse     | Onychomys    | carni   | Rodentia     | lc           | 14.5 |  NA |        NA |  9.5 |      NA |    0.028 |\n| Deer mouse                     | Peromyscus   | NA      | Rodentia     | NA           | 11.5 |  NA |        NA | 12.5 |      NA |    0.021 |\n| Laboratory rat                 | Rattus       | herbi   | Rodentia     | lc           | 13.0 | 2.4 | 0.1833333 | 11.0 | 0.00190 |    0.320 |\n| African striped mouse          | Rhabdomys    | omni    | Rodentia     | NA           |  8.7 |  NA |        NA | 15.3 |      NA |    0.044 |\n| Cotton rat                     | Sigmodon     | herbi   | Rodentia     | NA           | 11.3 | 1.1 | 0.1500000 | 12.7 | 0.00118 |    0.148 |\n| Mole rat                       | Spalax       | NA      | Rodentia     | NA           | 10.6 | 2.4 |        NA | 13.4 | 0.00300 |    0.122 |\n| Arctic ground squirrel         | Spermophilus | herbi   | Rodentia     | lc           | 16.6 |  NA |        NA |  7.4 | 0.00570 |    0.920 |\n| Thirteen-lined ground squirrel | Spermophilus | herbi   | Rodentia     | lc           | 13.8 | 3.4 | 0.2166667 | 10.2 | 0.00400 |    0.101 |\n| Golden-mantled ground squirrel | Spermophilus | herbi   | Rodentia     | lc           | 15.9 | 3.0 |        NA |  8.1 |      NA |    0.205 |\n| Eastern american chipmunk      | Tamias       | herbi   | Rodentia     | NA           | 15.8 |  NA |        NA |  8.2 |      NA |    0.112 |\n| Tree shrew                     | Tupaia       | omni    | Scandentia   | NA           |  8.9 | 2.6 | 0.2333333 | 15.1 | 0.00250 |    0.104 |\n| Greater short-tailed shrew     | Blarina      | omni    | Soricomorpha | lc           | 14.9 | 2.3 | 0.1333333 |  9.1 | 0.00029 |    0.019 |\n| Star-nosed mole                | Condylura    | omni    | Soricomorpha | lc           | 10.3 | 2.2 |        NA | 13.7 | 0.00100 |    0.060 |\n| Lesser short-tailed shrew      | Cryptotis    | omni    | Soricomorpha | lc           |  9.1 | 1.4 | 0.1500000 | 14.9 | 0.00014 |    0.005 |\n| Eastern american mole          | Scalopus     | insecti | Soricomorpha | lc           |  8.4 | 2.1 | 0.1666667 | 15.6 | 0.00120 |    0.075 |\n| Musk shrew                     | Suncus       | NA      | Soricomorpha | NA           | 12.8 | 2.0 | 0.1833333 | 11.2 | 0.00033 |    0.048 |\n\n",
            "text/latex": "A tibble: 83 × 11\n\\begin{tabular}{lllllllllll}\n name & genus & vore & order & conservation & sleep\\_total & sleep\\_rem & sleep\\_cycle & awake & brainwt & bodywt\\\\\n <chr> & <chr> & <chr> & <chr> & <chr> & <dbl> & <dbl> & <dbl> & <dbl> & <dbl> & <dbl>\\\\\n\\hline\n\t Tenrec                 & Tenrec        & omni    & Afrosoricida    & NA           & 15.6 & 2.3 &        NA &  8.40 & 0.00260 &   0.900\\\\\n\t Cow                    & Bos           & herbi   & Artiodactyla    & domesticated &  4.0 & 0.7 & 0.6666667 & 20.00 & 0.42300 & 600.000\\\\\n\t Roe deer               & Capreolus     & herbi   & Artiodactyla    & lc           &  3.0 &  NA &        NA & 21.00 & 0.09820 &  14.800\\\\\n\t Goat                   & Capri         & herbi   & Artiodactyla    & lc           &  5.3 & 0.6 &        NA & 18.70 & 0.11500 &  33.500\\\\\n\t Giraffe                & Giraffa       & herbi   & Artiodactyla    & cd           &  1.9 & 0.4 &        NA & 22.10 &      NA & 899.995\\\\\n\t Sheep                  & Ovis          & herbi   & Artiodactyla    & domesticated &  3.8 & 0.6 &        NA & 20.20 & 0.17500 &  55.500\\\\\n\t Pig                    & Sus           & omni    & Artiodactyla    & domesticated &  9.1 & 2.4 & 0.5000000 & 14.90 & 0.18000 &  86.250\\\\\n\t Cheetah                & Acinonyx      & carni   & Carnivora       & lc           & 12.1 &  NA &        NA & 11.90 &      NA &  50.000\\\\\n\t Northern fur seal      & Callorhinus   & carni   & Carnivora       & vu           &  8.7 & 1.4 & 0.3833333 & 15.30 &      NA &  20.490\\\\\n\t Dog                    & Canis         & carni   & Carnivora       & domesticated & 10.1 & 2.9 & 0.3333333 & 13.90 & 0.07000 &  14.000\\\\\n\t Domestic cat           & Felis         & carni   & Carnivora       & domesticated & 12.5 & 3.2 & 0.4166667 & 11.50 & 0.02560 &   3.300\\\\\n\t Gray seal              & Haliochoerus  & carni   & Carnivora       & lc           &  6.2 & 1.5 &        NA & 17.80 & 0.32500 &  85.000\\\\\n\t Tiger                  & Panthera      & carni   & Carnivora       & en           & 15.8 &  NA &        NA &  8.20 &      NA & 162.564\\\\\n\t Jaguar                 & Panthera      & carni   & Carnivora       & nt           & 10.4 &  NA &        NA & 13.60 & 0.15700 & 100.000\\\\\n\t Lion                   & Panthera      & carni   & Carnivora       & vu           & 13.5 &  NA &        NA & 10.50 &      NA & 161.499\\\\\n\t Caspian seal           & Phoca         & carni   & Carnivora       & vu           &  3.5 & 0.4 &        NA & 20.50 &      NA &  86.000\\\\\n\t Genet                  & Genetta       & carni   & Carnivora       & NA           &  6.3 & 1.3 &        NA & 17.70 & 0.01750 &   2.000\\\\\n\t Arctic fox             & Vulpes        & carni   & Carnivora       & NA           & 12.5 &  NA &        NA & 11.50 & 0.04450 &   3.380\\\\\n\t Red fox                & Vulpes        & carni   & Carnivora       & NA           &  9.8 & 2.4 & 0.3500000 & 14.20 & 0.05040 &   4.230\\\\\n\t Pilot whale            & Globicephalus & carni   & Cetacea         & cd           &  2.7 & 0.1 &        NA & 21.35 &      NA & 800.000\\\\\n\t Common porpoise        & Phocoena      & carni   & Cetacea         & vu           &  5.6 &  NA &        NA & 18.45 &      NA &  53.180\\\\\n\t Bottle-nosed dolphin   & Tursiops      & carni   & Cetacea         & NA           &  5.2 &  NA &        NA & 18.80 &      NA & 173.330\\\\\n\t Big brown bat          & Eptesicus     & insecti & Chiroptera      & lc           & 19.7 & 3.9 & 0.1166667 &  4.30 & 0.00030 &   0.023\\\\\n\t Little brown bat       & Myotis        & insecti & Chiroptera      & NA           & 19.9 & 2.0 & 0.2000000 &  4.10 & 0.00025 &   0.010\\\\\n\t Long-nosed armadillo   & Dasypus       & carni   & Cingulata       & lc           & 17.4 & 3.1 & 0.3833333 &  6.60 & 0.01080 &   3.500\\\\\n\t Giant armadillo        & Priodontes    & insecti & Cingulata       & en           & 18.1 & 6.1 &        NA &  5.90 & 0.08100 &  60.000\\\\\n\t North American Opossum & Didelphis     & omni    & Didelphimorphia & lc           & 18.0 & 4.9 & 0.3333333 &  6.00 & 0.00630 &   1.700\\\\\n\t Thick-tailed opposum   & Lutreolina    & carni   & Didelphimorphia & lc           & 19.4 & 6.6 &        NA &  4.60 &      NA &   0.370\\\\\n\t Phalanger              & Phalanger     & NA      & Diprotodontia   & NA           & 13.7 & 1.8 &        NA & 10.30 & 0.01140 &   1.620\\\\\n\t Potoroo                & Potorous      & herbi   & Diprotodontia   & NA           & 11.1 & 1.5 &        NA & 12.90 &      NA &   1.100\\\\\n\t ⋮ & ⋮ & ⋮ & ⋮ & ⋮ & ⋮ & ⋮ & ⋮ & ⋮ & ⋮ & ⋮\\\\\n\t Asian elephant                 & Elephas      & herbi   & Proboscidea  & en           &  3.9 &  NA &        NA & 20.1 & 4.60300 & 2547.000\\\\\n\t African elephant               & Loxodonta    & herbi   & Proboscidea  & vu           &  3.3 &  NA &        NA & 20.7 & 5.71200 & 6654.000\\\\\n\t Mountain beaver                & Aplodontia   & herbi   & Rodentia     & nt           & 14.4 & 2.4 &        NA &  9.6 &      NA &    1.350\\\\\n\t Vesper mouse                   & Calomys      & NA      & Rodentia     & NA           &  7.0 &  NA &        NA & 17.0 &      NA &    0.045\\\\\n\t Guinea pig                     & Cavis        & herbi   & Rodentia     & domesticated &  9.4 & 0.8 & 0.2166667 & 14.6 & 0.00550 &    0.728\\\\\n\t Chinchilla                     & Chinchilla   & herbi   & Rodentia     & domesticated & 12.5 & 1.5 & 0.1166667 & 11.5 & 0.00640 &    0.420\\\\\n\t African giant pouched rat      & Cricetomys   & omni    & Rodentia     & NA           &  8.3 & 2.0 &        NA & 15.7 & 0.00660 &    1.000\\\\\n\t Western american chipmunk      & Eutamias     & herbi   & Rodentia     & NA           & 14.9 &  NA &        NA &  9.1 &      NA &    0.071\\\\\n\t Mongolian gerbil               & Meriones     & herbi   & Rodentia     & lc           & 14.2 & 1.9 &        NA &  9.8 &      NA &    0.053\\\\\n\t Golden hamster                 & Mesocricetus & herbi   & Rodentia     & en           & 14.3 & 3.1 & 0.2000000 &  9.7 & 0.00100 &    0.120\\\\\n\t Vole                           & Microtus     & herbi   & Rodentia     & NA           & 12.8 &  NA &        NA & 11.2 &      NA &    0.035\\\\\n\t House mouse                    & Mus          & herbi   & Rodentia     & nt           & 12.5 & 1.4 & 0.1833333 & 11.5 & 0.00040 &    0.022\\\\\n\t Round-tailed muskrat           & Neofiber     & herbi   & Rodentia     & nt           & 14.6 &  NA &        NA &  9.4 &      NA &    0.266\\\\\n\t Degu                           & Octodon      & herbi   & Rodentia     & lc           &  7.7 & 0.9 &        NA & 16.3 &      NA &    0.210\\\\\n\t Northern grasshopper mouse     & Onychomys    & carni   & Rodentia     & lc           & 14.5 &  NA &        NA &  9.5 &      NA &    0.028\\\\\n\t Deer mouse                     & Peromyscus   & NA      & Rodentia     & NA           & 11.5 &  NA &        NA & 12.5 &      NA &    0.021\\\\\n\t Laboratory rat                 & Rattus       & herbi   & Rodentia     & lc           & 13.0 & 2.4 & 0.1833333 & 11.0 & 0.00190 &    0.320\\\\\n\t African striped mouse          & Rhabdomys    & omni    & Rodentia     & NA           &  8.7 &  NA &        NA & 15.3 &      NA &    0.044\\\\\n\t Cotton rat                     & Sigmodon     & herbi   & Rodentia     & NA           & 11.3 & 1.1 & 0.1500000 & 12.7 & 0.00118 &    0.148\\\\\n\t Mole rat                       & Spalax       & NA      & Rodentia     & NA           & 10.6 & 2.4 &        NA & 13.4 & 0.00300 &    0.122\\\\\n\t Arctic ground squirrel         & Spermophilus & herbi   & Rodentia     & lc           & 16.6 &  NA &        NA &  7.4 & 0.00570 &    0.920\\\\\n\t Thirteen-lined ground squirrel & Spermophilus & herbi   & Rodentia     & lc           & 13.8 & 3.4 & 0.2166667 & 10.2 & 0.00400 &    0.101\\\\\n\t Golden-mantled ground squirrel & Spermophilus & herbi   & Rodentia     & lc           & 15.9 & 3.0 &        NA &  8.1 &      NA &    0.205\\\\\n\t Eastern american chipmunk      & Tamias       & herbi   & Rodentia     & NA           & 15.8 &  NA &        NA &  8.2 &      NA &    0.112\\\\\n\t Tree shrew                     & Tupaia       & omni    & Scandentia   & NA           &  8.9 & 2.6 & 0.2333333 & 15.1 & 0.00250 &    0.104\\\\\n\t Greater short-tailed shrew     & Blarina      & omni    & Soricomorpha & lc           & 14.9 & 2.3 & 0.1333333 &  9.1 & 0.00029 &    0.019\\\\\n\t Star-nosed mole                & Condylura    & omni    & Soricomorpha & lc           & 10.3 & 2.2 &        NA & 13.7 & 0.00100 &    0.060\\\\\n\t Lesser short-tailed shrew      & Cryptotis    & omni    & Soricomorpha & lc           &  9.1 & 1.4 & 0.1500000 & 14.9 & 0.00014 &    0.005\\\\\n\t Eastern american mole          & Scalopus     & insecti & Soricomorpha & lc           &  8.4 & 2.1 & 0.1666667 & 15.6 & 0.00120 &    0.075\\\\\n\t Musk shrew                     & Suncus       & NA      & Soricomorpha & NA           & 12.8 & 2.0 & 0.1833333 & 11.2 & 0.00033 &    0.048\\\\\n\\end{tabular}\n",
            "text/plain": [
              "   name                           genus         vore    order          \n",
              "1  Tenrec                         Tenrec        omni    Afrosoricida   \n",
              "2  Cow                            Bos           herbi   Artiodactyla   \n",
              "3  Roe deer                       Capreolus     herbi   Artiodactyla   \n",
              "4  Goat                           Capri         herbi   Artiodactyla   \n",
              "5  Giraffe                        Giraffa       herbi   Artiodactyla   \n",
              "6  Sheep                          Ovis          herbi   Artiodactyla   \n",
              "7  Pig                            Sus           omni    Artiodactyla   \n",
              "8  Cheetah                        Acinonyx      carni   Carnivora      \n",
              "9  Northern fur seal              Callorhinus   carni   Carnivora      \n",
              "10 Dog                            Canis         carni   Carnivora      \n",
              "11 Domestic cat                   Felis         carni   Carnivora      \n",
              "12 Gray seal                      Haliochoerus  carni   Carnivora      \n",
              "13 Tiger                          Panthera      carni   Carnivora      \n",
              "14 Jaguar                         Panthera      carni   Carnivora      \n",
              "15 Lion                           Panthera      carni   Carnivora      \n",
              "16 Caspian seal                   Phoca         carni   Carnivora      \n",
              "17 Genet                          Genetta       carni   Carnivora      \n",
              "18 Arctic fox                     Vulpes        carni   Carnivora      \n",
              "19 Red fox                        Vulpes        carni   Carnivora      \n",
              "20 Pilot whale                    Globicephalus carni   Cetacea        \n",
              "21 Common porpoise                Phocoena      carni   Cetacea        \n",
              "22 Bottle-nosed dolphin           Tursiops      carni   Cetacea        \n",
              "23 Big brown bat                  Eptesicus     insecti Chiroptera     \n",
              "24 Little brown bat               Myotis        insecti Chiroptera     \n",
              "25 Long-nosed armadillo           Dasypus       carni   Cingulata      \n",
              "26 Giant armadillo                Priodontes    insecti Cingulata      \n",
              "27 North American Opossum         Didelphis     omni    Didelphimorphia\n",
              "28 Thick-tailed opposum           Lutreolina    carni   Didelphimorphia\n",
              "29 Phalanger                      Phalanger     NA      Diprotodontia  \n",
              "30 Potoroo                        Potorous      herbi   Diprotodontia  \n",
              "⋮  ⋮                              ⋮             ⋮       ⋮              \n",
              "54 Asian elephant                 Elephas       herbi   Proboscidea    \n",
              "55 African elephant               Loxodonta     herbi   Proboscidea    \n",
              "56 Mountain beaver                Aplodontia    herbi   Rodentia       \n",
              "57 Vesper mouse                   Calomys       NA      Rodentia       \n",
              "58 Guinea pig                     Cavis         herbi   Rodentia       \n",
              "59 Chinchilla                     Chinchilla    herbi   Rodentia       \n",
              "60 African giant pouched rat      Cricetomys    omni    Rodentia       \n",
              "61 Western american chipmunk      Eutamias      herbi   Rodentia       \n",
              "62 Mongolian gerbil               Meriones      herbi   Rodentia       \n",
              "63 Golden hamster                 Mesocricetus  herbi   Rodentia       \n",
              "64 Vole                           Microtus      herbi   Rodentia       \n",
              "65 House mouse                    Mus           herbi   Rodentia       \n",
              "66 Round-tailed muskrat           Neofiber      herbi   Rodentia       \n",
              "67 Degu                           Octodon       herbi   Rodentia       \n",
              "68 Northern grasshopper mouse     Onychomys     carni   Rodentia       \n",
              "69 Deer mouse                     Peromyscus    NA      Rodentia       \n",
              "70 Laboratory rat                 Rattus        herbi   Rodentia       \n",
              "71 African striped mouse          Rhabdomys     omni    Rodentia       \n",
              "72 Cotton rat                     Sigmodon      herbi   Rodentia       \n",
              "73 Mole rat                       Spalax        NA      Rodentia       \n",
              "74 Arctic ground squirrel         Spermophilus  herbi   Rodentia       \n",
              "75 Thirteen-lined ground squirrel Spermophilus  herbi   Rodentia       \n",
              "76 Golden-mantled ground squirrel Spermophilus  herbi   Rodentia       \n",
              "77 Eastern american chipmunk      Tamias        herbi   Rodentia       \n",
              "78 Tree shrew                     Tupaia        omni    Scandentia     \n",
              "79 Greater short-tailed shrew     Blarina       omni    Soricomorpha   \n",
              "80 Star-nosed mole                Condylura     omni    Soricomorpha   \n",
              "81 Lesser short-tailed shrew      Cryptotis     omni    Soricomorpha   \n",
              "82 Eastern american mole          Scalopus      insecti Soricomorpha   \n",
              "83 Musk shrew                     Suncus        NA      Soricomorpha   \n",
              "   conservation sleep_total sleep_rem sleep_cycle awake brainwt bodywt  \n",
              "1  NA           15.6        2.3              NA    8.40 0.00260   0.900 \n",
              "2  domesticated  4.0        0.7       0.6666667   20.00 0.42300 600.000 \n",
              "3  lc            3.0         NA              NA   21.00 0.09820  14.800 \n",
              "4  lc            5.3        0.6              NA   18.70 0.11500  33.500 \n",
              "5  cd            1.9        0.4              NA   22.10      NA 899.995 \n",
              "6  domesticated  3.8        0.6              NA   20.20 0.17500  55.500 \n",
              "7  domesticated  9.1        2.4       0.5000000   14.90 0.18000  86.250 \n",
              "8  lc           12.1         NA              NA   11.90      NA  50.000 \n",
              "9  vu            8.7        1.4       0.3833333   15.30      NA  20.490 \n",
              "10 domesticated 10.1        2.9       0.3333333   13.90 0.07000  14.000 \n",
              "11 domesticated 12.5        3.2       0.4166667   11.50 0.02560   3.300 \n",
              "12 lc            6.2        1.5              NA   17.80 0.32500  85.000 \n",
              "13 en           15.8         NA              NA    8.20      NA 162.564 \n",
              "14 nt           10.4         NA              NA   13.60 0.15700 100.000 \n",
              "15 vu           13.5         NA              NA   10.50      NA 161.499 \n",
              "16 vu            3.5        0.4              NA   20.50      NA  86.000 \n",
              "17 NA            6.3        1.3              NA   17.70 0.01750   2.000 \n",
              "18 NA           12.5         NA              NA   11.50 0.04450   3.380 \n",
              "19 NA            9.8        2.4       0.3500000   14.20 0.05040   4.230 \n",
              "20 cd            2.7        0.1              NA   21.35      NA 800.000 \n",
              "21 vu            5.6         NA              NA   18.45      NA  53.180 \n",
              "22 NA            5.2         NA              NA   18.80      NA 173.330 \n",
              "23 lc           19.7        3.9       0.1166667    4.30 0.00030   0.023 \n",
              "24 NA           19.9        2.0       0.2000000    4.10 0.00025   0.010 \n",
              "25 lc           17.4        3.1       0.3833333    6.60 0.01080   3.500 \n",
              "26 en           18.1        6.1              NA    5.90 0.08100  60.000 \n",
              "27 lc           18.0        4.9       0.3333333    6.00 0.00630   1.700 \n",
              "28 lc           19.4        6.6              NA    4.60      NA   0.370 \n",
              "29 NA           13.7        1.8              NA   10.30 0.01140   1.620 \n",
              "30 NA           11.1        1.5              NA   12.90      NA   1.100 \n",
              "⋮  ⋮            ⋮           ⋮         ⋮           ⋮     ⋮       ⋮       \n",
              "54 en            3.9         NA              NA   20.1  4.60300 2547.000\n",
              "55 vu            3.3         NA              NA   20.7  5.71200 6654.000\n",
              "56 nt           14.4        2.4              NA    9.6       NA    1.350\n",
              "57 NA            7.0         NA              NA   17.0       NA    0.045\n",
              "58 domesticated  9.4        0.8       0.2166667   14.6  0.00550    0.728\n",
              "59 domesticated 12.5        1.5       0.1166667   11.5  0.00640    0.420\n",
              "60 NA            8.3        2.0              NA   15.7  0.00660    1.000\n",
              "61 NA           14.9         NA              NA    9.1       NA    0.071\n",
              "62 lc           14.2        1.9              NA    9.8       NA    0.053\n",
              "63 en           14.3        3.1       0.2000000    9.7  0.00100    0.120\n",
              "64 NA           12.8         NA              NA   11.2       NA    0.035\n",
              "65 nt           12.5        1.4       0.1833333   11.5  0.00040    0.022\n",
              "66 nt           14.6         NA              NA    9.4       NA    0.266\n",
              "67 lc            7.7        0.9              NA   16.3       NA    0.210\n",
              "68 lc           14.5         NA              NA    9.5       NA    0.028\n",
              "69 NA           11.5         NA              NA   12.5       NA    0.021\n",
              "70 lc           13.0        2.4       0.1833333   11.0  0.00190    0.320\n",
              "71 NA            8.7         NA              NA   15.3       NA    0.044\n",
              "72 NA           11.3        1.1       0.1500000   12.7  0.00118    0.148\n",
              "73 NA           10.6        2.4              NA   13.4  0.00300    0.122\n",
              "74 lc           16.6         NA              NA    7.4  0.00570    0.920\n",
              "75 lc           13.8        3.4       0.2166667   10.2  0.00400    0.101\n",
              "76 lc           15.9        3.0              NA    8.1       NA    0.205\n",
              "77 NA           15.8         NA              NA    8.2       NA    0.112\n",
              "78 NA            8.9        2.6       0.2333333   15.1  0.00250    0.104\n",
              "79 lc           14.9        2.3       0.1333333    9.1  0.00029    0.019\n",
              "80 lc           10.3        2.2              NA   13.7  0.00100    0.060\n",
              "81 lc            9.1        1.4       0.1500000   14.9  0.00014    0.005\n",
              "82 lc            8.4        2.1       0.1666667   15.6  0.00120    0.075\n",
              "83 NA           12.8        2.0       0.1833333   11.2  0.00033    0.048"
            ]
          },
          "metadata": {}
        }
      ]
    },
    {
      "cell_type": "code",
      "source": [
        "ggplot(msleep, aes(x=sleep_total, fill=order)) + geom_histogram(binwidth = 0.5)"
      ],
      "metadata": {
        "colab": {
          "base_uri": "https://localhost:8080/",
          "height": 437
        },
        "id": "88vOBwNM_Fn2",
        "outputId": "b72d6a2c-0f0b-4ddf-b879-c20a3ca7e2f5"
      },
      "execution_count": 38,
      "outputs": [
        {
          "output_type": "display_data",
          "data": {
            "text/plain": [
              "plot without title"
            ],
            "image/png": "[encoded data removed]"
          },
          "metadata": {
            "image/png": {
              "width": 420,
              "height": 420
            }
          }
        }
      ]
    },
    {
      "cell_type": "markdown",
      "source": [
        "## 3. Clean and Analyze Data Using R (4 pts)\n",
        "\n",
        "In the cells below use R to perform the following data cleaning steps on this file:\n",
        "https://raw.githubusercontent.com/nmagee/ds1002/main/data/social-media-users.csv\n",
        "\n",
        "1. Remove any duplicate rows.\n",
        "2. Remove any records where `last_login` or `birthdate` are empty.\n",
        "3. Display only the records with the 10 highest `follower` counts.\n",
        "4. Determine counts of users when grouped by continent."
      ],
      "metadata": {
        "id": "-2ZaFcCCv3o8"
      }
    },
    {
      "cell_type": "code",
      "source": [
        "#\n",
        "df <- read.csv(\"https://raw.githubusercontent.com/nmagee/ds1002/main/data/social-media-users.csv\")"
      ],
      "metadata": {
        "id": "V4nBsdVsyauQ"
      },
      "execution_count": 39,
      "outputs": []
    },
    {
      "cell_type": "code",
      "source": [
        "#\n",
        "str(df)\n"
      ],
      "metadata": {
        "id": "LwXD1sNulIT3",
        "colab": {
          "base_uri": "https://localhost:8080/"
        },
        "outputId": "0fe3b4a7-0ca0-432f-ca09-e434622f9b10"
      },
      "execution_count": 40,
      "outputs": [
        {
          "output_type": "stream",
          "name": "stdout",
          "text": [
            "'data.frame':\t1318 obs. of  8 variables:\n",
            " $ username  : chr  \"ckippen0\" \"tgergler1\" \"spomfrett2\" \"rphettis3\" ...\n",
            " $ full_name : chr  \"Clevey Kippen\" \"Tedi Gergler\" \"Steffie Pomfrett\" \"Ruddy Phettis\" ...\n",
            " $ birthdate : chr  \"5/1/1991\" \"10/5/1998\" \"\" \"6/18/1984\" ...\n",
            " $ email     : chr  \"ckippen0@t-online.de\" \"tgergler1@salon.com\" \"spomfrett2@imdb.com\" \"rphettis3@npr.org\" ...\n",
            " $ continent : chr  NA NA NA \"EU\" ...\n",
            " $ followers : int  12362 21360 19530 80047 33544 72161 42669 22516 93923 18554 ...\n",
            " $ last_login: chr  \"5/16/2023\" \"8/20/2020\" \"11/19/2022\" \"9/20/2023\" ...\n",
            " $ interests : chr  \"music\" \"sports\" \"sports\" \"travel\" ...\n"
          ]
        }
      ]
    },
    {
      "cell_type": "code",
      "source": [
        "#\n",
        "nrow(df[duplicated(df), ])"
      ],
      "metadata": {
        "id": "7qa100btlI4Z",
        "colab": {
          "base_uri": "https://localhost:8080/",
          "height": 34
        },
        "outputId": "f65c0a93-7bef-4994-df74-543da2cd6f3a"
      },
      "execution_count": 41,
      "outputs": [
        {
          "output_type": "display_data",
          "data": {
            "text/html": [
              "318"
            ],
            "text/markdown": "318",
            "text/latex": "318",
            "text/plain": [
              "[1] 318"
            ]
          },
          "metadata": {}
        }
      ]
    },
    {
      "cell_type": "code",
      "source": [
        "#\n",
        "df2 <- df[!duplicated(df), ]"
      ],
      "metadata": {
        "id": "MjrZisnxlJUa"
      },
      "execution_count": 50,
      "outputs": []
    },
    {
      "cell_type": "code",
      "source": [
        "nrow(df2[duplicated(df2), ])"
      ],
      "metadata": {
        "colab": {
          "base_uri": "https://localhost:8080/",
          "height": 34
        },
        "id": "DjQr99x9Aep4",
        "outputId": "e0c29d02-7a3c-419b-c405-f24440a1c958"
      },
      "execution_count": 51,
      "outputs": [
        {
          "output_type": "display_data",
          "data": {
            "text/html": [
              "0"
            ],
            "text/markdown": "0",
            "text/latex": "0",
            "text/plain": [
              "[1] 0"
            ]
          },
          "metadata": {}
        }
      ]
    },
    {
      "cell_type": "code",
      "source": [
        "str(df2)"
      ],
      "metadata": {
        "colab": {
          "base_uri": "https://localhost:8080/"
        },
        "id": "F1eR5xGdA9j6",
        "outputId": "d4c4adc8-f5d7-4c1c-e3e7-4cd98ca456b9"
      },
      "execution_count": 52,
      "outputs": [
        {
          "output_type": "stream",
          "name": "stdout",
          "text": [
            "'data.frame':\t1000 obs. of  8 variables:\n",
            " $ username  : chr  \"ckippen0\" \"tgergler1\" \"spomfrett2\" \"rphettis3\" ...\n",
            " $ full_name : chr  \"Clevey Kippen\" \"Tedi Gergler\" \"Steffie Pomfrett\" \"Ruddy Phettis\" ...\n",
            " $ birthdate : chr  \"5/1/1991\" \"10/5/1998\" \"\" \"6/18/1984\" ...\n",
            " $ email     : chr  \"ckippen0@t-online.de\" \"tgergler1@salon.com\" \"spomfrett2@imdb.com\" \"rphettis3@npr.org\" ...\n",
            " $ continent : chr  NA NA NA \"EU\" ...\n",
            " $ followers : int  12362 21360 19530 80047 33544 72161 42669 22516 93923 18554 ...\n",
            " $ last_login: chr  \"5/16/2023\" \"8/20/2020\" \"11/19/2022\" \"9/20/2023\" ...\n",
            " $ interests : chr  \"music\" \"sports\" \"sports\" \"travel\" ...\n"
          ]
        }
      ]
    },
    {
      "cell_type": "code",
      "source": [
        "df_no_empty <- na.omit(df2)\n",
        "str(df_no_empty)"
      ],
      "metadata": {
        "colab": {
          "base_uri": "https://localhost:8080/"
        },
        "id": "95YvEfQFAkNw",
        "outputId": "2812368c-3321-4cb6-fa0b-2ef3d848668b"
      },
      "execution_count": 53,
      "outputs": [
        {
          "output_type": "stream",
          "name": "stdout",
          "text": [
            "'data.frame':\t653 obs. of  8 variables:\n",
            " $ username  : chr  \"rphettis3\" \"fhampson5\" \"ttotman6\" \"kgrigoryev8\" ...\n",
            " $ full_name : chr  \"Ruddy Phettis\" \"Farrell Hampson\" \"Tamqrah Totman\" \"Krishna Grigoryev\" ...\n",
            " $ birthdate : chr  \"6/18/1984\" \"11/7/1985\" \"8/7/1986\" \"5/25/1990\" ...\n",
            " $ email     : chr  \"rphettis3@npr.org\" \"fhampson5@lulu.com\" \"ttotman6@elpais.com\" \"kgrigoryev8@quantcast.com\" ...\n",
            " $ continent : chr  \"EU\" \"OC\" \"AF\" \"EU\" ...\n",
            " $ followers : int  80047 72161 42669 93923 18554 81042 46304 16786 93981 31745 ...\n",
            " $ last_login: chr  \"9/20/2023\" \"\" \"3/10/2023\" \"1/30/2023\" ...\n",
            " $ interests : chr  \"travel\" \"sports\" \"music\" \"travel\" ...\n",
            " - attr(*, \"na.action\")= 'omit' Named int [1:347] 1 2 3 5 8 13 15 16 17 18 ...\n",
            "  ..- attr(*, \"names\")= chr [1:347] \"1\" \"2\" \"3\" \"5\" ...\n"
          ]
        }
      ]
    },
    {
      "cell_type": "code",
      "source": [
        "df_by_followers <- df_no_empty[order(df_no_empty$followers),]\n",
        "df_by_followers[644:653, ]\n"
      ],
      "metadata": {
        "colab": {
          "base_uri": "https://localhost:8080/",
          "height": 407
        },
        "id": "52IDm85tBjuN",
        "outputId": "230763ab-18e6-44f3-f142-798b2d7022b8"
      },
      "execution_count": 59,
      "outputs": [
        {
          "output_type": "display_data",
          "data": {
            "text/html": [
              "<table class=\"dataframe\">\n",
              "<caption>A data.frame: 10 × 8</caption>\n",
              "<thead>\n",
              "\t<tr><th></th><th scope=col>username</th><th scope=col>full_name</th><th scope=col>birthdate</th><th scope=col>email</th><th scope=col>continent</th><th scope=col>followers</th><th scope=col>last_login</th><th scope=col>interests</th></tr>\n",
              "\t<tr><th></th><th scope=col>&lt;chr&gt;</th><th scope=col>&lt;chr&gt;</th><th scope=col>&lt;chr&gt;</th><th scope=col>&lt;chr&gt;</th><th scope=col>&lt;chr&gt;</th><th scope=col>&lt;int&gt;</th><th scope=col>&lt;chr&gt;</th><th scope=col>&lt;chr&gt;</th></tr>\n",
              "</thead>\n",
              "<tbody>\n",
              "\t<tr><th scope=row>539</th><td>mtremeer64   </td><td>Maison Tremeer      </td><td>         </td><td>mtremeer64@spiegel.de    </td><td>AF</td><td>98545</td><td>          </td><td>music </td></tr>\n",
              "\t<tr><th scope=row>1264</th><td>ebroomq9     </td><td>Early Broom         </td><td>3/10/2000</td><td>ebroomq9@fastcompany.com </td><td>AF</td><td>98606</td><td>10/22/2023</td><td>sports</td></tr>\n",
              "\t<tr><th scope=row>595</th><td>smacdonnell7o</td><td>Shoshanna MacDonnell</td><td>9/12/2002</td><td>smacdonnell7o@toplist.cz </td><td>AS</td><td>98760</td><td>7/20/2021 </td><td>music </td></tr>\n",
              "\t<tr><th scope=row>960</th><td>kmorriceht   </td><td>Kitti Morrice       </td><td>6/3/1995 </td><td>kmorriceht@privacy.gov.au</td><td>SA</td><td>98936</td><td>3/24/2021 </td><td>sports</td></tr>\n",
              "\t<tr><th scope=row>1136</th><td>grivardmp    </td><td>Gwen Rivard         </td><td>9/12/1982</td><td>grivardmp@google.com.hk  </td><td>OC</td><td>99526</td><td>4/4/2020  </td><td>music </td></tr>\n",
              "\t<tr><th scope=row>578</th><td>dbartalin77  </td><td>Desiree Bartalin    </td><td>8/23/1993</td><td>dbartalin77@usda.gov     </td><td>AF</td><td>99618</td><td>5/30/2022 </td><td>music </td></tr>\n",
              "\t<tr><th scope=row>821</th><td>cduftondy    </td><td>Celisse Dufton      </td><td>8/24/1995</td><td>cduftondy@ox.ac.uk       </td><td>OC</td><td>99707</td><td>9/26/2021 </td><td>sports</td></tr>\n",
              "\t<tr><th scope=row>818</th><td>djagerdv     </td><td>Deeyn Jager         </td><td>         </td><td>djagerdv@posterous.com   </td><td>AF</td><td>99731</td><td>4/7/2022  </td><td>travel</td></tr>\n",
              "\t<tr><th scope=row>1050</th><td>cbraderkb    </td><td>Cody Brader         </td><td>         </td><td>cbraderkb@lulu.com       </td><td>AF</td><td>99747</td><td>6/19/2021 </td><td>music </td></tr>\n",
              "\t<tr><th scope=row>721</th><td>lleckeyb6    </td><td>Lynne Leckey        </td><td>4/19/1998</td><td>lleckeyb6@tripadvisor.com</td><td>SA</td><td>99977</td><td>3/14/2021 </td><td>sports</td></tr>\n",
              "</tbody>\n",
              "</table>\n"
            ],
            "text/markdown": "\nA data.frame: 10 × 8\n\n| <!--/--> | username &lt;chr&gt; | full_name &lt;chr&gt; | birthdate &lt;chr&gt; | email &lt;chr&gt; | continent &lt;chr&gt; | followers &lt;int&gt; | last_login &lt;chr&gt; | interests &lt;chr&gt; |\n|---|---|---|---|---|---|---|---|---|\n| 539 | mtremeer64    | Maison Tremeer       | <!----> | mtremeer64@spiegel.de     | AF | 98545 | <!----> | music  |\n| 1264 | ebroomq9      | Early Broom          | 3/10/2000 | ebroomq9@fastcompany.com  | AF | 98606 | 10/22/2023 | sports |\n| 595 | smacdonnell7o | Shoshanna MacDonnell | 9/12/2002 | smacdonnell7o@toplist.cz  | AS | 98760 | 7/20/2021  | music  |\n| 960 | kmorriceht    | Kitti Morrice        | 6/3/1995  | kmorriceht@privacy.gov.au | SA | 98936 | 3/24/2021  | sports |\n| 1136 | grivardmp     | Gwen Rivard          | 9/12/1982 | grivardmp@google.com.hk   | OC | 99526 | 4/4/2020   | music  |\n| 578 | dbartalin77   | Desiree Bartalin     | 8/23/1993 | dbartalin77@usda.gov      | AF | 99618 | 5/30/2022  | music  |\n| 821 | cduftondy     | Celisse Dufton       | 8/24/1995 | cduftondy@ox.ac.uk        | OC | 99707 | 9/26/2021  | sports |\n| 818 | djagerdv      | Deeyn Jager          | <!----> | djagerdv@posterous.com    | AF | 99731 | 4/7/2022   | travel |\n| 1050 | cbraderkb     | Cody Brader          | <!----> | cbraderkb@lulu.com        | AF | 99747 | 6/19/2021  | music  |\n| 721 | lleckeyb6     | Lynne Leckey         | 4/19/1998 | lleckeyb6@tripadvisor.com | SA | 99977 | 3/14/2021  | sports |\n\n",
            "text/latex": "A data.frame: 10 × 8\n\\begin{tabular}{r|llllllll}\n  & username & full\\_name & birthdate & email & continent & followers & last\\_login & interests\\\\\n  & <chr> & <chr> & <chr> & <chr> & <chr> & <int> & <chr> & <chr>\\\\\n\\hline\n\t539 & mtremeer64    & Maison Tremeer       &           & mtremeer64@spiegel.de     & AF & 98545 &            & music \\\\\n\t1264 & ebroomq9      & Early Broom          & 3/10/2000 & ebroomq9@fastcompany.com  & AF & 98606 & 10/22/2023 & sports\\\\\n\t595 & smacdonnell7o & Shoshanna MacDonnell & 9/12/2002 & smacdonnell7o@toplist.cz  & AS & 98760 & 7/20/2021  & music \\\\\n\t960 & kmorriceht    & Kitti Morrice        & 6/3/1995  & kmorriceht@privacy.gov.au & SA & 98936 & 3/24/2021  & sports\\\\\n\t1136 & grivardmp     & Gwen Rivard          & 9/12/1982 & grivardmp@google.com.hk   & OC & 99526 & 4/4/2020   & music \\\\\n\t578 & dbartalin77   & Desiree Bartalin     & 8/23/1993 & dbartalin77@usda.gov      & AF & 99618 & 5/30/2022  & music \\\\\n\t821 & cduftondy     & Celisse Dufton       & 8/24/1995 & cduftondy@ox.ac.uk        & OC & 99707 & 9/26/2021  & sports\\\\\n\t818 & djagerdv      & Deeyn Jager          &           & djagerdv@posterous.com    & AF & 99731 & 4/7/2022   & travel\\\\\n\t1050 & cbraderkb     & Cody Brader          &           & cbraderkb@lulu.com        & AF & 99747 & 6/19/2021  & music \\\\\n\t721 & lleckeyb6     & Lynne Leckey         & 4/19/1998 & lleckeyb6@tripadvisor.com & SA & 99977 & 3/14/2021  & sports\\\\\n\\end{tabular}\n",
            "text/plain": [
              "     username      full_name            birthdate email                    \n",
              "539  mtremeer64    Maison Tremeer                 mtremeer64@spiegel.de    \n",
              "1264 ebroomq9      Early Broom          3/10/2000 ebroomq9@fastcompany.com \n",
              "595  smacdonnell7o Shoshanna MacDonnell 9/12/2002 smacdonnell7o@toplist.cz \n",
              "960  kmorriceht    Kitti Morrice        6/3/1995  kmorriceht@privacy.gov.au\n",
              "1136 grivardmp     Gwen Rivard          9/12/1982 grivardmp@google.com.hk  \n",
              "578  dbartalin77   Desiree Bartalin     8/23/1993 dbartalin77@usda.gov     \n",
              "821  cduftondy     Celisse Dufton       8/24/1995 cduftondy@ox.ac.uk       \n",
              "818  djagerdv      Deeyn Jager                    djagerdv@posterous.com   \n",
              "1050 cbraderkb     Cody Brader                    cbraderkb@lulu.com       \n",
              "721  lleckeyb6     Lynne Leckey         4/19/1998 lleckeyb6@tripadvisor.com\n",
              "     continent followers last_login interests\n",
              "539  AF        98545                music    \n",
              "1264 AF        98606     10/22/2023 sports   \n",
              "595  AS        98760     7/20/2021  music    \n",
              "960  SA        98936     3/24/2021  sports   \n",
              "1136 OC        99526     4/4/2020   music    \n",
              "578  AF        99618     5/30/2022  music    \n",
              "821  OC        99707     9/26/2021  sports   \n",
              "818  AF        99731     4/7/2022   travel   \n",
              "1050 AF        99747     6/19/2021  music    \n",
              "721  SA        99977     3/14/2021  sports   "
            ]
          },
          "metadata": {}
        }
      ]
    },
    {
      "cell_type": "code",
      "source": [
        "df_by_continent <- df_no_empty[order(df_no_empty$continent),]\n",
        "df_by_continent"
      ],
      "metadata": {
        "colab": {
          "base_uri": "https://localhost:8080/",
          "height": 1000
        },
        "id": "pW9RIdMYDCtn",
        "outputId": "4e9c5c71-dac0-4b1c-ae08-c47b9170f4f1"
      },
      "execution_count": 66,
      "outputs": [
        {
          "output_type": "display_data",
          "data": {
            "text/html": [
              "<table class=\"dataframe\">\n",
              "<caption>A data.frame: 653 × 8</caption>\n",
              "<thead>\n",
              "\t<tr><th></th><th scope=col>username</th><th scope=col>full_name</th><th scope=col>birthdate</th><th scope=col>email</th><th scope=col>continent</th><th scope=col>followers</th><th scope=col>last_login</th><th scope=col>interests</th></tr>\n",
              "\t<tr><th></th><th scope=col>&lt;chr&gt;</th><th scope=col>&lt;chr&gt;</th><th scope=col>&lt;chr&gt;</th><th scope=col>&lt;chr&gt;</th><th scope=col>&lt;chr&gt;</th><th scope=col>&lt;int&gt;</th><th scope=col>&lt;chr&gt;</th><th scope=col>&lt;chr&gt;</th></tr>\n",
              "</thead>\n",
              "<tbody>\n",
              "\t<tr><th scope=row>7</th><td>ttotman6      </td><td>Tamqrah Totman     </td><td>8/7/1986  </td><td>ttotman6@elpais.com           </td><td>AF</td><td>42669</td><td>3/10/2023 </td><td>music </td></tr>\n",
              "\t<tr><th scope=row>11</th><td>hallensona    </td><td>Hayward Allenson   </td><td>3/15/1983 </td><td>hallensona@wp.com             </td><td>AF</td><td>81042</td><td>          </td><td>travel</td></tr>\n",
              "\t<tr><th scope=row>12</th><td>mchittockb    </td><td>Myriam Chittock    </td><td>1/26/1989 </td><td>mchittockb@uiuc.edu           </td><td>AF</td><td>46304</td><td>8/29/2023 </td><td>sports</td></tr>\n",
              "\t<tr><th scope=row>14</th><td>aeasbyd       </td><td>Alessandra Easby   </td><td>1/5/1991  </td><td>aeasbyd@google.ca             </td><td>AF</td><td>16786</td><td>6/15/2023 </td><td>sports</td></tr>\n",
              "\t<tr><th scope=row>19</th><td>omarusiki     </td><td>Otha Marusik       </td><td>12/4/1992 </td><td>omarusiki@cdbaby.com          </td><td>AF</td><td>93981</td><td>2/4/2022  </td><td>travel</td></tr>\n",
              "\t<tr><th scope=row>21</th><td>sspenclayk    </td><td>Scott Spenclay     </td><td>12/7/1989 </td><td>sspenclayk@wikispaces.com     </td><td>AF</td><td>31745</td><td>11/29/2022</td><td>sports</td></tr>\n",
              "\t<tr><th scope=row>25</th><td>jquareo       </td><td>Joey Quare         </td><td>11/19/1999</td><td>jquareo@furl.net              </td><td>AF</td><td>68116</td><td>          </td><td>sports</td></tr>\n",
              "\t<tr><th scope=row>26</th><td>rbellonp      </td><td>Rodolph Bellon     </td><td>8/30/2002 </td><td>rbellonp@cisco.com            </td><td>AF</td><td>96337</td><td>          </td><td>music </td></tr>\n",
              "\t<tr><th scope=row>27</th><td>chawesq       </td><td>Courtnay Hawes     </td><td>          </td><td>chawesq@deviantart.com        </td><td>AF</td><td>  435</td><td>3/19/2023 </td><td>music </td></tr>\n",
              "\t<tr><th scope=row>36</th><td>amcclellandz  </td><td>Annabela McClelland</td><td>8/12/1983 </td><td>amcclellandz@soundcloud.com   </td><td>AF</td><td>51483</td><td>5/3/2020  </td><td>sports</td></tr>\n",
              "\t<tr><th scope=row>51</th><td>abalmadier1e  </td><td>Abra Balmadier     </td><td>          </td><td>abalmadier1e@1und1.de         </td><td>AF</td><td>30487</td><td>          </td><td>music </td></tr>\n",
              "\t<tr><th scope=row>67</th><td>tmcnish1u     </td><td>Tally McNish       </td><td>10/24/1990</td><td>tmcnish1u@unesco.org          </td><td>AF</td><td>16933</td><td>12/24/2021</td><td>music </td></tr>\n",
              "\t<tr><th scope=row>69</th><td>abydaway1w    </td><td>Ancell Bydaway     </td><td>7/16/1989 </td><td>abydaway1w@walmart.com        </td><td>AF</td><td>68712</td><td>6/8/2023  </td><td>travel</td></tr>\n",
              "\t<tr><th scope=row>93</th><td>hboriston2k   </td><td>Harley Boriston    </td><td>2/15/2002 </td><td>hboriston2k@phpbb.com         </td><td>AF</td><td>83578</td><td>2/27/2021 </td><td>sports</td></tr>\n",
              "\t<tr><th scope=row>145</th><td>dmacturlough40</td><td>Dave MacTurlough   </td><td>4/1/1993  </td><td>dmacturlough40@oakley.com     </td><td>AF</td><td>71818</td><td>11/2/2021 </td><td>travel</td></tr>\n",
              "\t<tr><th scope=row>151</th><td>tpayle46      </td><td>Tracey Payle       </td><td>5/15/1999 </td><td>tpayle46@addtoany.com         </td><td>AF</td><td>29492</td><td>3/8/2020  </td><td>music </td></tr>\n",
              "\t<tr><th scope=row>156</th><td>bbaggalley4b  </td><td>Bartie Baggalley   </td><td>1/17/1993 </td><td>bbaggalley4b@phpbb.com        </td><td>AF</td><td>27301</td><td>          </td><td>sports</td></tr>\n",
              "\t<tr><th scope=row>159</th><td>tpye4e        </td><td>Timothee Pye       </td><td>2/25/1995 </td><td>tpye4e@goo.ne.jp              </td><td>AF</td><td>89247</td><td>1/1/2020  </td><td>sports</td></tr>\n",
              "\t<tr><th scope=row>165</th><td>melintune4k   </td><td>Mab Elintune       </td><td>7/16/1992 </td><td>melintune4k@blog.com          </td><td>AF</td><td>63972</td><td>9/6/2020  </td><td>sports</td></tr>\n",
              "\t<tr><th scope=row>172</th><td>ysamuel4r     </td><td>Ysabel Samuel      </td><td>1/6/2001  </td><td>ysamuel4r@wikispaces.com      </td><td>AF</td><td>96450</td><td>          </td><td>sports</td></tr>\n",
              "\t<tr><th scope=row>498</th><td>sbauchop4z    </td><td>Sheree Bauchop     </td><td>10/1/1983 </td><td>sbauchop4z@unesco.org         </td><td>AF</td><td>10599</td><td>1/4/2021  </td><td>music </td></tr>\n",
              "\t<tr><th scope=row>505</th><td>mbladon56     </td><td>Madelina Bladon    </td><td>          </td><td>mbladon56@discuz.net          </td><td>AF</td><td>72518</td><td>8/23/2022 </td><td>travel</td></tr>\n",
              "\t<tr><th scope=row>522</th><td>ofairpo5n     </td><td>Ottilie Fairpo     </td><td>          </td><td>ofairpo5n@forbes.com          </td><td>AF</td><td>95632</td><td>          </td><td>sports</td></tr>\n",
              "\t<tr><th scope=row>523</th><td>bmatz5o       </td><td>Bernelle Matz      </td><td>6/17/2002 </td><td>bmatz5o@ycombinator.com       </td><td>AF</td><td>49399</td><td>2/23/2021 </td><td>music </td></tr>\n",
              "\t<tr><th scope=row>525</th><td>rmeneo5q      </td><td>Rosa Meneo         </td><td>8/5/1983  </td><td>rmeneo5q@google.it            </td><td>AF</td><td>91855</td><td>11/11/2023</td><td>sports</td></tr>\n",
              "\t<tr><th scope=row>539</th><td>mtremeer64    </td><td>Maison Tremeer     </td><td>          </td><td>mtremeer64@spiegel.de         </td><td>AF</td><td>98545</td><td>          </td><td>music </td></tr>\n",
              "\t<tr><th scope=row>540</th><td>cdalliwatr65  </td><td>Cecil Dalliwatr    </td><td>12/5/1993 </td><td>cdalliwatr65@elegantthemes.com</td><td>AF</td><td>96824</td><td>6/9/2022  </td><td>travel</td></tr>\n",
              "\t<tr><th scope=row>554</th><td>mclimo6j      </td><td>Morgan Climo       </td><td>3/24/1998 </td><td>mclimo6j@wikipedia.org        </td><td>AF</td><td>65781</td><td>2/11/2021 </td><td>music </td></tr>\n",
              "\t<tr><th scope=row>570</th><td>rfeltham6z    </td><td>Robinette Feltham  </td><td>8/24/1992 </td><td>rfeltham6z@mysql.com          </td><td>AF</td><td>29251</td><td>7/18/2021 </td><td>sports</td></tr>\n",
              "\t<tr><th scope=row>578</th><td>dbartalin77   </td><td>Desiree Bartalin   </td><td>8/23/1993 </td><td>dbartalin77@usda.gov          </td><td>AF</td><td>99618</td><td>5/30/2022 </td><td>music </td></tr>\n",
              "\t<tr><th scope=row>⋮</th><td>⋮</td><td>⋮</td><td>⋮</td><td>⋮</td><td>⋮</td><td>⋮</td><td>⋮</td><td>⋮</td></tr>\n",
              "\t<tr><th scope=row>1107</th><td>spretselllw   </td><td>Salim Pretsell      </td><td>5/28/1988 </td><td>spretselllw@e-recht24.de      </td><td>SA</td><td>41879</td><td>          </td><td>music </td></tr>\n",
              "\t<tr><th scope=row>1112</th><td>thaackerm1    </td><td>Tomaso Haacker      </td><td>          </td><td>thaackerm1@vinaora.com        </td><td>SA</td><td>66310</td><td>6/7/2023  </td><td>travel</td></tr>\n",
              "\t<tr><th scope=row>1119</th><td>rosoriom8     </td><td>Rahel Osorio        </td><td>7/6/1995  </td><td>rosoriom8@nasa.gov            </td><td>SA</td><td>58614</td><td>          </td><td>sports</td></tr>\n",
              "\t<tr><th scope=row>1120</th><td>rkelwickm9    </td><td>Randell Kelwick     </td><td>4/22/1984 </td><td>rkelwickm9@mac.com            </td><td>SA</td><td>54807</td><td>11/17/2021</td><td>music </td></tr>\n",
              "\t<tr><th scope=row>1130</th><td>rdingatemj    </td><td>Ransom Dingate      </td><td>7/19/1985 </td><td>rdingatemj@sciencedirect.com  </td><td>SA</td><td>39477</td><td>          </td><td>travel</td></tr>\n",
              "\t<tr><th scope=row>1131</th><td>sshillingtonmk</td><td>Sidonnie Shillington</td><td>3/19/1999 </td><td>sshillingtonmk@ask.com        </td><td>SA</td><td>41360</td><td>5/23/2023 </td><td>sports</td></tr>\n",
              "\t<tr><th scope=row>1132</th><td>hkeanml       </td><td>Hervey Kean         </td><td>7/6/1983  </td><td>hkeanml@nasa.gov              </td><td>SA</td><td>59028</td><td>          </td><td>sports</td></tr>\n",
              "\t<tr><th scope=row>1152</th><td>nworlandn5    </td><td>Nigel Worland       </td><td>8/12/1989 </td><td>nworlandn5@economist.com      </td><td>SA</td><td>84191</td><td>6/28/2023 </td><td>music </td></tr>\n",
              "\t<tr><th scope=row>1163</th><td>etumberng     </td><td>Eloisa Tumber       </td><td>7/15/1984 </td><td>etumberng@hhs.gov             </td><td>SA</td><td>52155</td><td>2/1/2021  </td><td>music </td></tr>\n",
              "\t<tr><th scope=row>1164</th><td>uscrippsnh    </td><td>Ursulina Scripps    </td><td>10/8/1994 </td><td>uscrippsnh@yellowbook.com     </td><td>SA</td><td>53463</td><td>11/18/2020</td><td>travel</td></tr>\n",
              "\t<tr><th scope=row>1167</th><td>rgriffinnk    </td><td>Raff Griffin        </td><td>5/5/1993  </td><td>rgriffinnk@latimes.com        </td><td>SA</td><td>37237</td><td>11/13/2020</td><td>travel</td></tr>\n",
              "\t<tr><th scope=row>1168</th><td>slangdalenl   </td><td>See Langdale        </td><td>4/9/1983  </td><td>slangdalenl@people.com.cn     </td><td>SA</td><td>86100</td><td>10/5/2021 </td><td>music </td></tr>\n",
              "\t<tr><th scope=row>1170</th><td>toveralnn     </td><td>Tabby Overal        </td><td>9/8/1996  </td><td>toveralnn@paypal.com          </td><td>SA</td><td>92124</td><td>          </td><td>music </td></tr>\n",
              "\t<tr><th scope=row>1176</th><td>wmilesnt      </td><td>Wilona Miles        </td><td>7/8/1993  </td><td>wmilesnt@discovery.com        </td><td>SA</td><td> 2984</td><td>10/16/2022</td><td>music </td></tr>\n",
              "\t<tr><th scope=row>1178</th><td>fbranthwaitenv</td><td>Flinn Branthwaite   </td><td>          </td><td>fbranthwaitenv@craigslist.org </td><td>SA</td><td> 9000</td><td>7/10/2022 </td><td>travel</td></tr>\n",
              "\t<tr><th scope=row>1194</th><td>pdemongeob    </td><td>Paolo Demonge       </td><td>5/8/1990  </td><td>pdemongeob@time.com           </td><td>SA</td><td>75867</td><td>11/22/2021</td><td>travel</td></tr>\n",
              "\t<tr><th scope=row>1215</th><td>glapworthow   </td><td>Glenine Lapworth    </td><td>5/17/1980 </td><td>glapworthow@disqus.com        </td><td>SA</td><td>85960</td><td>3/17/2020 </td><td>sports</td></tr>\n",
              "\t<tr><th scope=row>1220</th><td>wesmeadp1     </td><td>Winona Esmead       </td><td>10/28/2000</td><td>wesmeadp1@mashable.com        </td><td>SA</td><td>55486</td><td>5/20/2021 </td><td>travel</td></tr>\n",
              "\t<tr><th scope=row>1223</th><td>ssnapp4       </td><td>Sara Snap           </td><td>9/6/1986  </td><td>ssnapp4@miibeian.gov.cn       </td><td>SA</td><td>44192</td><td>5/1/2023  </td><td>music </td></tr>\n",
              "\t<tr><th scope=row>1229</th><td>nmcgingpa     </td><td>Nadia McGing        </td><td>12/15/1991</td><td>nmcgingpa@patch.com           </td><td>SA</td><td>35006</td><td>          </td><td>travel</td></tr>\n",
              "\t<tr><th scope=row>1231</th><td>ndrewettpc    </td><td>Noelani Drewett     </td><td>12/31/1990</td><td>ndrewettpc@howstuffworks.com  </td><td>SA</td><td>49131</td><td>9/12/2021 </td><td>sports</td></tr>\n",
              "\t<tr><th scope=row>1238</th><td>dgreenwoodpj  </td><td>David Greenwood     </td><td>11/5/1980 </td><td>dgreenwoodpj@sakura.ne.jp     </td><td>SA</td><td>23681</td><td>10/23/2021</td><td>sports</td></tr>\n",
              "\t<tr><th scope=row>1248</th><td>kraspelpt     </td><td>Kippie Raspel       </td><td>5/17/2002 </td><td>kraspelpt@networksolutions.com</td><td>SA</td><td> 4114</td><td>2/14/2022 </td><td>music </td></tr>\n",
              "\t<tr><th scope=row>1255</th><td>ebradlaughq0  </td><td>Edita Bradlaugh     </td><td>9/10/1981 </td><td>ebradlaughq0@delicious.com    </td><td>SA</td><td>62398</td><td>9/17/2023 </td><td>music </td></tr>\n",
              "\t<tr><th scope=row>1262</th><td>etimbridgeq7  </td><td>Ellswerth Timbridge </td><td>7/18/1993 </td><td>etimbridgeq7@cbslocal.com     </td><td>SA</td><td>50884</td><td>1/8/2023  </td><td>sports</td></tr>\n",
              "\t<tr><th scope=row>1263</th><td>ngroobyq8     </td><td>Nickolaus Grooby    </td><td>8/24/1989 </td><td>ngroobyq8@dailymail.co.uk     </td><td>SA</td><td>21377</td><td>          </td><td>travel</td></tr>\n",
              "\t<tr><th scope=row>1280</th><td>lbyasqp       </td><td>Lothaire Byas       </td><td>1/28/1992 </td><td>lbyasqp@merriam-webster.com   </td><td>SA</td><td>10235</td><td>8/22/2021 </td><td>sports</td></tr>\n",
              "\t<tr><th scope=row>1295</th><td>ksturdeyr4    </td><td>Krissie Sturdey     </td><td>8/13/1980 </td><td>ksturdeyr4@skyrock.com        </td><td>SA</td><td>37880</td><td>4/17/2020 </td><td>travel</td></tr>\n",
              "\t<tr><th scope=row>1296</th><td>qrogeronr5    </td><td>Quent Rogeron       </td><td>          </td><td>qrogeronr5@merriam-webster.com</td><td>SA</td><td>76526</td><td>8/22/2023 </td><td>travel</td></tr>\n",
              "\t<tr><th scope=row>1309</th><td>lnorwellri    </td><td>Lelia Norwell       </td><td>          </td><td>lnorwellri@slate.com          </td><td>SA</td><td>51920</td><td>1/11/2023 </td><td>travel</td></tr>\n",
              "</tbody>\n",
              "</table>\n"
            ],
            "text/markdown": "\nA data.frame: 653 × 8\n\n| <!--/--> | username &lt;chr&gt; | full_name &lt;chr&gt; | birthdate &lt;chr&gt; | email &lt;chr&gt; | continent &lt;chr&gt; | followers &lt;int&gt; | last_login &lt;chr&gt; | interests &lt;chr&gt; |\n|---|---|---|---|---|---|---|---|---|\n| 7 | ttotman6       | Tamqrah Totman      | 8/7/1986   | ttotman6@elpais.com            | AF | 42669 | 3/10/2023  | music  |\n| 11 | hallensona     | Hayward Allenson    | 3/15/1983  | hallensona@wp.com              | AF | 81042 | <!----> | travel |\n| 12 | mchittockb     | Myriam Chittock     | 1/26/1989  | mchittockb@uiuc.edu            | AF | 46304 | 8/29/2023  | sports |\n| 14 | aeasbyd        | Alessandra Easby    | 1/5/1991   | aeasbyd@google.ca              | AF | 16786 | 6/15/2023  | sports |\n| 19 | omarusiki      | Otha Marusik        | 12/4/1992  | omarusiki@cdbaby.com           | AF | 93981 | 2/4/2022   | travel |\n| 21 | sspenclayk     | Scott Spenclay      | 12/7/1989  | sspenclayk@wikispaces.com      | AF | 31745 | 11/29/2022 | sports |\n| 25 | jquareo        | Joey Quare          | 11/19/1999 | jquareo@furl.net               | AF | 68116 | <!----> | sports |\n| 26 | rbellonp       | Rodolph Bellon      | 8/30/2002  | rbellonp@cisco.com             | AF | 96337 | <!----> | music  |\n| 27 | chawesq        | Courtnay Hawes      | <!----> | chawesq@deviantart.com         | AF |   435 | 3/19/2023  | music  |\n| 36 | amcclellandz   | Annabela McClelland | 8/12/1983  | amcclellandz@soundcloud.com    | AF | 51483 | 5/3/2020   | sports |\n| 51 | abalmadier1e   | Abra Balmadier      | <!----> | abalmadier1e@1und1.de          | AF | 30487 | <!----> | music  |\n| 67 | tmcnish1u      | Tally McNish        | 10/24/1990 | tmcnish1u@unesco.org           | AF | 16933 | 12/24/2021 | music  |\n| 69 | abydaway1w     | Ancell Bydaway      | 7/16/1989  | abydaway1w@walmart.com         | AF | 68712 | 6/8/2023   | travel |\n| 93 | hboriston2k    | Harley Boriston     | 2/15/2002  | hboriston2k@phpbb.com          | AF | 83578 | 2/27/2021  | sports |\n| 145 | dmacturlough40 | Dave MacTurlough    | 4/1/1993   | dmacturlough40@oakley.com      | AF | 71818 | 11/2/2021  | travel |\n| 151 | tpayle46       | Tracey Payle        | 5/15/1999  | tpayle46@addtoany.com          | AF | 29492 | 3/8/2020   | music  |\n| 156 | bbaggalley4b   | Bartie Baggalley    | 1/17/1993  | bbaggalley4b@phpbb.com         | AF | 27301 | <!----> | sports |\n| 159 | tpye4e         | Timothee Pye        | 2/25/1995  | tpye4e@goo.ne.jp               | AF | 89247 | 1/1/2020   | sports |\n| 165 | melintune4k    | Mab Elintune        | 7/16/1992  | melintune4k@blog.com           | AF | 63972 | 9/6/2020   | sports |\n| 172 | ysamuel4r      | Ysabel Samuel       | 1/6/2001   | ysamuel4r@wikispaces.com       | AF | 96450 | <!----> | sports |\n| 498 | sbauchop4z     | Sheree Bauchop      | 10/1/1983  | sbauchop4z@unesco.org          | AF | 10599 | 1/4/2021   | music  |\n| 505 | mbladon56      | Madelina Bladon     | <!----> | mbladon56@discuz.net           | AF | 72518 | 8/23/2022  | travel |\n| 522 | ofairpo5n      | Ottilie Fairpo      | <!----> | ofairpo5n@forbes.com           | AF | 95632 | <!----> | sports |\n| 523 | bmatz5o        | Bernelle Matz       | 6/17/2002  | bmatz5o@ycombinator.com        | AF | 49399 | 2/23/2021  | music  |\n| 525 | rmeneo5q       | Rosa Meneo          | 8/5/1983   | rmeneo5q@google.it             | AF | 91855 | 11/11/2023 | sports |\n| 539 | mtremeer64     | Maison Tremeer      | <!----> | mtremeer64@spiegel.de          | AF | 98545 | <!----> | music  |\n| 540 | cdalliwatr65   | Cecil Dalliwatr     | 12/5/1993  | cdalliwatr65@elegantthemes.com | AF | 96824 | 6/9/2022   | travel |\n| 554 | mclimo6j       | Morgan Climo        | 3/24/1998  | mclimo6j@wikipedia.org         | AF | 65781 | 2/11/2021  | music  |\n| 570 | rfeltham6z     | Robinette Feltham   | 8/24/1992  | rfeltham6z@mysql.com           | AF | 29251 | 7/18/2021  | sports |\n| 578 | dbartalin77    | Desiree Bartalin    | 8/23/1993  | dbartalin77@usda.gov           | AF | 99618 | 5/30/2022  | music  |\n| ⋮ | ⋮ | ⋮ | ⋮ | ⋮ | ⋮ | ⋮ | ⋮ | ⋮ |\n| 1107 | spretselllw    | Salim Pretsell       | 5/28/1988  | spretselllw@e-recht24.de       | SA | 41879 | <!----> | music  |\n| 1112 | thaackerm1     | Tomaso Haacker       | <!----> | thaackerm1@vinaora.com         | SA | 66310 | 6/7/2023   | travel |\n| 1119 | rosoriom8      | Rahel Osorio         | 7/6/1995   | rosoriom8@nasa.gov             | SA | 58614 | <!----> | sports |\n| 1120 | rkelwickm9     | Randell Kelwick      | 4/22/1984  | rkelwickm9@mac.com             | SA | 54807 | 11/17/2021 | music  |\n| 1130 | rdingatemj     | Ransom Dingate       | 7/19/1985  | rdingatemj@sciencedirect.com   | SA | 39477 | <!----> | travel |\n| 1131 | sshillingtonmk | Sidonnie Shillington | 3/19/1999  | sshillingtonmk@ask.com         | SA | 41360 | 5/23/2023  | sports |\n| 1132 | hkeanml        | Hervey Kean          | 7/6/1983   | hkeanml@nasa.gov               | SA | 59028 | <!----> | sports |\n| 1152 | nworlandn5     | Nigel Worland        | 8/12/1989  | nworlandn5@economist.com       | SA | 84191 | 6/28/2023  | music  |\n| 1163 | etumberng      | Eloisa Tumber        | 7/15/1984  | etumberng@hhs.gov              | SA | 52155 | 2/1/2021   | music  |\n| 1164 | uscrippsnh     | Ursulina Scripps     | 10/8/1994  | uscrippsnh@yellowbook.com      | SA | 53463 | 11/18/2020 | travel |\n| 1167 | rgriffinnk     | Raff Griffin         | 5/5/1993   | rgriffinnk@latimes.com         | SA | 37237 | 11/13/2020 | travel |\n| 1168 | slangdalenl    | See Langdale         | 4/9/1983   | slangdalenl@people.com.cn      | SA | 86100 | 10/5/2021  | music  |\n| 1170 | toveralnn      | Tabby Overal         | 9/8/1996   | toveralnn@paypal.com           | SA | 92124 | <!----> | music  |\n| 1176 | wmilesnt       | Wilona Miles         | 7/8/1993   | wmilesnt@discovery.com         | SA |  2984 | 10/16/2022 | music  |\n| 1178 | fbranthwaitenv | Flinn Branthwaite    | <!----> | fbranthwaitenv@craigslist.org  | SA |  9000 | 7/10/2022  | travel |\n| 1194 | pdemongeob     | Paolo Demonge        | 5/8/1990   | pdemongeob@time.com            | SA | 75867 | 11/22/2021 | travel |\n| 1215 | glapworthow    | Glenine Lapworth     | 5/17/1980  | glapworthow@disqus.com         | SA | 85960 | 3/17/2020  | sports |\n| 1220 | wesmeadp1      | Winona Esmead        | 10/28/2000 | wesmeadp1@mashable.com         | SA | 55486 | 5/20/2021  | travel |\n| 1223 | ssnapp4        | Sara Snap            | 9/6/1986   | ssnapp4@miibeian.gov.cn        | SA | 44192 | 5/1/2023   | music  |\n| 1229 | nmcgingpa      | Nadia McGing         | 12/15/1991 | nmcgingpa@patch.com            | SA | 35006 | <!----> | travel |\n| 1231 | ndrewettpc     | Noelani Drewett      | 12/31/1990 | ndrewettpc@howstuffworks.com   | SA | 49131 | 9/12/2021  | sports |\n| 1238 | dgreenwoodpj   | David Greenwood      | 11/5/1980  | dgreenwoodpj@sakura.ne.jp      | SA | 23681 | 10/23/2021 | sports |\n| 1248 | kraspelpt      | Kippie Raspel        | 5/17/2002  | kraspelpt@networksolutions.com | SA |  4114 | 2/14/2022  | music  |\n| 1255 | ebradlaughq0   | Edita Bradlaugh      | 9/10/1981  | ebradlaughq0@delicious.com     | SA | 62398 | 9/17/2023  | music  |\n| 1262 | etimbridgeq7   | Ellswerth Timbridge  | 7/18/1993  | etimbridgeq7@cbslocal.com      | SA | 50884 | 1/8/2023   | sports |\n| 1263 | ngroobyq8      | Nickolaus Grooby     | 8/24/1989  | ngroobyq8@dailymail.co.uk      | SA | 21377 | <!----> | travel |\n| 1280 | lbyasqp        | Lothaire Byas        | 1/28/1992  | lbyasqp@merriam-webster.com    | SA | 10235 | 8/22/2021  | sports |\n| 1295 | ksturdeyr4     | Krissie Sturdey      | 8/13/1980  | ksturdeyr4@skyrock.com         | SA | 37880 | 4/17/2020  | travel |\n| 1296 | qrogeronr5     | Quent Rogeron        | <!----> | qrogeronr5@merriam-webster.com | SA | 76526 | 8/22/2023  | travel |\n| 1309 | lnorwellri     | Lelia Norwell        | <!----> | lnorwellri@slate.com           | SA | 51920 | 1/11/2023  | travel |\n\n",
            "text/latex": "A data.frame: 653 × 8\n\\begin{tabular}{r|llllllll}\n  & username & full\\_name & birthdate & email & continent & followers & last\\_login & interests\\\\\n  & <chr> & <chr> & <chr> & <chr> & <chr> & <int> & <chr> & <chr>\\\\\n\\hline\n\t7 & ttotman6       & Tamqrah Totman      & 8/7/1986   & ttotman6@elpais.com            & AF & 42669 & 3/10/2023  & music \\\\\n\t11 & hallensona     & Hayward Allenson    & 3/15/1983  & hallensona@wp.com              & AF & 81042 &            & travel\\\\\n\t12 & mchittockb     & Myriam Chittock     & 1/26/1989  & mchittockb@uiuc.edu            & AF & 46304 & 8/29/2023  & sports\\\\\n\t14 & aeasbyd        & Alessandra Easby    & 1/5/1991   & aeasbyd@google.ca              & AF & 16786 & 6/15/2023  & sports\\\\\n\t19 & omarusiki      & Otha Marusik        & 12/4/1992  & omarusiki@cdbaby.com           & AF & 93981 & 2/4/2022   & travel\\\\\n\t21 & sspenclayk     & Scott Spenclay      & 12/7/1989  & sspenclayk@wikispaces.com      & AF & 31745 & 11/29/2022 & sports\\\\\n\t25 & jquareo        & Joey Quare          & 11/19/1999 & jquareo@furl.net               & AF & 68116 &            & sports\\\\\n\t26 & rbellonp       & Rodolph Bellon      & 8/30/2002  & rbellonp@cisco.com             & AF & 96337 &            & music \\\\\n\t27 & chawesq        & Courtnay Hawes      &            & chawesq@deviantart.com         & AF &   435 & 3/19/2023  & music \\\\\n\t36 & amcclellandz   & Annabela McClelland & 8/12/1983  & amcclellandz@soundcloud.com    & AF & 51483 & 5/3/2020   & sports\\\\\n\t51 & abalmadier1e   & Abra Balmadier      &            & abalmadier1e@1und1.de          & AF & 30487 &            & music \\\\\n\t67 & tmcnish1u      & Tally McNish        & 10/24/1990 & tmcnish1u@unesco.org           & AF & 16933 & 12/24/2021 & music \\\\\n\t69 & abydaway1w     & Ancell Bydaway      & 7/16/1989  & abydaway1w@walmart.com         & AF & 68712 & 6/8/2023   & travel\\\\\n\t93 & hboriston2k    & Harley Boriston     & 2/15/2002  & hboriston2k@phpbb.com          & AF & 83578 & 2/27/2021  & sports\\\\\n\t145 & dmacturlough40 & Dave MacTurlough    & 4/1/1993   & dmacturlough40@oakley.com      & AF & 71818 & 11/2/2021  & travel\\\\\n\t151 & tpayle46       & Tracey Payle        & 5/15/1999  & tpayle46@addtoany.com          & AF & 29492 & 3/8/2020   & music \\\\\n\t156 & bbaggalley4b   & Bartie Baggalley    & 1/17/1993  & bbaggalley4b@phpbb.com         & AF & 27301 &            & sports\\\\\n\t159 & tpye4e         & Timothee Pye        & 2/25/1995  & tpye4e@goo.ne.jp               & AF & 89247 & 1/1/2020   & sports\\\\\n\t165 & melintune4k    & Mab Elintune        & 7/16/1992  & melintune4k@blog.com           & AF & 63972 & 9/6/2020   & sports\\\\\n\t172 & ysamuel4r      & Ysabel Samuel       & 1/6/2001   & ysamuel4r@wikispaces.com       & AF & 96450 &            & sports\\\\\n\t498 & sbauchop4z     & Sheree Bauchop      & 10/1/1983  & sbauchop4z@unesco.org          & AF & 10599 & 1/4/2021   & music \\\\\n\t505 & mbladon56      & Madelina Bladon     &            & mbladon56@discuz.net           & AF & 72518 & 8/23/2022  & travel\\\\\n\t522 & ofairpo5n      & Ottilie Fairpo      &            & ofairpo5n@forbes.com           & AF & 95632 &            & sports\\\\\n\t523 & bmatz5o        & Bernelle Matz       & 6/17/2002  & bmatz5o@ycombinator.com        & AF & 49399 & 2/23/2021  & music \\\\\n\t525 & rmeneo5q       & Rosa Meneo          & 8/5/1983   & rmeneo5q@google.it             & AF & 91855 & 11/11/2023 & sports\\\\\n\t539 & mtremeer64     & Maison Tremeer      &            & mtremeer64@spiegel.de          & AF & 98545 &            & music \\\\\n\t540 & cdalliwatr65   & Cecil Dalliwatr     & 12/5/1993  & cdalliwatr65@elegantthemes.com & AF & 96824 & 6/9/2022   & travel\\\\\n\t554 & mclimo6j       & Morgan Climo        & 3/24/1998  & mclimo6j@wikipedia.org         & AF & 65781 & 2/11/2021  & music \\\\\n\t570 & rfeltham6z     & Robinette Feltham   & 8/24/1992  & rfeltham6z@mysql.com           & AF & 29251 & 7/18/2021  & sports\\\\\n\t578 & dbartalin77    & Desiree Bartalin    & 8/23/1993  & dbartalin77@usda.gov           & AF & 99618 & 5/30/2022  & music \\\\\n\t⋮ & ⋮ & ⋮ & ⋮ & ⋮ & ⋮ & ⋮ & ⋮ & ⋮\\\\\n\t1107 & spretselllw    & Salim Pretsell       & 5/28/1988  & spretselllw@e-recht24.de       & SA & 41879 &            & music \\\\\n\t1112 & thaackerm1     & Tomaso Haacker       &            & thaackerm1@vinaora.com         & SA & 66310 & 6/7/2023   & travel\\\\\n\t1119 & rosoriom8      & Rahel Osorio         & 7/6/1995   & rosoriom8@nasa.gov             & SA & 58614 &            & sports\\\\\n\t1120 & rkelwickm9     & Randell Kelwick      & 4/22/1984  & rkelwickm9@mac.com             & SA & 54807 & 11/17/2021 & music \\\\\n\t1130 & rdingatemj     & Ransom Dingate       & 7/19/1985  & rdingatemj@sciencedirect.com   & SA & 39477 &            & travel\\\\\n\t1131 & sshillingtonmk & Sidonnie Shillington & 3/19/1999  & sshillingtonmk@ask.com         & SA & 41360 & 5/23/2023  & sports\\\\\n\t1132 & hkeanml        & Hervey Kean          & 7/6/1983   & hkeanml@nasa.gov               & SA & 59028 &            & sports\\\\\n\t1152 & nworlandn5     & Nigel Worland        & 8/12/1989  & nworlandn5@economist.com       & SA & 84191 & 6/28/2023  & music \\\\\n\t1163 & etumberng      & Eloisa Tumber        & 7/15/1984  & etumberng@hhs.gov              & SA & 52155 & 2/1/2021   & music \\\\\n\t1164 & uscrippsnh     & Ursulina Scripps     & 10/8/1994  & uscrippsnh@yellowbook.com      & SA & 53463 & 11/18/2020 & travel\\\\\n\t1167 & rgriffinnk     & Raff Griffin         & 5/5/1993   & rgriffinnk@latimes.com         & SA & 37237 & 11/13/2020 & travel\\\\\n\t1168 & slangdalenl    & See Langdale         & 4/9/1983   & slangdalenl@people.com.cn      & SA & 86100 & 10/5/2021  & music \\\\\n\t1170 & toveralnn      & Tabby Overal         & 9/8/1996   & toveralnn@paypal.com           & SA & 92124 &            & music \\\\\n\t1176 & wmilesnt       & Wilona Miles         & 7/8/1993   & wmilesnt@discovery.com         & SA &  2984 & 10/16/2022 & music \\\\\n\t1178 & fbranthwaitenv & Flinn Branthwaite    &            & fbranthwaitenv@craigslist.org  & SA &  9000 & 7/10/2022  & travel\\\\\n\t1194 & pdemongeob     & Paolo Demonge        & 5/8/1990   & pdemongeob@time.com            & SA & 75867 & 11/22/2021 & travel\\\\\n\t1215 & glapworthow    & Glenine Lapworth     & 5/17/1980  & glapworthow@disqus.com         & SA & 85960 & 3/17/2020  & sports\\\\\n\t1220 & wesmeadp1      & Winona Esmead        & 10/28/2000 & wesmeadp1@mashable.com         & SA & 55486 & 5/20/2021  & travel\\\\\n\t1223 & ssnapp4        & Sara Snap            & 9/6/1986   & ssnapp4@miibeian.gov.cn        & SA & 44192 & 5/1/2023   & music \\\\\n\t1229 & nmcgingpa      & Nadia McGing         & 12/15/1991 & nmcgingpa@patch.com            & SA & 35006 &            & travel\\\\\n\t1231 & ndrewettpc     & Noelani Drewett      & 12/31/1990 & ndrewettpc@howstuffworks.com   & SA & 49131 & 9/12/2021  & sports\\\\\n\t1238 & dgreenwoodpj   & David Greenwood      & 11/5/1980  & dgreenwoodpj@sakura.ne.jp      & SA & 23681 & 10/23/2021 & sports\\\\\n\t1248 & kraspelpt      & Kippie Raspel        & 5/17/2002  & kraspelpt@networksolutions.com & SA &  4114 & 2/14/2022  & music \\\\\n\t1255 & ebradlaughq0   & Edita Bradlaugh      & 9/10/1981  & ebradlaughq0@delicious.com     & SA & 62398 & 9/17/2023  & music \\\\\n\t1262 & etimbridgeq7   & Ellswerth Timbridge  & 7/18/1993  & etimbridgeq7@cbslocal.com      & SA & 50884 & 1/8/2023   & sports\\\\\n\t1263 & ngroobyq8      & Nickolaus Grooby     & 8/24/1989  & ngroobyq8@dailymail.co.uk      & SA & 21377 &            & travel\\\\\n\t1280 & lbyasqp        & Lothaire Byas        & 1/28/1992  & lbyasqp@merriam-webster.com    & SA & 10235 & 8/22/2021  & sports\\\\\n\t1295 & ksturdeyr4     & Krissie Sturdey      & 8/13/1980  & ksturdeyr4@skyrock.com         & SA & 37880 & 4/17/2020  & travel\\\\\n\t1296 & qrogeronr5     & Quent Rogeron        &            & qrogeronr5@merriam-webster.com & SA & 76526 & 8/22/2023  & travel\\\\\n\t1309 & lnorwellri     & Lelia Norwell        &            & lnorwellri@slate.com           & SA & 51920 & 1/11/2023  & travel\\\\\n\\end{tabular}\n",
            "text/plain": [
              "     username       full_name            birthdate \n",
              "7    ttotman6       Tamqrah Totman       8/7/1986  \n",
              "11   hallensona     Hayward Allenson     3/15/1983 \n",
              "12   mchittockb     Myriam Chittock      1/26/1989 \n",
              "14   aeasbyd        Alessandra Easby     1/5/1991  \n",
              "19   omarusiki      Otha Marusik         12/4/1992 \n",
              "21   sspenclayk     Scott Spenclay       12/7/1989 \n",
              "25   jquareo        Joey Quare           11/19/1999\n",
              "26   rbellonp       Rodolph Bellon       8/30/2002 \n",
              "27   chawesq        Courtnay Hawes                 \n",
              "36   amcclellandz   Annabela McClelland  8/12/1983 \n",
              "51   abalmadier1e   Abra Balmadier                 \n",
              "67   tmcnish1u      Tally McNish         10/24/1990\n",
              "69   abydaway1w     Ancell Bydaway       7/16/1989 \n",
              "93   hboriston2k    Harley Boriston      2/15/2002 \n",
              "145  dmacturlough40 Dave MacTurlough     4/1/1993  \n",
              "151  tpayle46       Tracey Payle         5/15/1999 \n",
              "156  bbaggalley4b   Bartie Baggalley     1/17/1993 \n",
              "159  tpye4e         Timothee Pye         2/25/1995 \n",
              "165  melintune4k    Mab Elintune         7/16/1992 \n",
              "172  ysamuel4r      Ysabel Samuel        1/6/2001  \n",
              "498  sbauchop4z     Sheree Bauchop       10/1/1983 \n",
              "505  mbladon56      Madelina Bladon                \n",
              "522  ofairpo5n      Ottilie Fairpo                 \n",
              "523  bmatz5o        Bernelle Matz        6/17/2002 \n",
              "525  rmeneo5q       Rosa Meneo           8/5/1983  \n",
              "539  mtremeer64     Maison Tremeer                 \n",
              "540  cdalliwatr65   Cecil Dalliwatr      12/5/1993 \n",
              "554  mclimo6j       Morgan Climo         3/24/1998 \n",
              "570  rfeltham6z     Robinette Feltham    8/24/1992 \n",
              "578  dbartalin77    Desiree Bartalin     8/23/1993 \n",
              "⋮    ⋮              ⋮                    ⋮         \n",
              "1107 spretselllw    Salim Pretsell       5/28/1988 \n",
              "1112 thaackerm1     Tomaso Haacker                 \n",
              "1119 rosoriom8      Rahel Osorio         7/6/1995  \n",
              "1120 rkelwickm9     Randell Kelwick      4/22/1984 \n",
              "1130 rdingatemj     Ransom Dingate       7/19/1985 \n",
              "1131 sshillingtonmk Sidonnie Shillington 3/19/1999 \n",
              "1132 hkeanml        Hervey Kean          7/6/1983  \n",
              "1152 nworlandn5     Nigel Worland        8/12/1989 \n",
              "1163 etumberng      Eloisa Tumber        7/15/1984 \n",
              "1164 uscrippsnh     Ursulina Scripps     10/8/1994 \n",
              "1167 rgriffinnk     Raff Griffin         5/5/1993  \n",
              "1168 slangdalenl    See Langdale         4/9/1983  \n",
              "1170 toveralnn      Tabby Overal         9/8/1996  \n",
              "1176 wmilesnt       Wilona Miles         7/8/1993  \n",
              "1178 fbranthwaitenv Flinn Branthwaite              \n",
              "1194 pdemongeob     Paolo Demonge        5/8/1990  \n",
              "1215 glapworthow    Glenine Lapworth     5/17/1980 \n",
              "1220 wesmeadp1      Winona Esmead        10/28/2000\n",
              "1223 ssnapp4        Sara Snap            9/6/1986  \n",
              "1229 nmcgingpa      Nadia McGing         12/15/1991\n",
              "1231 ndrewettpc     Noelani Drewett      12/31/1990\n",
              "1238 dgreenwoodpj   David Greenwood      11/5/1980 \n",
              "1248 kraspelpt      Kippie Raspel        5/17/2002 \n",
              "1255 ebradlaughq0   Edita Bradlaugh      9/10/1981 \n",
              "1262 etimbridgeq7   Ellswerth Timbridge  7/18/1993 \n",
              "1263 ngroobyq8      Nickolaus Grooby     8/24/1989 \n",
              "1280 lbyasqp        Lothaire Byas        1/28/1992 \n",
              "1295 ksturdeyr4     Krissie Sturdey      8/13/1980 \n",
              "1296 qrogeronr5     Quent Rogeron                  \n",
              "1309 lnorwellri     Lelia Norwell                  \n",
              "     email                          continent followers last_login interests\n",
              "7    ttotman6@elpais.com            AF        42669     3/10/2023  music    \n",
              "11   hallensona@wp.com              AF        81042                travel   \n",
              "12   mchittockb@uiuc.edu            AF        46304     8/29/2023  sports   \n",
              "14   aeasbyd@google.ca              AF        16786     6/15/2023  sports   \n",
              "19   omarusiki@cdbaby.com           AF        93981     2/4/2022   travel   \n",
              "21   sspenclayk@wikispaces.com      AF        31745     11/29/2022 sports   \n",
              "25   jquareo@furl.net               AF        68116                sports   \n",
              "26   rbellonp@cisco.com             AF        96337                music    \n",
              "27   chawesq@deviantart.com         AF          435     3/19/2023  music    \n",
              "36   amcclellandz@soundcloud.com    AF        51483     5/3/2020   sports   \n",
              "51   abalmadier1e@1und1.de          AF        30487                music    \n",
              "67   tmcnish1u@unesco.org           AF        16933     12/24/2021 music    \n",
              "69   abydaway1w@walmart.com         AF        68712     6/8/2023   travel   \n",
              "93   hboriston2k@phpbb.com          AF        83578     2/27/2021  sports   \n",
              "145  dmacturlough40@oakley.com      AF        71818     11/2/2021  travel   \n",
              "151  tpayle46@addtoany.com          AF        29492     3/8/2020   music    \n",
              "156  bbaggalley4b@phpbb.com         AF        27301                sports   \n",
              "159  tpye4e@goo.ne.jp               AF        89247     1/1/2020   sports   \n",
              "165  melintune4k@blog.com           AF        63972     9/6/2020   sports   \n",
              "172  ysamuel4r@wikispaces.com       AF        96450                sports   \n",
              "498  sbauchop4z@unesco.org          AF        10599     1/4/2021   music    \n",
              "505  mbladon56@discuz.net           AF        72518     8/23/2022  travel   \n",
              "522  ofairpo5n@forbes.com           AF        95632                sports   \n",
              "523  bmatz5o@ycombinator.com        AF        49399     2/23/2021  music    \n",
              "525  rmeneo5q@google.it             AF        91855     11/11/2023 sports   \n",
              "539  mtremeer64@spiegel.de          AF        98545                music    \n",
              "540  cdalliwatr65@elegantthemes.com AF        96824     6/9/2022   travel   \n",
              "554  mclimo6j@wikipedia.org         AF        65781     2/11/2021  music    \n",
              "570  rfeltham6z@mysql.com           AF        29251     7/18/2021  sports   \n",
              "578  dbartalin77@usda.gov           AF        99618     5/30/2022  music    \n",
              "⋮    ⋮                              ⋮         ⋮         ⋮          ⋮        \n",
              "1107 spretselllw@e-recht24.de       SA        41879                music    \n",
              "1112 thaackerm1@vinaora.com         SA        66310     6/7/2023   travel   \n",
              "1119 rosoriom8@nasa.gov             SA        58614                sports   \n",
              "1120 rkelwickm9@mac.com             SA        54807     11/17/2021 music    \n",
              "1130 rdingatemj@sciencedirect.com   SA        39477                travel   \n",
              "1131 sshillingtonmk@ask.com         SA        41360     5/23/2023  sports   \n",
              "1132 hkeanml@nasa.gov               SA        59028                sports   \n",
              "1152 nworlandn5@economist.com       SA        84191     6/28/2023  music    \n",
              "1163 etumberng@hhs.gov              SA        52155     2/1/2021   music    \n",
              "1164 uscrippsnh@yellowbook.com      SA        53463     11/18/2020 travel   \n",
              "1167 rgriffinnk@latimes.com         SA        37237     11/13/2020 travel   \n",
              "1168 slangdalenl@people.com.cn      SA        86100     10/5/2021  music    \n",
              "1170 toveralnn@paypal.com           SA        92124                music    \n",
              "1176 wmilesnt@discovery.com         SA         2984     10/16/2022 music    \n",
              "1178 fbranthwaitenv@craigslist.org  SA         9000     7/10/2022  travel   \n",
              "1194 pdemongeob@time.com            SA        75867     11/22/2021 travel   \n",
              "1215 glapworthow@disqus.com         SA        85960     3/17/2020  sports   \n",
              "1220 wesmeadp1@mashable.com         SA        55486     5/20/2021  travel   \n",
              "1223 ssnapp4@miibeian.gov.cn        SA        44192     5/1/2023   music    \n",
              "1229 nmcgingpa@patch.com            SA        35006                travel   \n",
              "1231 ndrewettpc@howstuffworks.com   SA        49131     9/12/2021  sports   \n",
              "1238 dgreenwoodpj@sakura.ne.jp      SA        23681     10/23/2021 sports   \n",
              "1248 kraspelpt@networksolutions.com SA         4114     2/14/2022  music    \n",
              "1255 ebradlaughq0@delicious.com     SA        62398     9/17/2023  music    \n",
              "1262 etimbridgeq7@cbslocal.com      SA        50884     1/8/2023   sports   \n",
              "1263 ngroobyq8@dailymail.co.uk      SA        21377                travel   \n",
              "1280 lbyasqp@merriam-webster.com    SA        10235     8/22/2021  sports   \n",
              "1295 ksturdeyr4@skyrock.com         SA        37880     4/17/2020  travel   \n",
              "1296 qrogeronr5@merriam-webster.com SA        76526     8/22/2023  travel   \n",
              "1309 lnorwellri@slate.com           SA        51920     1/11/2023  travel   "
            ]
          },
          "metadata": {}
        }
      ]
    },
    {
      "cell_type": "code",
      "source": [
        "ggplot(df_by_continent[df_by_continent], aes(x=continent)) +\n",
        "  geom_bar(stat=\"identity\")"
      ],
      "metadata": {
        "colab": {
          "base_uri": "https://localhost:8080/",
          "height": 191
        },
        "id": "er883nQOD5Fx",
        "outputId": "f94a8e48-7441-4216-a128-eb7afb36ad75"
      },
      "execution_count": 68,
      "outputs": [
        {
          "output_type": "error",
          "ename": "ERROR",
          "evalue": "ignored",
          "traceback": [
            "Error in `[.default`(df_by_continent, df_by_continent): invalid subscript type 'list'\nTraceback:\n",
            "1. ggplot(df_by_continent[df_by_continent], aes(x = continent))",
            "2. df_by_continent[df_by_continent]",
            "3. `[.data.frame`(df_by_continent, df_by_continent)",
            "4. NextMethod(\"[\")"
          ]
        }
      ]
    }
  ]
}